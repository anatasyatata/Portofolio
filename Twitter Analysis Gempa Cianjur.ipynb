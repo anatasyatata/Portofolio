{
  "nbformat": 4,
  "nbformat_minor": 0,
  "metadata": {
    "colab": {
      "provenance": [],
      "include_colab_link": true
    },
    "kernelspec": {
      "name": "python3",
      "display_name": "Python 3"
    },
    "language_info": {
      "name": "python"
    }
  },
  "cells": [
    {
      "cell_type": "markdown",
      "metadata": {
        "id": "view-in-github",
        "colab_type": "text"
      },
      "source": [
        "<a href=\"https://colab.research.google.com/github/anatasyatata/Portofolio/blob/main/Twitter%20Analysis%20Gempa%20Cianjur.ipynb\" target=\"_parent\"><img src=\"https://colab.research.google.com/assets/colab-badge.svg\" alt=\"Open In Colab\"/></a>"
      ]
    },
    {
      "cell_type": "markdown",
      "source": [
        "# **KELOMPOK 10**\n",
        "* Anatasya Oktaviani Handriati (1906296186)\n",
        "* Athaya Yumna Fathiyah (1906296192)\n",
        "* Chika Ramadhani (1906374004)\n",
        "* Vania Adisaputri (1906296362)"
      ],
      "metadata": {
        "id": "Vwnp20JiHqOR"
      }
    },
    {
      "cell_type": "markdown",
      "source": [
        "# **Link Video Presentasi**"
      ],
      "metadata": {
        "id": "rSYj7tBD719d"
      }
    },
    {
      "cell_type": "markdown",
      "source": [
        "https://drive.google.com/file/d/1nNFF3VmwSDDkBnATiU7k9ZBmVZT3ET7K/view?usp=share_link"
      ],
      "metadata": {
        "id": "8400E4r475w8"
      }
    },
    {
      "cell_type": "markdown",
      "source": [
        "# **1. Pendahuluan**"
      ],
      "metadata": {
        "id": "ZBCRAQuG3brS"
      }
    },
    {
      "cell_type": "markdown",
      "source": [
        "# **Latar Belakang**"
      ],
      "metadata": {
        "id": "ERUyaTkTKhun"
      }
    },
    {
      "cell_type": "markdown",
      "source": [
        "**Pada era globalisasi, pengguna media sosial semakin banyak.Media sosial memberikan kemudahan bagi pengguna dalam berkomunikasi dan menyebarkan informasi. Terdapat berbagai macam media sosial yang digunakan oleh masyarakat saat ini, salah satunya adalah twitter. Twitter adalah suatu situs yang dapat memuat  teks, foto, video, dan juga tautan. Antar pengguna twitter pun dapat saling berkomentar terhadap informasi yang dibagikan. Percakapan antar pengguna ini terkadang menunjukkan isu yang sedang terjadi, misalnya terkait dengan kejadian gempa di Jawa Barat. Pembicaraan gempa di jawa barat yang ada di media sosial semakin banyak, terlebih saat adanya gempa di tahun 2022 yang terjadi secara berulang kali dan menimbulkan kerusakan dan korban jiwa yang banyak.**"
      ],
      "metadata": {
        "id": "lWu4-VvgOFce"
      }
    },
    {
      "cell_type": "markdown",
      "source": [
        "# **Rumusan Masalah**\n",
        "\n",
        "\n",
        "\n",
        "1.   **Pada saat kapan tweet gempa sering muncul di media sosial twitter?**\n",
        "​\n",
        "2.   **Tweet apa saja yang dominan diunggah oleh pengguna twitter terkait dengan gempa di Jawa Barat?**\n",
        "\n",
        "3. **Akun apa saja yang dominan mengunggah tweet mengenai gempa di Jawa Barat?​**\n",
        "\n",
        "4. **Akun apa saja yang berperan penting dalam penyebaran informasi mengenai gempa di Jawa Barat?​**\n",
        "\n"
      ],
      "metadata": {
        "id": "sgXTp4KEKlLN"
      }
    },
    {
      "cell_type": "markdown",
      "source": [
        "# **2. Import Package dan Data**"
      ],
      "metadata": {
        "id": "XVkFVUT6DHsb"
      }
    },
    {
      "cell_type": "markdown",
      "source": [
        "**Pertama-tama akan dilakukan install dan import package yang akan digunakan.**"
      ],
      "metadata": {
        "id": "ZLcQDLinHdJ4"
      }
    },
    {
      "cell_type": "code",
      "source": [
        "pip install Sastrawi"
      ],
      "metadata": {
        "id": "v_vIg8vvDbhg",
        "colab": {
          "base_uri": "https://localhost:8080/"
        },
        "outputId": "0ab49c51-9203-4713-e49a-cc6141bf49fc"
      },
      "execution_count": null,
      "outputs": [
        {
          "output_type": "stream",
          "name": "stdout",
          "text": [
            "Looking in indexes: https://pypi.org/simple, https://us-python.pkg.dev/colab-wheels/public/simple/\n",
            "Requirement already satisfied: Sastrawi in /usr/local/lib/python3.8/dist-packages (1.0.1)\n"
          ]
        }
      ]
    },
    {
      "cell_type": "code",
      "source": [
        "pip install unidecode"
      ],
      "metadata": {
        "id": "6vxeZgRTDdp8",
        "colab": {
          "base_uri": "https://localhost:8080/"
        },
        "outputId": "830b5aa6-800a-4d66-825a-ba48114e3334"
      },
      "execution_count": null,
      "outputs": [
        {
          "output_type": "stream",
          "name": "stdout",
          "text": [
            "Looking in indexes: https://pypi.org/simple, https://us-python.pkg.dev/colab-wheels/public/simple/\n",
            "Requirement already satisfied: unidecode in /usr/local/lib/python3.8/dist-packages (1.3.6)\n"
          ]
        }
      ]
    },
    {
      "cell_type": "code",
      "source": [
        "pip install --user -U nltk"
      ],
      "metadata": {
        "id": "79HVvt42bgig",
        "colab": {
          "base_uri": "https://localhost:8080/"
        },
        "outputId": "0a7d94d1-f34e-47c4-f4fd-be81a009dcce"
      },
      "execution_count": null,
      "outputs": [
        {
          "output_type": "stream",
          "name": "stdout",
          "text": [
            "Looking in indexes: https://pypi.org/simple, https://us-python.pkg.dev/colab-wheels/public/simple/\n",
            "Requirement already satisfied: nltk in /root/.local/lib/python3.8/site-packages (3.8)\n",
            "Requirement already satisfied: tqdm in /usr/local/lib/python3.8/dist-packages (from nltk) (4.64.1)\n",
            "Requirement already satisfied: click in /usr/local/lib/python3.8/dist-packages (from nltk) (7.1.2)\n",
            "Requirement already satisfied: regex>=2021.8.3 in /usr/local/lib/python3.8/dist-packages (from nltk) (2022.6.2)\n",
            "Requirement already satisfied: joblib in /usr/local/lib/python3.8/dist-packages (from nltk) (1.2.0)\n"
          ]
        }
      ]
    },
    {
      "cell_type": "code",
      "source": [
        "pip install textblob"
      ],
      "metadata": {
        "colab": {
          "base_uri": "https://localhost:8080/"
        },
        "id": "hrbU5Iqy3q9Y",
        "outputId": "70170833-c382-40b1-841d-0b287a03f084"
      },
      "execution_count": null,
      "outputs": [
        {
          "output_type": "stream",
          "name": "stdout",
          "text": [
            "Looking in indexes: https://pypi.org/simple, https://us-python.pkg.dev/colab-wheels/public/simple/\n",
            "Requirement already satisfied: textblob in /usr/local/lib/python3.8/dist-packages (0.15.3)\n",
            "Requirement already satisfied: nltk>=3.1 in /root/.local/lib/python3.8/site-packages (from textblob) (3.8)\n",
            "Requirement already satisfied: regex>=2021.8.3 in /usr/local/lib/python3.8/dist-packages (from nltk>=3.1->textblob) (2022.6.2)\n",
            "Requirement already satisfied: click in /usr/local/lib/python3.8/dist-packages (from nltk>=3.1->textblob) (7.1.2)\n",
            "Requirement already satisfied: joblib in /usr/local/lib/python3.8/dist-packages (from nltk>=3.1->textblob) (1.2.0)\n",
            "Requirement already satisfied: tqdm in /usr/local/lib/python3.8/dist-packages (from nltk>=3.1->textblob) (4.64.1)\n"
          ]
        }
      ]
    },
    {
      "cell_type": "code",
      "source": [
        "import pandas as pd\n",
        "import warnings; warnings.simplefilter('ignore')\n",
        "import itertools, re, nltk\n",
        "import time, numpy as np, matplotlib.pyplot as plt, pandas as pd, seaborn as sns\n",
        "from matplotlib.colors import ListedColormap\n",
        "from textblob import TextBlob\n",
        "from Sastrawi.Stemmer.StemmerFactory import StemmerFactory\n",
        "from unidecode import unidecode\n",
        "from nltk.tag import CRFTagger\n",
        "from html import unescape\n",
        "from Sastrawi.StopWordRemover.StopWordRemoverFactory import StopWordRemoverFactory\n",
        "from tqdm import tqdm\n",
        "from nltk.corpus import stopwords\n",
        "\n",
        "nltk.download('punkt')\n",
        "nltk.download('stopwords')\n",
        "factory = StopWordRemoverFactory()\n",
        "stemmer = StemmerFactory().create_stemmer()\n",
        "sns.set(style=\"ticks\", color_codes=True)\n",
        "random_state = 170\n",
        "'Done'"
      ],
      "metadata": {
        "id": "drT_ajQ8DNhU",
        "colab": {
          "base_uri": "https://localhost:8080/",
          "height": 105
        },
        "outputId": "4bc4e576-e4da-4f9c-f935-05df97b41a1b"
      },
      "execution_count": null,
      "outputs": [
        {
          "output_type": "stream",
          "name": "stderr",
          "text": [
            "[nltk_data] Downloading package punkt to /root/nltk_data...\n",
            "[nltk_data]   Package punkt is already up-to-date!\n",
            "[nltk_data] Downloading package stopwords to /root/nltk_data...\n",
            "[nltk_data]   Package stopwords is already up-to-date!\n"
          ]
        },
        {
          "output_type": "execute_result",
          "data": {
            "text/plain": [
              "'Done'"
            ],
            "application/vnd.google.colaboratory.intrinsic+json": {
              "type": "string"
            }
          },
          "metadata": {},
          "execution_count": 5
        }
      ]
    },
    {
      "cell_type": "markdown",
      "source": [
        " **Kemudian, dilakukan import data dari data csv yang sudah didapat sebelumnya melalui *scraping* data twitter. Untuk lampiran *code* yang digunakan scraping data twitter, dilampirkan dalam file pdf di dalam zip.**"
      ],
      "metadata": {
        "id": "N-mSZrIFHuxl"
      }
    },
    {
      "cell_type": "code",
      "source": [
        "# Loading Data:\n",
        "df = pd.read_csv(r\"https://raw.githubusercontent.com/ayumnaf/ProyekKelompok10/main/datafix.csv \",\n",
        "                 low_memory = False, encoding='utf8', lineterminator = '\\n' )\n",
        "df"
      ],
      "metadata": {
        "id": "7ZeH8n5ACwqu",
        "colab": {
          "base_uri": "https://localhost:8080/",
          "height": 1000
        },
        "outputId": "570394cb-be2b-429c-960d-5baaac6936fd"
      },
      "execution_count": null,
      "outputs": [
        {
          "output_type": "execute_result",
          "data": {
            "text/plain": [
              "       index                   id      conversation_id    created_at  \\\n",
              "0          0  1606527734733279234  1606527734733279234  1.671861e+12   \n",
              "1          1  1606520376477220865  1606520376477220865  1.671859e+12   \n",
              "2          2  1606325850437189635  1606325850437189635  1.671813e+12   \n",
              "3          3  1606257207204536320  1606257207204536320  1.671797e+12   \n",
              "4          4  1606202342273175552  1606202342273175552  1.671783e+12   \n",
              "...      ...                  ...                  ...           ...   \n",
              "22317    166  1594948658201759744  1594867069102727171  1.669100e+12   \n",
              "22318    167  1594939005258244096  1594939005258244096  1.669098e+12   \n",
              "22319    168  1483091220352024576  1483091220352024576  1.642431e+12   \n",
              "22320    169           4575925077           4575925077  1.254563e+12   \n",
              "22321    170           3732620307           3732620307  1.251981e+12   \n",
              "\n",
              "                      date  timezone place  \\\n",
              "0      2022-12-24 05:50:34         0   NaN   \n",
              "1      2022-12-24 05:21:20         0   NaN   \n",
              "2      2022-12-23 16:28:21         0   NaN   \n",
              "3      2022-12-23 11:55:35         0   NaN   \n",
              "4      2022-12-23 08:17:34         0   NaN   \n",
              "...                    ...       ...   ...   \n",
              "22317  2022-11-22 06:59:27         0   NaN   \n",
              "22318  2022-11-22 06:21:06         0   NaN   \n",
              "22319  2022-01-17 14:57:56         0   NaN   \n",
              "22320  2009-10-03 09:35:31         0   NaN   \n",
              "22321  2009-09-03 12:36:03         0   NaN   \n",
              "\n",
              "                                                   tweet language  \\\n",
              "0      #Earthquake (#gempa) M2.7 strikes 17 km NE of ...       en   \n",
              "1      Garis Sukabumi Raya Lakukan Trauma Healing unt...       in   \n",
              "2      Jumat Siang Ini Sukabumi Diguncang Gempa 3,1 M...       in   \n",
              "3      #Earthquake (#gempa) M2.7 strikes 25 km NE of ...       en   \n",
              "4      BMKG Deteksi Gempa Magnitudo 3.1 di Kabupaten ...       in   \n",
              "...                                                  ...      ...   \n",
              "22317  LAZISNU PBNU bersama LPBINU mulai menyalurkan ...       in   \n",
              "22318  Assalamualaikum Wr. Wb. Posko Bencana Terdampa...       in   \n",
              "22319  Di Pandeglang, relawan Front Persaudaraan Isla...       in   \n",
              "22320  knp pas bencana situ gintung byk posko2 partai...       in   \n",
              "22321  YOUTH ACT NOW KORBAN GEMPA JAWA BARAT SEPTEMBE...       in   \n",
              "\n",
              "                                                hashtags  ... geo  source  \\\n",
              "0       ['earthquake', 'gempa', 'sukabumi', 'indonesia']  ... NaN     NaN   \n",
              "1      ['sukabuminews', 'medialokalberwawasaninternas...  ... NaN     NaN   \n",
              "2                                                     []  ... NaN     NaN   \n",
              "3       ['earthquake', 'gempa', 'sukabumi', 'indonesia']  ... NaN     NaN   \n",
              "4      ['bmkg', 'gempa', 'gempaterkini', 'gempasukabu...  ... NaN     NaN   \n",
              "...                                                  ...  ...  ..     ...   \n",
              "22317                                                 []  ... NaN     NaN   \n",
              "22318                                                 []  ... NaN     NaN   \n",
              "22319                                                 []  ... NaN     NaN   \n",
              "22320                                                 []  ... NaN     NaN   \n",
              "22321                                                 []  ... NaN     NaN   \n",
              "\n",
              "       user_rt_id user_rt retweet_id  reply_to  retweet_date translate  \\\n",
              "0             NaN     NaN        NaN        []           NaN       NaN   \n",
              "1             NaN     NaN        NaN        []           NaN       NaN   \n",
              "2             NaN     NaN        NaN        []           NaN       NaN   \n",
              "3             NaN     NaN        NaN        []           NaN       NaN   \n",
              "4             NaN     NaN        NaN        []           NaN       NaN   \n",
              "...           ...     ...        ...       ...           ...       ...   \n",
              "22317         NaN     NaN        NaN        []           NaN       NaN   \n",
              "22318         NaN     NaN        NaN        []           NaN       NaN   \n",
              "22319         NaN     NaN        NaN        []           NaN       NaN   \n",
              "22320         NaN     NaN        NaN        []           NaN       NaN   \n",
              "22321         NaN     NaN        NaN        []           NaN       NaN   \n",
              "\n",
              "      trans_src trans_dest  \n",
              "0           NaN        NaN  \n",
              "1           NaN        NaN  \n",
              "2           NaN        NaN  \n",
              "3           NaN        NaN  \n",
              "4           NaN        NaN  \n",
              "...         ...        ...  \n",
              "22317       NaN        NaN  \n",
              "22318       NaN        NaN  \n",
              "22319       NaN        NaN  \n",
              "22320       NaN        NaN  \n",
              "22321       NaN        NaN  \n",
              "\n",
              "[22322 rows x 39 columns]"
            ],
            "text/html": [
              "\n",
              "  <div id=\"df-0b45b0ed-7c06-4c7d-8ee6-f181eff32d7c\">\n",
              "    <div class=\"colab-df-container\">\n",
              "      <div>\n",
              "<style scoped>\n",
              "    .dataframe tbody tr th:only-of-type {\n",
              "        vertical-align: middle;\n",
              "    }\n",
              "\n",
              "    .dataframe tbody tr th {\n",
              "        vertical-align: top;\n",
              "    }\n",
              "\n",
              "    .dataframe thead th {\n",
              "        text-align: right;\n",
              "    }\n",
              "</style>\n",
              "<table border=\"1\" class=\"dataframe\">\n",
              "  <thead>\n",
              "    <tr style=\"text-align: right;\">\n",
              "      <th></th>\n",
              "      <th>index</th>\n",
              "      <th>id</th>\n",
              "      <th>conversation_id</th>\n",
              "      <th>created_at</th>\n",
              "      <th>date</th>\n",
              "      <th>timezone</th>\n",
              "      <th>place</th>\n",
              "      <th>tweet</th>\n",
              "      <th>language</th>\n",
              "      <th>hashtags</th>\n",
              "      <th>...</th>\n",
              "      <th>geo</th>\n",
              "      <th>source</th>\n",
              "      <th>user_rt_id</th>\n",
              "      <th>user_rt</th>\n",
              "      <th>retweet_id</th>\n",
              "      <th>reply_to</th>\n",
              "      <th>retweet_date</th>\n",
              "      <th>translate</th>\n",
              "      <th>trans_src</th>\n",
              "      <th>trans_dest</th>\n",
              "    </tr>\n",
              "  </thead>\n",
              "  <tbody>\n",
              "    <tr>\n",
              "      <th>0</th>\n",
              "      <td>0</td>\n",
              "      <td>1606527734733279234</td>\n",
              "      <td>1606527734733279234</td>\n",
              "      <td>1.671861e+12</td>\n",
              "      <td>2022-12-24 05:50:34</td>\n",
              "      <td>0</td>\n",
              "      <td>NaN</td>\n",
              "      <td>#Earthquake (#gempa) M2.7 strikes 17 km NE of ...</td>\n",
              "      <td>en</td>\n",
              "      <td>['earthquake', 'gempa', 'sukabumi', 'indonesia']</td>\n",
              "      <td>...</td>\n",
              "      <td>NaN</td>\n",
              "      <td>NaN</td>\n",
              "      <td>NaN</td>\n",
              "      <td>NaN</td>\n",
              "      <td>NaN</td>\n",
              "      <td>[]</td>\n",
              "      <td>NaN</td>\n",
              "      <td>NaN</td>\n",
              "      <td>NaN</td>\n",
              "      <td>NaN</td>\n",
              "    </tr>\n",
              "    <tr>\n",
              "      <th>1</th>\n",
              "      <td>1</td>\n",
              "      <td>1606520376477220865</td>\n",
              "      <td>1606520376477220865</td>\n",
              "      <td>1.671859e+12</td>\n",
              "      <td>2022-12-24 05:21:20</td>\n",
              "      <td>0</td>\n",
              "      <td>NaN</td>\n",
              "      <td>Garis Sukabumi Raya Lakukan Trauma Healing unt...</td>\n",
              "      <td>in</td>\n",
              "      <td>['sukabuminews', 'medialokalberwawasaninternas...</td>\n",
              "      <td>...</td>\n",
              "      <td>NaN</td>\n",
              "      <td>NaN</td>\n",
              "      <td>NaN</td>\n",
              "      <td>NaN</td>\n",
              "      <td>NaN</td>\n",
              "      <td>[]</td>\n",
              "      <td>NaN</td>\n",
              "      <td>NaN</td>\n",
              "      <td>NaN</td>\n",
              "      <td>NaN</td>\n",
              "    </tr>\n",
              "    <tr>\n",
              "      <th>2</th>\n",
              "      <td>2</td>\n",
              "      <td>1606325850437189635</td>\n",
              "      <td>1606325850437189635</td>\n",
              "      <td>1.671813e+12</td>\n",
              "      <td>2022-12-23 16:28:21</td>\n",
              "      <td>0</td>\n",
              "      <td>NaN</td>\n",
              "      <td>Jumat Siang Ini Sukabumi Diguncang Gempa 3,1 M...</td>\n",
              "      <td>in</td>\n",
              "      <td>[]</td>\n",
              "      <td>...</td>\n",
              "      <td>NaN</td>\n",
              "      <td>NaN</td>\n",
              "      <td>NaN</td>\n",
              "      <td>NaN</td>\n",
              "      <td>NaN</td>\n",
              "      <td>[]</td>\n",
              "      <td>NaN</td>\n",
              "      <td>NaN</td>\n",
              "      <td>NaN</td>\n",
              "      <td>NaN</td>\n",
              "    </tr>\n",
              "    <tr>\n",
              "      <th>3</th>\n",
              "      <td>3</td>\n",
              "      <td>1606257207204536320</td>\n",
              "      <td>1606257207204536320</td>\n",
              "      <td>1.671797e+12</td>\n",
              "      <td>2022-12-23 11:55:35</td>\n",
              "      <td>0</td>\n",
              "      <td>NaN</td>\n",
              "      <td>#Earthquake (#gempa) M2.7 strikes 25 km NE of ...</td>\n",
              "      <td>en</td>\n",
              "      <td>['earthquake', 'gempa', 'sukabumi', 'indonesia']</td>\n",
              "      <td>...</td>\n",
              "      <td>NaN</td>\n",
              "      <td>NaN</td>\n",
              "      <td>NaN</td>\n",
              "      <td>NaN</td>\n",
              "      <td>NaN</td>\n",
              "      <td>[]</td>\n",
              "      <td>NaN</td>\n",
              "      <td>NaN</td>\n",
              "      <td>NaN</td>\n",
              "      <td>NaN</td>\n",
              "    </tr>\n",
              "    <tr>\n",
              "      <th>4</th>\n",
              "      <td>4</td>\n",
              "      <td>1606202342273175552</td>\n",
              "      <td>1606202342273175552</td>\n",
              "      <td>1.671783e+12</td>\n",
              "      <td>2022-12-23 08:17:34</td>\n",
              "      <td>0</td>\n",
              "      <td>NaN</td>\n",
              "      <td>BMKG Deteksi Gempa Magnitudo 3.1 di Kabupaten ...</td>\n",
              "      <td>in</td>\n",
              "      <td>['bmkg', 'gempa', 'gempaterkini', 'gempasukabu...</td>\n",
              "      <td>...</td>\n",
              "      <td>NaN</td>\n",
              "      <td>NaN</td>\n",
              "      <td>NaN</td>\n",
              "      <td>NaN</td>\n",
              "      <td>NaN</td>\n",
              "      <td>[]</td>\n",
              "      <td>NaN</td>\n",
              "      <td>NaN</td>\n",
              "      <td>NaN</td>\n",
              "      <td>NaN</td>\n",
              "    </tr>\n",
              "    <tr>\n",
              "      <th>...</th>\n",
              "      <td>...</td>\n",
              "      <td>...</td>\n",
              "      <td>...</td>\n",
              "      <td>...</td>\n",
              "      <td>...</td>\n",
              "      <td>...</td>\n",
              "      <td>...</td>\n",
              "      <td>...</td>\n",
              "      <td>...</td>\n",
              "      <td>...</td>\n",
              "      <td>...</td>\n",
              "      <td>...</td>\n",
              "      <td>...</td>\n",
              "      <td>...</td>\n",
              "      <td>...</td>\n",
              "      <td>...</td>\n",
              "      <td>...</td>\n",
              "      <td>...</td>\n",
              "      <td>...</td>\n",
              "      <td>...</td>\n",
              "      <td>...</td>\n",
              "    </tr>\n",
              "    <tr>\n",
              "      <th>22317</th>\n",
              "      <td>166</td>\n",
              "      <td>1594948658201759744</td>\n",
              "      <td>1594867069102727171</td>\n",
              "      <td>1.669100e+12</td>\n",
              "      <td>2022-11-22 06:59:27</td>\n",
              "      <td>0</td>\n",
              "      <td>NaN</td>\n",
              "      <td>LAZISNU PBNU bersama LPBINU mulai menyalurkan ...</td>\n",
              "      <td>in</td>\n",
              "      <td>[]</td>\n",
              "      <td>...</td>\n",
              "      <td>NaN</td>\n",
              "      <td>NaN</td>\n",
              "      <td>NaN</td>\n",
              "      <td>NaN</td>\n",
              "      <td>NaN</td>\n",
              "      <td>[]</td>\n",
              "      <td>NaN</td>\n",
              "      <td>NaN</td>\n",
              "      <td>NaN</td>\n",
              "      <td>NaN</td>\n",
              "    </tr>\n",
              "    <tr>\n",
              "      <th>22318</th>\n",
              "      <td>167</td>\n",
              "      <td>1594939005258244096</td>\n",
              "      <td>1594939005258244096</td>\n",
              "      <td>1.669098e+12</td>\n",
              "      <td>2022-11-22 06:21:06</td>\n",
              "      <td>0</td>\n",
              "      <td>NaN</td>\n",
              "      <td>Assalamualaikum Wr. Wb. Posko Bencana Terdampa...</td>\n",
              "      <td>in</td>\n",
              "      <td>[]</td>\n",
              "      <td>...</td>\n",
              "      <td>NaN</td>\n",
              "      <td>NaN</td>\n",
              "      <td>NaN</td>\n",
              "      <td>NaN</td>\n",
              "      <td>NaN</td>\n",
              "      <td>[]</td>\n",
              "      <td>NaN</td>\n",
              "      <td>NaN</td>\n",
              "      <td>NaN</td>\n",
              "      <td>NaN</td>\n",
              "    </tr>\n",
              "    <tr>\n",
              "      <th>22319</th>\n",
              "      <td>168</td>\n",
              "      <td>1483091220352024576</td>\n",
              "      <td>1483091220352024576</td>\n",
              "      <td>1.642431e+12</td>\n",
              "      <td>2022-01-17 14:57:56</td>\n",
              "      <td>0</td>\n",
              "      <td>NaN</td>\n",
              "      <td>Di Pandeglang, relawan Front Persaudaraan Isla...</td>\n",
              "      <td>in</td>\n",
              "      <td>[]</td>\n",
              "      <td>...</td>\n",
              "      <td>NaN</td>\n",
              "      <td>NaN</td>\n",
              "      <td>NaN</td>\n",
              "      <td>NaN</td>\n",
              "      <td>NaN</td>\n",
              "      <td>[]</td>\n",
              "      <td>NaN</td>\n",
              "      <td>NaN</td>\n",
              "      <td>NaN</td>\n",
              "      <td>NaN</td>\n",
              "    </tr>\n",
              "    <tr>\n",
              "      <th>22320</th>\n",
              "      <td>169</td>\n",
              "      <td>4575925077</td>\n",
              "      <td>4575925077</td>\n",
              "      <td>1.254563e+12</td>\n",
              "      <td>2009-10-03 09:35:31</td>\n",
              "      <td>0</td>\n",
              "      <td>NaN</td>\n",
              "      <td>knp pas bencana situ gintung byk posko2 partai...</td>\n",
              "      <td>in</td>\n",
              "      <td>[]</td>\n",
              "      <td>...</td>\n",
              "      <td>NaN</td>\n",
              "      <td>NaN</td>\n",
              "      <td>NaN</td>\n",
              "      <td>NaN</td>\n",
              "      <td>NaN</td>\n",
              "      <td>[]</td>\n",
              "      <td>NaN</td>\n",
              "      <td>NaN</td>\n",
              "      <td>NaN</td>\n",
              "      <td>NaN</td>\n",
              "    </tr>\n",
              "    <tr>\n",
              "      <th>22321</th>\n",
              "      <td>170</td>\n",
              "      <td>3732620307</td>\n",
              "      <td>3732620307</td>\n",
              "      <td>1.251981e+12</td>\n",
              "      <td>2009-09-03 12:36:03</td>\n",
              "      <td>0</td>\n",
              "      <td>NaN</td>\n",
              "      <td>YOUTH ACT NOW KORBAN GEMPA JAWA BARAT SEPTEMBE...</td>\n",
              "      <td>in</td>\n",
              "      <td>[]</td>\n",
              "      <td>...</td>\n",
              "      <td>NaN</td>\n",
              "      <td>NaN</td>\n",
              "      <td>NaN</td>\n",
              "      <td>NaN</td>\n",
              "      <td>NaN</td>\n",
              "      <td>[]</td>\n",
              "      <td>NaN</td>\n",
              "      <td>NaN</td>\n",
              "      <td>NaN</td>\n",
              "      <td>NaN</td>\n",
              "    </tr>\n",
              "  </tbody>\n",
              "</table>\n",
              "<p>22322 rows × 39 columns</p>\n",
              "</div>\n",
              "      <button class=\"colab-df-convert\" onclick=\"convertToInteractive('df-0b45b0ed-7c06-4c7d-8ee6-f181eff32d7c')\"\n",
              "              title=\"Convert this dataframe to an interactive table.\"\n",
              "              style=\"display:none;\">\n",
              "        \n",
              "  <svg xmlns=\"http://www.w3.org/2000/svg\" height=\"24px\"viewBox=\"0 0 24 24\"\n",
              "       width=\"24px\">\n",
              "    <path d=\"M0 0h24v24H0V0z\" fill=\"none\"/>\n",
              "    <path d=\"M18.56 5.44l.94 2.06.94-2.06 2.06-.94-2.06-.94-.94-2.06-.94 2.06-2.06.94zm-11 1L8.5 8.5l.94-2.06 2.06-.94-2.06-.94L8.5 2.5l-.94 2.06-2.06.94zm10 10l.94 2.06.94-2.06 2.06-.94-2.06-.94-.94-2.06-.94 2.06-2.06.94z\"/><path d=\"M17.41 7.96l-1.37-1.37c-.4-.4-.92-.59-1.43-.59-.52 0-1.04.2-1.43.59L10.3 9.45l-7.72 7.72c-.78.78-.78 2.05 0 2.83L4 21.41c.39.39.9.59 1.41.59.51 0 1.02-.2 1.41-.59l7.78-7.78 2.81-2.81c.8-.78.8-2.07 0-2.86zM5.41 20L4 18.59l7.72-7.72 1.47 1.35L5.41 20z\"/>\n",
              "  </svg>\n",
              "      </button>\n",
              "      \n",
              "  <style>\n",
              "    .colab-df-container {\n",
              "      display:flex;\n",
              "      flex-wrap:wrap;\n",
              "      gap: 12px;\n",
              "    }\n",
              "\n",
              "    .colab-df-convert {\n",
              "      background-color: #E8F0FE;\n",
              "      border: none;\n",
              "      border-radius: 50%;\n",
              "      cursor: pointer;\n",
              "      display: none;\n",
              "      fill: #1967D2;\n",
              "      height: 32px;\n",
              "      padding: 0 0 0 0;\n",
              "      width: 32px;\n",
              "    }\n",
              "\n",
              "    .colab-df-convert:hover {\n",
              "      background-color: #E2EBFA;\n",
              "      box-shadow: 0px 1px 2px rgba(60, 64, 67, 0.3), 0px 1px 3px 1px rgba(60, 64, 67, 0.15);\n",
              "      fill: #174EA6;\n",
              "    }\n",
              "\n",
              "    [theme=dark] .colab-df-convert {\n",
              "      background-color: #3B4455;\n",
              "      fill: #D2E3FC;\n",
              "    }\n",
              "\n",
              "    [theme=dark] .colab-df-convert:hover {\n",
              "      background-color: #434B5C;\n",
              "      box-shadow: 0px 1px 3px 1px rgba(0, 0, 0, 0.15);\n",
              "      filter: drop-shadow(0px 1px 2px rgba(0, 0, 0, 0.3));\n",
              "      fill: #FFFFFF;\n",
              "    }\n",
              "  </style>\n",
              "\n",
              "      <script>\n",
              "        const buttonEl =\n",
              "          document.querySelector('#df-0b45b0ed-7c06-4c7d-8ee6-f181eff32d7c button.colab-df-convert');\n",
              "        buttonEl.style.display =\n",
              "          google.colab.kernel.accessAllowed ? 'block' : 'none';\n",
              "\n",
              "        async function convertToInteractive(key) {\n",
              "          const element = document.querySelector('#df-0b45b0ed-7c06-4c7d-8ee6-f181eff32d7c');\n",
              "          const dataTable =\n",
              "            await google.colab.kernel.invokeFunction('convertToInteractive',\n",
              "                                                     [key], {});\n",
              "          if (!dataTable) return;\n",
              "\n",
              "          const docLinkHtml = 'Like what you see? Visit the ' +\n",
              "            '<a target=\"_blank\" href=https://colab.research.google.com/notebooks/data_table.ipynb>data table notebook</a>'\n",
              "            + ' to learn more about interactive tables.';\n",
              "          element.innerHTML = '';\n",
              "          dataTable['output_type'] = 'display_data';\n",
              "          await google.colab.output.renderOutput(dataTable, element);\n",
              "          const docLink = document.createElement('div');\n",
              "          docLink.innerHTML = docLinkHtml;\n",
              "          element.appendChild(docLink);\n",
              "        }\n",
              "      </script>\n",
              "    </div>\n",
              "  </div>\n",
              "  "
            ]
          },
          "metadata": {},
          "execution_count": 6
        }
      ]
    },
    {
      "cell_type": "markdown",
      "source": [
        "# **3. Feature Selection**"
      ],
      "metadata": {
        "id": "sZXe4vXO2cgU"
      }
    },
    {
      "cell_type": "markdown",
      "source": [
        "**Selanjutnya akan dilakukan pemilihan kolom data yang akan digunakan, yaitu day, `date`, `username`, `tweet`, `nlikes`, `nreplies`, dan `nretweets`. Kolom lainnya tidak digunakan karena mengandung terlalu banyak missing value dan beberapa tidak diperlukan dalam analisis data ini. Seperti `id` tidak digunakan karena terlalu unik datanya, kemudian `place` tidak digunakan karena memiliki terlalu banyak missing value, dan lain sebagainya.**"
      ],
      "metadata": {
        "id": "qqWPgWSO2k5R"
      }
    },
    {
      "cell_type": "code",
      "source": [
        "data = df[['day','date','username','tweet','nlikes','nreplies','nretweets']]\n",
        "data"
      ],
      "metadata": {
        "id": "TVDQ8iaHnAEY",
        "colab": {
          "base_uri": "https://localhost:8080/",
          "height": 423
        },
        "outputId": "bcf662ae-6b44-4fe4-eb69-cd0be9c2ffbf"
      },
      "execution_count": null,
      "outputs": [
        {
          "output_type": "execute_result",
          "data": {
            "text/plain": [
              "       day                 date         username  \\\n",
              "0        6  2022-12-24 05:50:34             EMSC   \n",
              "1        6  2022-12-24 05:21:20  sukabumiNewsnet   \n",
              "2        5  2022-12-23 16:28:21         KuretaID   \n",
              "3        5  2022-12-23 11:55:35             EMSC   \n",
              "4        5  2022-12-23 08:17:34   sofi_hwajiyong   \n",
              "...    ...                  ...              ...   \n",
              "22317    2  2022-11-22 06:59:27   nahdlatululama   \n",
              "22318    2  2022-11-22 06:21:06          dtoni77   \n",
              "22319    1  2022-01-17 14:57:56           MCAOps   \n",
              "22320    6  2009-10-03 09:35:31        bebebonta   \n",
              "22321    4  2009-09-03 12:36:03        GPYouthID   \n",
              "\n",
              "                                                   tweet  nlikes  nreplies  \\\n",
              "0      #Earthquake (#gempa) M2.7 strikes 17 km NE of ...       1         0   \n",
              "1      Garis Sukabumi Raya Lakukan Trauma Healing unt...       0         0   \n",
              "2      Jumat Siang Ini Sukabumi Diguncang Gempa 3,1 M...       0         0   \n",
              "3      #Earthquake (#gempa) M2.7 strikes 25 km NE of ...       3         0   \n",
              "4      BMKG Deteksi Gempa Magnitudo 3.1 di Kabupaten ...       1         0   \n",
              "...                                                  ...     ...       ...   \n",
              "22317  LAZISNU PBNU bersama LPBINU mulai menyalurkan ...      22         1   \n",
              "22318  Assalamualaikum Wr. Wb. Posko Bencana Terdampa...       1         0   \n",
              "22319  Di Pandeglang, relawan Front Persaudaraan Isla...    1398        31   \n",
              "22320  knp pas bencana situ gintung byk posko2 partai...       1         0   \n",
              "22321  YOUTH ACT NOW KORBAN GEMPA JAWA BARAT SEPTEMBE...       0         0   \n",
              "\n",
              "       nretweets  \n",
              "0              0  \n",
              "1              0  \n",
              "2              0  \n",
              "3              1  \n",
              "4              0  \n",
              "...          ...  \n",
              "22317          2  \n",
              "22318          0  \n",
              "22319        337  \n",
              "22320          0  \n",
              "22321          0  \n",
              "\n",
              "[22322 rows x 7 columns]"
            ],
            "text/html": [
              "\n",
              "  <div id=\"df-094c2562-c471-40af-9c71-de2a06b93208\">\n",
              "    <div class=\"colab-df-container\">\n",
              "      <div>\n",
              "<style scoped>\n",
              "    .dataframe tbody tr th:only-of-type {\n",
              "        vertical-align: middle;\n",
              "    }\n",
              "\n",
              "    .dataframe tbody tr th {\n",
              "        vertical-align: top;\n",
              "    }\n",
              "\n",
              "    .dataframe thead th {\n",
              "        text-align: right;\n",
              "    }\n",
              "</style>\n",
              "<table border=\"1\" class=\"dataframe\">\n",
              "  <thead>\n",
              "    <tr style=\"text-align: right;\">\n",
              "      <th></th>\n",
              "      <th>day</th>\n",
              "      <th>date</th>\n",
              "      <th>username</th>\n",
              "      <th>tweet</th>\n",
              "      <th>nlikes</th>\n",
              "      <th>nreplies</th>\n",
              "      <th>nretweets</th>\n",
              "    </tr>\n",
              "  </thead>\n",
              "  <tbody>\n",
              "    <tr>\n",
              "      <th>0</th>\n",
              "      <td>6</td>\n",
              "      <td>2022-12-24 05:50:34</td>\n",
              "      <td>EMSC</td>\n",
              "      <td>#Earthquake (#gempa) M2.7 strikes 17 km NE of ...</td>\n",
              "      <td>1</td>\n",
              "      <td>0</td>\n",
              "      <td>0</td>\n",
              "    </tr>\n",
              "    <tr>\n",
              "      <th>1</th>\n",
              "      <td>6</td>\n",
              "      <td>2022-12-24 05:21:20</td>\n",
              "      <td>sukabumiNewsnet</td>\n",
              "      <td>Garis Sukabumi Raya Lakukan Trauma Healing unt...</td>\n",
              "      <td>0</td>\n",
              "      <td>0</td>\n",
              "      <td>0</td>\n",
              "    </tr>\n",
              "    <tr>\n",
              "      <th>2</th>\n",
              "      <td>5</td>\n",
              "      <td>2022-12-23 16:28:21</td>\n",
              "      <td>KuretaID</td>\n",
              "      <td>Jumat Siang Ini Sukabumi Diguncang Gempa 3,1 M...</td>\n",
              "      <td>0</td>\n",
              "      <td>0</td>\n",
              "      <td>0</td>\n",
              "    </tr>\n",
              "    <tr>\n",
              "      <th>3</th>\n",
              "      <td>5</td>\n",
              "      <td>2022-12-23 11:55:35</td>\n",
              "      <td>EMSC</td>\n",
              "      <td>#Earthquake (#gempa) M2.7 strikes 25 km NE of ...</td>\n",
              "      <td>3</td>\n",
              "      <td>0</td>\n",
              "      <td>1</td>\n",
              "    </tr>\n",
              "    <tr>\n",
              "      <th>4</th>\n",
              "      <td>5</td>\n",
              "      <td>2022-12-23 08:17:34</td>\n",
              "      <td>sofi_hwajiyong</td>\n",
              "      <td>BMKG Deteksi Gempa Magnitudo 3.1 di Kabupaten ...</td>\n",
              "      <td>1</td>\n",
              "      <td>0</td>\n",
              "      <td>0</td>\n",
              "    </tr>\n",
              "    <tr>\n",
              "      <th>...</th>\n",
              "      <td>...</td>\n",
              "      <td>...</td>\n",
              "      <td>...</td>\n",
              "      <td>...</td>\n",
              "      <td>...</td>\n",
              "      <td>...</td>\n",
              "      <td>...</td>\n",
              "    </tr>\n",
              "    <tr>\n",
              "      <th>22317</th>\n",
              "      <td>2</td>\n",
              "      <td>2022-11-22 06:59:27</td>\n",
              "      <td>nahdlatululama</td>\n",
              "      <td>LAZISNU PBNU bersama LPBINU mulai menyalurkan ...</td>\n",
              "      <td>22</td>\n",
              "      <td>1</td>\n",
              "      <td>2</td>\n",
              "    </tr>\n",
              "    <tr>\n",
              "      <th>22318</th>\n",
              "      <td>2</td>\n",
              "      <td>2022-11-22 06:21:06</td>\n",
              "      <td>dtoni77</td>\n",
              "      <td>Assalamualaikum Wr. Wb. Posko Bencana Terdampa...</td>\n",
              "      <td>1</td>\n",
              "      <td>0</td>\n",
              "      <td>0</td>\n",
              "    </tr>\n",
              "    <tr>\n",
              "      <th>22319</th>\n",
              "      <td>1</td>\n",
              "      <td>2022-01-17 14:57:56</td>\n",
              "      <td>MCAOps</td>\n",
              "      <td>Di Pandeglang, relawan Front Persaudaraan Isla...</td>\n",
              "      <td>1398</td>\n",
              "      <td>31</td>\n",
              "      <td>337</td>\n",
              "    </tr>\n",
              "    <tr>\n",
              "      <th>22320</th>\n",
              "      <td>6</td>\n",
              "      <td>2009-10-03 09:35:31</td>\n",
              "      <td>bebebonta</td>\n",
              "      <td>knp pas bencana situ gintung byk posko2 partai...</td>\n",
              "      <td>1</td>\n",
              "      <td>0</td>\n",
              "      <td>0</td>\n",
              "    </tr>\n",
              "    <tr>\n",
              "      <th>22321</th>\n",
              "      <td>4</td>\n",
              "      <td>2009-09-03 12:36:03</td>\n",
              "      <td>GPYouthID</td>\n",
              "      <td>YOUTH ACT NOW KORBAN GEMPA JAWA BARAT SEPTEMBE...</td>\n",
              "      <td>0</td>\n",
              "      <td>0</td>\n",
              "      <td>0</td>\n",
              "    </tr>\n",
              "  </tbody>\n",
              "</table>\n",
              "<p>22322 rows × 7 columns</p>\n",
              "</div>\n",
              "      <button class=\"colab-df-convert\" onclick=\"convertToInteractive('df-094c2562-c471-40af-9c71-de2a06b93208')\"\n",
              "              title=\"Convert this dataframe to an interactive table.\"\n",
              "              style=\"display:none;\">\n",
              "        \n",
              "  <svg xmlns=\"http://www.w3.org/2000/svg\" height=\"24px\"viewBox=\"0 0 24 24\"\n",
              "       width=\"24px\">\n",
              "    <path d=\"M0 0h24v24H0V0z\" fill=\"none\"/>\n",
              "    <path d=\"M18.56 5.44l.94 2.06.94-2.06 2.06-.94-2.06-.94-.94-2.06-.94 2.06-2.06.94zm-11 1L8.5 8.5l.94-2.06 2.06-.94-2.06-.94L8.5 2.5l-.94 2.06-2.06.94zm10 10l.94 2.06.94-2.06 2.06-.94-2.06-.94-.94-2.06-.94 2.06-2.06.94z\"/><path d=\"M17.41 7.96l-1.37-1.37c-.4-.4-.92-.59-1.43-.59-.52 0-1.04.2-1.43.59L10.3 9.45l-7.72 7.72c-.78.78-.78 2.05 0 2.83L4 21.41c.39.39.9.59 1.41.59.51 0 1.02-.2 1.41-.59l7.78-7.78 2.81-2.81c.8-.78.8-2.07 0-2.86zM5.41 20L4 18.59l7.72-7.72 1.47 1.35L5.41 20z\"/>\n",
              "  </svg>\n",
              "      </button>\n",
              "      \n",
              "  <style>\n",
              "    .colab-df-container {\n",
              "      display:flex;\n",
              "      flex-wrap:wrap;\n",
              "      gap: 12px;\n",
              "    }\n",
              "\n",
              "    .colab-df-convert {\n",
              "      background-color: #E8F0FE;\n",
              "      border: none;\n",
              "      border-radius: 50%;\n",
              "      cursor: pointer;\n",
              "      display: none;\n",
              "      fill: #1967D2;\n",
              "      height: 32px;\n",
              "      padding: 0 0 0 0;\n",
              "      width: 32px;\n",
              "    }\n",
              "\n",
              "    .colab-df-convert:hover {\n",
              "      background-color: #E2EBFA;\n",
              "      box-shadow: 0px 1px 2px rgba(60, 64, 67, 0.3), 0px 1px 3px 1px rgba(60, 64, 67, 0.15);\n",
              "      fill: #174EA6;\n",
              "    }\n",
              "\n",
              "    [theme=dark] .colab-df-convert {\n",
              "      background-color: #3B4455;\n",
              "      fill: #D2E3FC;\n",
              "    }\n",
              "\n",
              "    [theme=dark] .colab-df-convert:hover {\n",
              "      background-color: #434B5C;\n",
              "      box-shadow: 0px 1px 3px 1px rgba(0, 0, 0, 0.15);\n",
              "      filter: drop-shadow(0px 1px 2px rgba(0, 0, 0, 0.3));\n",
              "      fill: #FFFFFF;\n",
              "    }\n",
              "  </style>\n",
              "\n",
              "      <script>\n",
              "        const buttonEl =\n",
              "          document.querySelector('#df-094c2562-c471-40af-9c71-de2a06b93208 button.colab-df-convert');\n",
              "        buttonEl.style.display =\n",
              "          google.colab.kernel.accessAllowed ? 'block' : 'none';\n",
              "\n",
              "        async function convertToInteractive(key) {\n",
              "          const element = document.querySelector('#df-094c2562-c471-40af-9c71-de2a06b93208');\n",
              "          const dataTable =\n",
              "            await google.colab.kernel.invokeFunction('convertToInteractive',\n",
              "                                                     [key], {});\n",
              "          if (!dataTable) return;\n",
              "\n",
              "          const docLinkHtml = 'Like what you see? Visit the ' +\n",
              "            '<a target=\"_blank\" href=https://colab.research.google.com/notebooks/data_table.ipynb>data table notebook</a>'\n",
              "            + ' to learn more about interactive tables.';\n",
              "          element.innerHTML = '';\n",
              "          dataTable['output_type'] = 'display_data';\n",
              "          await google.colab.output.renderOutput(dataTable, element);\n",
              "          const docLink = document.createElement('div');\n",
              "          docLink.innerHTML = docLinkHtml;\n",
              "          element.appendChild(docLink);\n",
              "        }\n",
              "      </script>\n",
              "    </div>\n",
              "  </div>\n",
              "  "
            ]
          },
          "metadata": {},
          "execution_count": 7
        }
      ]
    },
    {
      "cell_type": "markdown",
      "source": [
        "# **4. Preprocessing**"
      ],
      "metadata": {
        "id": "EZYIcAVsD4UB"
      }
    },
    {
      "cell_type": "markdown",
      "source": [
        "## **4.1 Mengganti Data Type**"
      ],
      "metadata": {
        "id": "RUjc-TaGI7hw"
      }
    },
    {
      "cell_type": "markdown",
      "source": [
        "**Dilihat terlebih dahulu tipe data dari masing-masing kolom**"
      ],
      "metadata": {
        "id": "YVkvn-1JI38r"
      }
    },
    {
      "cell_type": "code",
      "source": [
        "data.info()"
      ],
      "metadata": {
        "id": "CCOq7Eb3I4Mk",
        "colab": {
          "base_uri": "https://localhost:8080/"
        },
        "outputId": "30af55fe-2559-41e6-d7bf-a337d7abb59a"
      },
      "execution_count": null,
      "outputs": [
        {
          "output_type": "stream",
          "name": "stdout",
          "text": [
            "<class 'pandas.core.frame.DataFrame'>\n",
            "RangeIndex: 22322 entries, 0 to 22321\n",
            "Data columns (total 7 columns):\n",
            " #   Column     Non-Null Count  Dtype \n",
            "---  ------     --------------  ----- \n",
            " 0   day        22322 non-null  int64 \n",
            " 1   date       22322 non-null  object\n",
            " 2   username   22322 non-null  object\n",
            " 3   tweet      22322 non-null  object\n",
            " 4   nlikes     22322 non-null  int64 \n",
            " 5   nreplies   22322 non-null  int64 \n",
            " 6   nretweets  22322 non-null  int64 \n",
            "dtypes: int64(4), object(3)\n",
            "memory usage: 1.2+ MB\n"
          ]
        }
      ]
    },
    {
      "cell_type": "markdown",
      "source": [
        "**Terlihat bahwa terdapat tipe data yang perlu diganti, yaitu:**\n",
        "1.   **tipe data dari `date`**\n",
        "\n",
        "      **Tipe data dari `date` akan diubah menjadi tipe data datetime.**\n",
        "\n",
        "2.   **tipe data dari `username` dan `tweet`**\n",
        "\n",
        "     **Tipe data dari `username` dan `tweet` akan diubah menjadi tipe data string. Agar dapat diproses dan dianalisis lebih lanjut.**"
      ],
      "metadata": {
        "id": "BvqX43FRJIxL"
      }
    },
    {
      "cell_type": "code",
      "source": [
        "data['date']=pd.to_datetime(data['date'])\n",
        "data['username']=data['username'].astype('str')\n",
        "data['tweet']=data['tweet'].astype('str')\n",
        "data.info()"
      ],
      "metadata": {
        "id": "ZapeOKOTLesu",
        "colab": {
          "base_uri": "https://localhost:8080/"
        },
        "outputId": "b69e71f2-2f62-42a9-dc84-78b19341fb50"
      },
      "execution_count": null,
      "outputs": [
        {
          "output_type": "stream",
          "name": "stdout",
          "text": [
            "<class 'pandas.core.frame.DataFrame'>\n",
            "RangeIndex: 22322 entries, 0 to 22321\n",
            "Data columns (total 7 columns):\n",
            " #   Column     Non-Null Count  Dtype         \n",
            "---  ------     --------------  -----         \n",
            " 0   day        22322 non-null  int64         \n",
            " 1   date       22322 non-null  datetime64[ns]\n",
            " 2   username   22322 non-null  object        \n",
            " 3   tweet      22322 non-null  object        \n",
            " 4   nlikes     22322 non-null  int64         \n",
            " 5   nreplies   22322 non-null  int64         \n",
            " 6   nretweets  22322 non-null  int64         \n",
            "dtypes: datetime64[ns](1), int64(4), object(2)\n",
            "memory usage: 1.2+ MB\n"
          ]
        }
      ]
    },
    {
      "cell_type": "markdown",
      "source": [
        "**Tipe data dari `date`, `username`, dan `tweet` sudah terganti**"
      ],
      "metadata": {
        "id": "5bdXmXRPMO_s"
      }
    },
    {
      "cell_type": "markdown",
      "source": [
        "## **4.2 Pengecekan Duplicated Data**"
      ],
      "metadata": {
        "id": "XJKJDlx73sUM"
      }
    },
    {
      "cell_type": "markdown",
      "source": [
        "**Dilakukan pengecekan data yang duplikat dari dataframe `data`**"
      ],
      "metadata": {
        "id": "JWEF5H4k3y7j"
      }
    },
    {
      "cell_type": "code",
      "source": [
        "data.duplicated().sum()"
      ],
      "metadata": {
        "id": "Tp1IyebFut9S",
        "colab": {
          "base_uri": "https://localhost:8080/"
        },
        "outputId": "a54c78de-9e13-47f4-f38a-5c2da9f73619"
      },
      "execution_count": null,
      "outputs": [
        {
          "output_type": "execute_result",
          "data": {
            "text/plain": [
              "2703"
            ]
          },
          "metadata": {},
          "execution_count": 10
        }
      ]
    },
    {
      "cell_type": "code",
      "source": [
        "data.drop_duplicates(inplace=True)"
      ],
      "metadata": {
        "id": "ZEVy___7YtbA"
      },
      "execution_count": null,
      "outputs": []
    },
    {
      "cell_type": "code",
      "source": [
        "data.duplicated().sum()"
      ],
      "metadata": {
        "id": "c-PPJ6u3Zlwk",
        "colab": {
          "base_uri": "https://localhost:8080/"
        },
        "outputId": "5b4b4b58-208f-4b81-f464-d6a9d43f092b"
      },
      "execution_count": null,
      "outputs": [
        {
          "output_type": "execute_result",
          "data": {
            "text/plain": [
              "0"
            ]
          },
          "metadata": {},
          "execution_count": 12
        }
      ]
    },
    {
      "cell_type": "markdown",
      "source": [
        "**Didapat bahwa terdapat 2.703 data yang duplikat dan data-data tersebut sudah dihapus dari dataframe.**\n",
        "\n",
        "---\n",
        "\n"
      ],
      "metadata": {
        "id": "B_7DFCFL4ukq"
      }
    },
    {
      "cell_type": "markdown",
      "source": [
        "## **4.3 Pengecekan *Missing Value* pada `data`**\n",
        "\n"
      ],
      "metadata": {
        "id": "CezmuWUBEelW"
      }
    },
    {
      "cell_type": "code",
      "source": [
        "data.isnull().sum()"
      ],
      "metadata": {
        "id": "eQ8-4bnbE0ak",
        "colab": {
          "base_uri": "https://localhost:8080/"
        },
        "outputId": "c3e4a134-5658-4622-f3e6-ac12f91f7701"
      },
      "execution_count": null,
      "outputs": [
        {
          "output_type": "execute_result",
          "data": {
            "text/plain": [
              "day          0\n",
              "date         0\n",
              "username     0\n",
              "tweet        0\n",
              "nlikes       0\n",
              "nreplies     0\n",
              "nretweets    0\n",
              "dtype: int64"
            ]
          },
          "metadata": {},
          "execution_count": 13
        }
      ]
    },
    {
      "cell_type": "markdown",
      "source": [
        "**Didapat bahwa tidak ada *missing value* pada data.**"
      ],
      "metadata": {
        "id": "kU2BrtN7HWDb"
      }
    },
    {
      "cell_type": "code",
      "source": [
        "data.to_csv(r'data.csv', index=False, encoding='utf8')"
      ],
      "metadata": {
        "id": "HtoCfGsDMvRB"
      },
      "execution_count": null,
      "outputs": []
    },
    {
      "cell_type": "markdown",
      "source": [
        "**Kemudian, data diubah menjadi dalam bentuk csv untuk dilakukan *preprocessing*. Seperti mencari kata-kata tidak baku, dan *stopwords*.**"
      ],
      "metadata": {
        "id": "kN32WWOk99tp"
      }
    },
    {
      "cell_type": "markdown",
      "source": [
        "## **4.4 Tokenizing**"
      ],
      "metadata": {
        "id": "T4xAP5hIZ2lv"
      }
    },
    {
      "cell_type": "markdown",
      "source": [
        "**Selanjutnya, data pada kolom `tweet` akan dibersihkan terlebih dahulu. Yang pertama akan dilakukan tokenizing. Didefinisikan sebuah fungsi yaitu fungsi tokenizing(txt) yang digunakan untuk memisahkan hashtags, mengubah tweet menjadi huruf kecil, menghapus email, menghapus mention, menghapus url, menghapus simbol-simbol, dan menghapus angka. Hal ini bertujuan agar saat dilakukan visualisasi data menjadi lebih bersih dan dapat memudahkan pengambilan insights.**"
      ],
      "metadata": {
        "id": "v-mYi5hw-08h"
      }
    },
    {
      "cell_type": "code",
      "source": [
        "def tokenizing(txt):\n",
        "    docx = txt\n",
        "    getHashtags = re.compile(r\"#(\\w+)\")\n",
        "    pisahtags = re.compile(r'[A-Z][^A-Z]*')\n",
        "    tagS = re.findall(getHashtags, docx)\n",
        "    for tag in tagS:\n",
        "      proper_words = ' '.join(re.findall(pisahtags, tag))\n",
        "      docx = docx.replace('#' + tag,proper_words) #pisahin hashtag\n",
        "    docx = (docx.lower().strip()) #huruf kecil\n",
        "    urlPattern = re.compile(r'http[s]?://(?:[a-zA-Z]|[0-9]|[$-_@.&+]|[!*\\(\\),]|(?:%[0-9a-fA-F][0-9a-fA-F]))+')\n",
        "    emailPattern = re.compile(r'[\\w._%+-]+@[\\w\\.-]+\\.[a-zA-Z]{2,4}')\n",
        "    mentionPattern = re.compile(r'@([a-zA-Z0-9]{1,15})')\n",
        "    docx = re.sub(emailPattern, ' ', docx) #hapus email\n",
        "    docx = re.sub(mentionPattern,' ',docx) #hapus mention\n",
        "    docx = re.sub(urlPattern,' ', docx) #hapus url\n",
        "    docx = re.sub(r'[^\\w]',' ',docx) #hapus simbol\n",
        "    docx = re.sub(r'[^a-zA-Z]',' ',docx) #hapus angka\n",
        "    return str(docx)"
      ],
      "metadata": {
        "id": "i2v9Oh0ttZS9"
      },
      "execution_count": null,
      "outputs": []
    },
    {
      "cell_type": "markdown",
      "source": [
        "**Selanjutnya, dibuat kolom baru yaitu kolom cleantweet untuk menyimpan data `tweet` yang telah dibersihkan. Untuk langkah pertama, kolom cleantweet tersebut diisi dengan tweet yang telah diperbaiki dengan fungsi tokenizing**"
      ],
      "metadata": {
        "id": "XyA89YvD_Wva"
      }
    },
    {
      "cell_type": "code",
      "source": [
        "data['cleantweet'] = ' ' # inititate kolom kosong\n",
        "for idx, post in tqdm(data.iterrows()):\n",
        "    data.at[idx, 'cleantweet'] = tokenizing(post.tweet)\n",
        "\n",
        "data.head()"
      ],
      "metadata": {
        "colab": {
          "base_uri": "https://localhost:8080/",
          "height": 224
        },
        "id": "F7PCNs977PTI",
        "outputId": "482a0a16-f8d5-413e-c660-41b571dc347d"
      },
      "execution_count": null,
      "outputs": [
        {
          "output_type": "stream",
          "name": "stderr",
          "text": [
            "19619it [00:02, 7141.14it/s]\n"
          ]
        },
        {
          "output_type": "execute_result",
          "data": {
            "text/plain": [
              "   day                date         username  \\\n",
              "0    6 2022-12-24 05:50:34             EMSC   \n",
              "1    6 2022-12-24 05:21:20  sukabumiNewsnet   \n",
              "2    5 2022-12-23 16:28:21         KuretaID   \n",
              "3    5 2022-12-23 11:55:35             EMSC   \n",
              "4    5 2022-12-23 08:17:34   sofi_hwajiyong   \n",
              "\n",
              "                                               tweet  nlikes  nreplies  \\\n",
              "0  #Earthquake (#gempa) M2.7 strikes 17 km NE of ...       1         0   \n",
              "1  Garis Sukabumi Raya Lakukan Trauma Healing unt...       0         0   \n",
              "2  Jumat Siang Ini Sukabumi Diguncang Gempa 3,1 M...       0         0   \n",
              "3  #Earthquake (#gempa) M2.7 strikes 25 km NE of ...       3         0   \n",
              "4  BMKG Deteksi Gempa Magnitudo 3.1 di Kabupaten ...       1         0   \n",
              "\n",
              "   nretweets                                         cleantweet  \n",
              "0          0  earthquake    m    strikes    km ne of sukabum...  \n",
              "1          0  garis sukabumi raya lakukan trauma healing unt...  \n",
              "2          0  jumat siang ini sukabumi diguncang gempa     m...  \n",
              "3          1  earthquake    m    strikes    km ne of sukabum...  \n",
              "4          0  bmkg deteksi gempa magnitudo     di kabupaten ...  "
            ],
            "text/html": [
              "\n",
              "  <div id=\"df-d66e58b6-03ce-4e8b-8672-68c86b5b6053\">\n",
              "    <div class=\"colab-df-container\">\n",
              "      <div>\n",
              "<style scoped>\n",
              "    .dataframe tbody tr th:only-of-type {\n",
              "        vertical-align: middle;\n",
              "    }\n",
              "\n",
              "    .dataframe tbody tr th {\n",
              "        vertical-align: top;\n",
              "    }\n",
              "\n",
              "    .dataframe thead th {\n",
              "        text-align: right;\n",
              "    }\n",
              "</style>\n",
              "<table border=\"1\" class=\"dataframe\">\n",
              "  <thead>\n",
              "    <tr style=\"text-align: right;\">\n",
              "      <th></th>\n",
              "      <th>day</th>\n",
              "      <th>date</th>\n",
              "      <th>username</th>\n",
              "      <th>tweet</th>\n",
              "      <th>nlikes</th>\n",
              "      <th>nreplies</th>\n",
              "      <th>nretweets</th>\n",
              "      <th>cleantweet</th>\n",
              "    </tr>\n",
              "  </thead>\n",
              "  <tbody>\n",
              "    <tr>\n",
              "      <th>0</th>\n",
              "      <td>6</td>\n",
              "      <td>2022-12-24 05:50:34</td>\n",
              "      <td>EMSC</td>\n",
              "      <td>#Earthquake (#gempa) M2.7 strikes 17 km NE of ...</td>\n",
              "      <td>1</td>\n",
              "      <td>0</td>\n",
              "      <td>0</td>\n",
              "      <td>earthquake    m    strikes    km ne of sukabum...</td>\n",
              "    </tr>\n",
              "    <tr>\n",
              "      <th>1</th>\n",
              "      <td>6</td>\n",
              "      <td>2022-12-24 05:21:20</td>\n",
              "      <td>sukabumiNewsnet</td>\n",
              "      <td>Garis Sukabumi Raya Lakukan Trauma Healing unt...</td>\n",
              "      <td>0</td>\n",
              "      <td>0</td>\n",
              "      <td>0</td>\n",
              "      <td>garis sukabumi raya lakukan trauma healing unt...</td>\n",
              "    </tr>\n",
              "    <tr>\n",
              "      <th>2</th>\n",
              "      <td>5</td>\n",
              "      <td>2022-12-23 16:28:21</td>\n",
              "      <td>KuretaID</td>\n",
              "      <td>Jumat Siang Ini Sukabumi Diguncang Gempa 3,1 M...</td>\n",
              "      <td>0</td>\n",
              "      <td>0</td>\n",
              "      <td>0</td>\n",
              "      <td>jumat siang ini sukabumi diguncang gempa     m...</td>\n",
              "    </tr>\n",
              "    <tr>\n",
              "      <th>3</th>\n",
              "      <td>5</td>\n",
              "      <td>2022-12-23 11:55:35</td>\n",
              "      <td>EMSC</td>\n",
              "      <td>#Earthquake (#gempa) M2.7 strikes 25 km NE of ...</td>\n",
              "      <td>3</td>\n",
              "      <td>0</td>\n",
              "      <td>1</td>\n",
              "      <td>earthquake    m    strikes    km ne of sukabum...</td>\n",
              "    </tr>\n",
              "    <tr>\n",
              "      <th>4</th>\n",
              "      <td>5</td>\n",
              "      <td>2022-12-23 08:17:34</td>\n",
              "      <td>sofi_hwajiyong</td>\n",
              "      <td>BMKG Deteksi Gempa Magnitudo 3.1 di Kabupaten ...</td>\n",
              "      <td>1</td>\n",
              "      <td>0</td>\n",
              "      <td>0</td>\n",
              "      <td>bmkg deteksi gempa magnitudo     di kabupaten ...</td>\n",
              "    </tr>\n",
              "  </tbody>\n",
              "</table>\n",
              "</div>\n",
              "      <button class=\"colab-df-convert\" onclick=\"convertToInteractive('df-d66e58b6-03ce-4e8b-8672-68c86b5b6053')\"\n",
              "              title=\"Convert this dataframe to an interactive table.\"\n",
              "              style=\"display:none;\">\n",
              "        \n",
              "  <svg xmlns=\"http://www.w3.org/2000/svg\" height=\"24px\"viewBox=\"0 0 24 24\"\n",
              "       width=\"24px\">\n",
              "    <path d=\"M0 0h24v24H0V0z\" fill=\"none\"/>\n",
              "    <path d=\"M18.56 5.44l.94 2.06.94-2.06 2.06-.94-2.06-.94-.94-2.06-.94 2.06-2.06.94zm-11 1L8.5 8.5l.94-2.06 2.06-.94-2.06-.94L8.5 2.5l-.94 2.06-2.06.94zm10 10l.94 2.06.94-2.06 2.06-.94-2.06-.94-.94-2.06-.94 2.06-2.06.94z\"/><path d=\"M17.41 7.96l-1.37-1.37c-.4-.4-.92-.59-1.43-.59-.52 0-1.04.2-1.43.59L10.3 9.45l-7.72 7.72c-.78.78-.78 2.05 0 2.83L4 21.41c.39.39.9.59 1.41.59.51 0 1.02-.2 1.41-.59l7.78-7.78 2.81-2.81c.8-.78.8-2.07 0-2.86zM5.41 20L4 18.59l7.72-7.72 1.47 1.35L5.41 20z\"/>\n",
              "  </svg>\n",
              "      </button>\n",
              "      \n",
              "  <style>\n",
              "    .colab-df-container {\n",
              "      display:flex;\n",
              "      flex-wrap:wrap;\n",
              "      gap: 12px;\n",
              "    }\n",
              "\n",
              "    .colab-df-convert {\n",
              "      background-color: #E8F0FE;\n",
              "      border: none;\n",
              "      border-radius: 50%;\n",
              "      cursor: pointer;\n",
              "      display: none;\n",
              "      fill: #1967D2;\n",
              "      height: 32px;\n",
              "      padding: 0 0 0 0;\n",
              "      width: 32px;\n",
              "    }\n",
              "\n",
              "    .colab-df-convert:hover {\n",
              "      background-color: #E2EBFA;\n",
              "      box-shadow: 0px 1px 2px rgba(60, 64, 67, 0.3), 0px 1px 3px 1px rgba(60, 64, 67, 0.15);\n",
              "      fill: #174EA6;\n",
              "    }\n",
              "\n",
              "    [theme=dark] .colab-df-convert {\n",
              "      background-color: #3B4455;\n",
              "      fill: #D2E3FC;\n",
              "    }\n",
              "\n",
              "    [theme=dark] .colab-df-convert:hover {\n",
              "      background-color: #434B5C;\n",
              "      box-shadow: 0px 1px 3px 1px rgba(0, 0, 0, 0.15);\n",
              "      filter: drop-shadow(0px 1px 2px rgba(0, 0, 0, 0.3));\n",
              "      fill: #FFFFFF;\n",
              "    }\n",
              "  </style>\n",
              "\n",
              "      <script>\n",
              "        const buttonEl =\n",
              "          document.querySelector('#df-d66e58b6-03ce-4e8b-8672-68c86b5b6053 button.colab-df-convert');\n",
              "        buttonEl.style.display =\n",
              "          google.colab.kernel.accessAllowed ? 'block' : 'none';\n",
              "\n",
              "        async function convertToInteractive(key) {\n",
              "          const element = document.querySelector('#df-d66e58b6-03ce-4e8b-8672-68c86b5b6053');\n",
              "          const dataTable =\n",
              "            await google.colab.kernel.invokeFunction('convertToInteractive',\n",
              "                                                     [key], {});\n",
              "          if (!dataTable) return;\n",
              "\n",
              "          const docLinkHtml = 'Like what you see? Visit the ' +\n",
              "            '<a target=\"_blank\" href=https://colab.research.google.com/notebooks/data_table.ipynb>data table notebook</a>'\n",
              "            + ' to learn more about interactive tables.';\n",
              "          element.innerHTML = '';\n",
              "          dataTable['output_type'] = 'display_data';\n",
              "          await google.colab.output.renderOutput(dataTable, element);\n",
              "          const docLink = document.createElement('div');\n",
              "          docLink.innerHTML = docLinkHtml;\n",
              "          element.appendChild(docLink);\n",
              "        }\n",
              "      </script>\n",
              "    </div>\n",
              "  </div>\n",
              "  "
            ]
          },
          "metadata": {},
          "execution_count": 16
        }
      ]
    },
    {
      "cell_type": "markdown",
      "source": [
        "## **4.5 Normalisasi**"
      ],
      "metadata": {
        "id": "TlLV8YOtbHGf"
      }
    },
    {
      "cell_type": "markdown",
      "source": [
        "**Setelah melakukan tokenizing, akan dilakukan normalisasi. Normalisasi dilakukan untuk mengganti kata yang tidak baku menjadi baku dan memperbaiki singkatan kata. Sebelum melakukan normalisasi, dibuat terlebih dulu dictionary `D` yang berisi kata tidak baku dan kata baku serta singkatan dan kepanjangan dari singkatan tersebut. Kata-kata ini didapatkan setelah melihat data melalui file csv.**"
      ],
      "metadata": {
        "id": "ZUKfWvGl_5iJ"
      }
    },
    {
      "cell_type": "code",
      "source": [
        "D = {'ne' : 'northeast',\n",
        "'sw' : 'southwest',\n",
        "'kab' : 'kabupaten',\n",
        "'jabar' : 'jawa barat',\n",
        "'mag' : 'magnitudo',\n",
        "'kedlmn' : 'kedalaman',\n",
        "'dlm' : 'dalam',\n",
        "'bbrp' : 'beberapa',\n",
        "'stlh' : 'setelah',\n",
        "'gmp' : 'gempa',\n",
        "'blm' : 'belum',\n",
        "'tlh' : 'telah',\n",
        "'mekindungi' : 'melindungi',\n",
        "'sy' : 'saya',\n",
        "'kab' : 'kabupaten',\n",
        "'yg' : 'yang',\n",
        "'grgr' : 'gara gara',\n",
        "'aing' : 'saya',\n",
        "'skrg' : 'sekarang',\n",
        "'gak' : 'tidak',\n",
        "'nu' : 'naudatul ulama',\n",
        "'kemarin2' : 'kemarin',\n",
        "'2x' : 'dua kali',\n",
        "'beneran' : 'benar',\n",
        "'bener' : 'benar benar',\n",
        "'pala' : 'kepala',\n",
        "'gatel' : 'gatal',\n",
        "'bgt' : 'banget',\n",
        "'tp' : 'tapi',\n",
        "'msh' : 'masih',\n",
        "'yaallah' : 'ya allah',\n",
        "'meronta2' : 'meronta ronta',\n",
        "'ci anjur' : 'cianjur',\n",
        "'pengandaran' : 'pangandaran',\n",
        "'s' : 'south',\n",
        "'baratdaya' : 'barat daya',\n",
        "'sering2' : 'sering sering',\n",
        "'ambles' : 'amblas',\n",
        "'palabuhanratu' : 'pelabuhan ratu',\n",
        "'ga' : 'tidak',\n",
        "'berturut2' : 'berturut turut',\n",
        "'pp' : 'pulang-pergi',\n",
        "'kurleb' : 'kurang lebih',\n",
        "'emg' : 'memang',\n",
        "'mak' : 'ibu',\n",
        "'sprti' : 'seperti',\n",
        "'maknya' : 'ibunya',\n",
        "'nyander' : 'bersandar',\n",
        "'kaga' : 'tidak',\n",
        "'jg' : 'juga',\n",
        "'msi' : 'masih',\n",
        "'wa' : 'whatsapp',\n",
        "'sm' : 'sama' ,\n",
        "'cht' : 'chat',\n",
        "'tbtb' : 'tiba tiba',\n",
        "'ngecht' : 'chat',\n",
        "'gangerasa' : 'tidak merasakan',\n",
        "'yaallah' : 'ya allah',\n",
        "'kmren' : 'kemarin' ,\n",
        "'loe' : 'kamu',\n",
        "'gitu' : 'begitu',\n",
        "'dh' : 'sudah',\n",
        "'kek' : 'seperti',\n",
        "'ak' : 'aku',\n",
        "'yaa' : 'iya',\n",
        "'hrs' : 'harus',\n",
        "'gue' : 'aku',\n",
        "'kerasa' : 'terasa',\n",
        "'lg' : 'lagi',\n",
        "'jiuga' : 'juga',\n",
        "'dom' : 'domisili',\n",
        "'staysave' : 'stay safe',\n",
        "'lok' : 'lokasi',\n",
        "'tapi' : 'tetapi',\n",
        "'pagi2' : 'pagi pagi',\n",
        "'goyang2' : 'goyang goyang',\n",
        "'karna' : 'karena',\n",
        "'brita' : 'berita',\n",
        "'kmrn' : 'kemarin',\n",
        "'smoga' : 'semoga',\n",
        "'baik2' : 'baik baik',\n",
        "'aja' : 'saja',\n",
        "'cmas' : 'cemas',\n",
        "'podkesan' : 'podcast',\n",
        "'sw' : 'southwest',\n",
        "'kl' : 'kalau',\n",
        "'dr' : 'dari',\n",
        "'astaghfirullohaldziim' : 'astaghfirullah',\n",
        "'sihh' : 'sih',\n",
        "'keleyengan' : 'pusing',\n",
        "'dirasa2' : 'dirasa rasa',\n",
        "'tanda2' : 'tanda tanda',\n",
        "'jng' : 'jangan',\n",
        "'dgn' : 'dengan',\n",
        "'jkt' : 'jakarta',\n",
        "'wakru' : 'waktu',\n",
        "'pulkam' : 'pulang kampung',\n",
        "'mayan' : 'lumayan',\n",
        "'cmn' : 'cuma',\n",
        "'smnjak' : 'semenjak',\n",
        "'gw' : 'saya',\n",
        "'lgi' : 'lagi',\n",
        "'rebahn' : 'rebahan',\n",
        "'menganalisa' : 'menganalisis',\n",
        "'gua' : 'saya',\n",
        "'lgsg' : 'langsung',\n",
        "'asw' : 'asu',\n",
        "'gempaa' : 'gempa',\n",
        "'cikidot' : 'check it out',\n",
        "'yaaa' : 'ya',\n",
        "'tggl' : 'tanggal',\n",
        "'mlm' : 'malam',\n",
        "'sampe' : 'sampai',\n",
        "'blm' : 'belum',\n",
        "'hr' : 'hari',\n",
        "'bwang' : 'bang',\n",
        "'lemes' : 'lemas',\n",
        "'motif' : 'notifikasi',\n",
        "'gimana' : 'bagaimana',\n",
        "'safff' : 'saf',\n",
        "'kemaren' : 'kemarin',\n",
        "'trs' : 'terus',\n",
        "'gaksih' : 'tidak sih',\n",
        "'nelpon' : 'menelepon',\n",
        "'hayu' : 'ayo',\n",
        "'ngadua ka' : 'berdoa ke',\n",
        "'stunami' : 'tsunami',\n",
        "'jawabarat' : 'jawa barat',\n",
        "'wuihhh' : 'wah',\n",
        "'coii' : 'hei',\n",
        "'q g kerasa' : 'aku tidak terasa',\n",
        "'jln' : 'jalan',\n",
        "'ya alloh' : 'ya allah',\n",
        "'dng' : 'dengan',\n",
        "'imi' : 'ini',\n",
        "'tdk' : 'tidak',\n",
        "'ayangku' : 'sayangku',\n",
        "'pdhl' : 'padahal',\n",
        "'tkt' : 'takut',\n",
        "'bag' : 'bagian',\n",
        "'duhh' : 'duh',\n",
        "'nihh' : 'nih',\n",
        "'kann' : 'kan',\n",
        "'lbh' : 'lebih',\n",
        "'baik2' : 'baik baik',\n",
        "'takuuuuuuut' : 'takut',\n",
        "'yaa' : 'iya',\n",
        "'tangsel' : 'tangerang selatan',\n",
        "'abis' : 'habis',\n",
        "'ktnya' : 'katanya',\n",
        "'sya' : 'saya',\n",
        "'plbbuaratu' : 'pelabuhan ratu',\n",
        "'klw' : 'kalau',\n",
        "'bersekala' : 'berskala',\n",
        "'kmi' : 'kami',\n",
        "'emang' : 'memang',\n",
        "'smoga' : 'semoga',\n",
        "'aamiin' : 'amin',\n",
        "'yra' : 'ya rabbal alamin',\n",
        "'tau' : 'tahu',\n",
        "'men' : 'bro',\n",
        "'td' : 'tadi',\n",
        "'yaallah' : 'ya allah',\n",
        "'was2' : 'was was',\n",
        "'b aja' : 'biasa saja',\n",
        "'kk' : 'kakak',\n",
        "'ma' : 'ibu',\n",
        "'lahhh' : 'lah',\n",
        "'koo' : 'kok',\n",
        "'ds' : 'desa',\n",
        "'grmpa' : 'gempa',\n",
        "'garie' : 'garis',\n",
        "'nnti' : 'nanti',\n",
        "'php' : 'pemberi harapan palsu',\n",
        "'sodaranya' : 'saudaranya',\n",
        "'kn' : 'kan',\n",
        "'gpp' : 'tidak apa apa',\n",
        "'yu' : 'kamu',\n",
        "'kno' : 'tahu',\n",
        "'la' : 'lah',\n",
        "'smwa' : 'semua',\n",
        "'cairin' : 'mencairkan',\n",
        "'nelfon' : 'menelepon',\n",
        "'huuu' : 'sedih',\n",
        "'y' : 'iya',\n",
        "'ebwiii' : 'abi',\n",
        "'ngrasa' : 'merasakan',\n",
        "'kemana2' : 'kemana mana' ,\n",
        "'yaallahhh' : 'ya allah',\n",
        "'udah' : 'sudah',\n",
        "'hallo' : 'halo',\n",
        "'bangey' : 'banget',\n",
        "'soalnha' : 'soalnya',\n",
        "'asikk' : 'asyik',\n",
        "'hadeh' : 'aduh',\n",
        "'bruh' : 'bro',\n",
        "'sdh' : 'sudah',\n",
        "'tenan' : 'tenang',\n",
        "'iki' : 'ini',\n",
        "'wes' : 'sudah',\n",
        "'ono' : 'ada',\n",
        "'3x' : 'tiga kali',\n",
        "'gunungkidul' : 'gunung kidul',\n",
        "'geteran' : 'getaran',\n",
        "'mernurut' : 'menurut',\n",
        "'ajah' : 'saja',\n",
        "'ko' : 'kok',\n",
        "'dmna2' : 'dimana mana',\n",
        "'smg' : 'semoga',\n",
        "'suaranyaaa' : 'suaranya',\n",
        "'huhhh' : 'aduh',\n",
        "'tmn' : 'teman',\n",
        "'broo' : 'bro',\n",
        "'4x' : 'empat kali',\n",
        "'goyangggggg' : 'goyang',\n",
        "'gini' : 'begini',\n",
        "'gempabumi' : 'gempa bumi',\n",
        "'gembong' : 'gendong',\n",
        "'slalu' : 'selalu',\n",
        "'knp' : 'kenapa',\n",
        "'byk' : 'banyak',\n",
        "'rame2' : 'rame rame',\n",
        "'brt' : 'berarti',\n",
        "'kereeen' : 'keren',\n",
        "'klo' : 'kalau',\n",
        "'aamiin' : 'amin',\n",
        "'ceat' : 'cepat',\n",
        "'twit' : 'tweet',\n",
        "'in sya allah' : 'insha allah',\n",
        "'sgt' : 'sangat',\n",
        "'mantul' : 'mantap',\n",
        "'abafi' : 'abadi',\n",
        "'ok' : 'oke',\n",
        "'kerenn' : 'keren',\n",
        "'silaturrahiim' : 'silaturahmi',\n",
        "'tak' : 'tidak',\n",
        "'teman2' : 'teman teman',\n",
        "'d' : 'di',\n",
        "'tiap' : 'setiap',\n",
        "'tijaua' : 'tinjau',\n",
        "'ratusa' : 'ratusan',\n",
        "'rakyata' : 'rakyat',\n",
        "'nii' : 'nih',\n",
        "'oia' : 'oh iya',\n",
        "'mninggalnya' : 'meninggalnya',\n",
        "'ghoib' : 'gaib',\n",
        "'sbg' : 'sebagai',\n",
        "'d7caci' : 'dicaci',\n",
        "'kpd' : 'kepada',\n",
        "'ad' : 'ada',\n",
        "'ngga' : 'tidak',\n",
        "'ae' : 'saja',\n",
        "'baguna' : 'bangunan',\n",
        "'samaaa' : 'sama',\n",
        "'dri' : 'dari',\n",
        "'beberapaa' : 'beberapa',\n",
        "'mreka' : 'mereka',\n",
        "'ttap' : 'tetap',\n",
        "'wkwkwk' : 'hahaha',\n",
        "'lu': 'kamu',\n",
        "'aya' : 'ada',\n",
        "'sbgai' : 'sebagai',\n",
        "'rubuh' : 'roboh',\n",
        "'tapii' : 'tapi',\n",
        "'mw' : 'mau',\n",
        "'males' : 'malas',\n",
        "'nyumbang' : 'menyumbang',\n",
        "'tmpt' : 'tempat',\n",
        "'di beri' : 'diberi',\n",
        "'Alhmdulillah' : 'alhamdulillah',\n",
        "'ooh':'oh',\n",
        "'amiin': 'amin',\n",
        "'teman2yg':'teman teman yang',\n",
        "'hahh':'hah',\n",
        "'Alhamdulillaaaaah': 'Alhamdulillah',\n",
        "'dpt':'dapat','ditlpn':'ditelepon',\n",
        "'jm2':'jam 2',\n",
        "'bkn':'bukan',\n",
        "'telsh':'telah',\n",
        "'pls':'tolong',\n",
        "'dimana2': 'dimana mana',\n",
        "'kt' : 'kita',\n",
        "'ojol' : 'ojek online',\n",
        "'kaltim' : 'kalimantan timur',\n",
        "'w' : 'saya',\n",
        "'kaya kemarin' : 'seperti kemarin',\n",
        "'voc' : 'voucher',\n",
        "'krn' : 'karena',\n",
        "'gaakan' : 'tidak akan',\n",
        "'ttng' : 'tentang',\n",
        "'insya alloh' : 'insha allah',\n",
        "'dah' : 'sudah',\n",
        "'bangke' : 'bangkai',\n",
        "'didepan' : 'di depan',\n",
        "'bs' : 'bisa',\n",
        "'masy' : 'masyarakat',\n",
        "'baruuuu' : 'baru',\n",
        "'barudaks' : 'anak anak',\n",
        "'anjerrr' : 'astaga',\n",
        "'cakep' : 'tampan',\n",
        "'rame' : 'ramai',\n",
        "'keknya' : 'kayaknya',\n",
        "'parno' : 'takut',\n",
        "'ilang' : 'hilang',\n",
        "'klpk' : 'kelompok',\n",
        "'mo' : 'mau',\n",
        "'ambles' : 'amblas',\n",
        "'nyampe' : 'sampai',\n",
        "'sek' : 'sebentar',\n",
        "'dewe' : 'sendiri',\n",
        "'kondimen' : 'pelengkap',\n",
        "'inget' : 'ingat',\n",
        "'bhw' : 'bahwa',\n",
        "'kp' : 'kampung',\n",
        "'wkekwkw' : 'hahaha',\n",
        "'kalo' : 'kalau',\n",
        "'nak' : 'anak',\n",
        "'Sillaaauu' : 'silau',\n",
        "'lagii' : 'lagi',\n",
        "'ambrol' : 'roboh',\n",
        "'ngeliat' : 'ngelihat',\n",
        "'slquraan' : 'alquraan',\n",
        "'tegoran' : 'teguran',\n",
        "'kec' : 'kecamatan',\n",
        "'gabisa' : 'tidak bisa',\n",
        "'macem' : 'macam',\n",
        "'koq' : 'kok',\n",
        "'bnrn' : 'beneran',\n",
        "'tdi' : 'tadi',\n",
        "'gk' : 'tidak',\n",
        "'gada' : 'tidak ada',\n",
        "'lok' : 'lokasi',\n",
        "'wkwk' : 'haha',\n",
        "'dugem' : 'dunia gemerlap',\n",
        "'berentet' : 'beruntut',\n",
        "'ancur' : 'hancur',\n",
        "'huhhhh' : 'hah',\n",
        "'yaaa' : 'ya',\n",
        "'tbtb' : 'tiba tiba',\n",
        "'blg' : 'bilang',\n",
        "'broo' : 'bro',\n",
        "'mengguncan' : 'mengguncang',\n",
        "'dom' : 'domisili',\n",
        "'kenceng' : 'kencang',\n",
        "'cm' : 'cuma',\n",
        "'diliat' : 'dilihat',\n",
        "'krisi' : 'krisis',\n",
        "'m' : 'magnitudo',\n",
        "'km' : 'kilometer',\n",
        "'kyk' : 'seperti',\n",
        "'ngk' : 'tidak',\n",
        "'kh' : 'kah',\n",
        "'dg' : 'dengan',\n",
        "'gatau' : 'tidak tahu',\n",
        "'nemu' : 'ketemu',\n",
        "'engga' : 'tidak',\n",
        "'pgen' : 'ingin',\n",
        "'mles': 'malas',\n",
        "'sdg' : 'sedang',\n",
        "'nyaa' : 'nya',\n",
        "'krna' : 'karena',\n",
        "'dekett' : 'dekat',\n",
        "'ngab' : 'bang',\n",
        "'sedapp' : 'sedap',\n",
        "'mna' : 'mana',\n",
        "'blum' : 'belum',\n",
        "'ampir' : 'hampir',\n",
        "'smua' : 'semua',\n",
        "'kgt' : 'kaget',\n",
        "'sekrang' : 'sekarang',\n",
        "'berasa' : 'terasa'}"
      ],
      "metadata": {
        "id": "2fZUOVQ3bFo_"
      },
      "execution_count": null,
      "outputs": []
    },
    {
      "cell_type": "markdown",
      "source": [
        "**Kemudian dibuat fungsi normalisasi(txt) untuk menormalisasikan semua kata pada cleantweet sebelumnya.**"
      ],
      "metadata": {
        "id": "zyu0X7Y2Ad1x"
      }
    },
    {
      "cell_type": "code",
      "source": [
        "def normalisasi(txt):\n",
        "  T = TextBlob(txt).words\n",
        "  for i,t in enumerate(T):\n",
        "    if t in D.keys():\n",
        "      T[i] = D[t]\n",
        "  teks = str(' '.join(T))\n",
        "  return teks"
      ],
      "metadata": {
        "id": "1mZZxF2ttXp2"
      },
      "execution_count": null,
      "outputs": []
    },
    {
      "cell_type": "markdown",
      "source": [
        "**Setelah itu, data pada kolom cleantweet diupdate dengan menggunakan fungsi normalisasi, sehingga didapatkan sebagai berikut.**"
      ],
      "metadata": {
        "id": "Zv-MOUBGA5KY"
      }
    },
    {
      "cell_type": "code",
      "source": [
        "for idx, post in tqdm(data.iterrows()):\n",
        "    data.at[idx, 'cleantweet'] = normalisasi(post.cleantweet)\n",
        "\n",
        "data.head()"
      ],
      "metadata": {
        "id": "YJI7seEn7aWR",
        "colab": {
          "base_uri": "https://localhost:8080/",
          "height": 224
        },
        "outputId": "ac5f0be6-b894-49de-993f-dd33f1c847f3"
      },
      "execution_count": null,
      "outputs": [
        {
          "output_type": "stream",
          "name": "stderr",
          "text": [
            "19619it [00:12, 1602.93it/s]\n"
          ]
        },
        {
          "output_type": "execute_result",
          "data": {
            "text/plain": [
              "   day                date         username  \\\n",
              "0    6 2022-12-24 05:50:34             EMSC   \n",
              "1    6 2022-12-24 05:21:20  sukabumiNewsnet   \n",
              "2    5 2022-12-23 16:28:21         KuretaID   \n",
              "3    5 2022-12-23 11:55:35             EMSC   \n",
              "4    5 2022-12-23 08:17:34   sofi_hwajiyong   \n",
              "\n",
              "                                               tweet  nlikes  nreplies  \\\n",
              "0  #Earthquake (#gempa) M2.7 strikes 17 km NE of ...       1         0   \n",
              "1  Garis Sukabumi Raya Lakukan Trauma Healing unt...       0         0   \n",
              "2  Jumat Siang Ini Sukabumi Diguncang Gempa 3,1 M...       0         0   \n",
              "3  #Earthquake (#gempa) M2.7 strikes 25 km NE of ...       3         0   \n",
              "4  BMKG Deteksi Gempa Magnitudo 3.1 di Kabupaten ...       1         0   \n",
              "\n",
              "   nretweets                                         cleantweet  \n",
              "0          0  earthquake magnitudo strikes kilometer northea...  \n",
              "1          0  garis sukabumi raya lakukan trauma healing unt...  \n",
              "2          0  jumat siang ini sukabumi diguncang gempa magni...  \n",
              "3          1  earthquake magnitudo strikes kilometer northea...  \n",
              "4          0  bmkg deteksi gempa magnitudo di kabupaten suka...  "
            ],
            "text/html": [
              "\n",
              "  <div id=\"df-1560dfad-d8bd-4440-a2d3-d8a8666c5390\">\n",
              "    <div class=\"colab-df-container\">\n",
              "      <div>\n",
              "<style scoped>\n",
              "    .dataframe tbody tr th:only-of-type {\n",
              "        vertical-align: middle;\n",
              "    }\n",
              "\n",
              "    .dataframe tbody tr th {\n",
              "        vertical-align: top;\n",
              "    }\n",
              "\n",
              "    .dataframe thead th {\n",
              "        text-align: right;\n",
              "    }\n",
              "</style>\n",
              "<table border=\"1\" class=\"dataframe\">\n",
              "  <thead>\n",
              "    <tr style=\"text-align: right;\">\n",
              "      <th></th>\n",
              "      <th>day</th>\n",
              "      <th>date</th>\n",
              "      <th>username</th>\n",
              "      <th>tweet</th>\n",
              "      <th>nlikes</th>\n",
              "      <th>nreplies</th>\n",
              "      <th>nretweets</th>\n",
              "      <th>cleantweet</th>\n",
              "    </tr>\n",
              "  </thead>\n",
              "  <tbody>\n",
              "    <tr>\n",
              "      <th>0</th>\n",
              "      <td>6</td>\n",
              "      <td>2022-12-24 05:50:34</td>\n",
              "      <td>EMSC</td>\n",
              "      <td>#Earthquake (#gempa) M2.7 strikes 17 km NE of ...</td>\n",
              "      <td>1</td>\n",
              "      <td>0</td>\n",
              "      <td>0</td>\n",
              "      <td>earthquake magnitudo strikes kilometer northea...</td>\n",
              "    </tr>\n",
              "    <tr>\n",
              "      <th>1</th>\n",
              "      <td>6</td>\n",
              "      <td>2022-12-24 05:21:20</td>\n",
              "      <td>sukabumiNewsnet</td>\n",
              "      <td>Garis Sukabumi Raya Lakukan Trauma Healing unt...</td>\n",
              "      <td>0</td>\n",
              "      <td>0</td>\n",
              "      <td>0</td>\n",
              "      <td>garis sukabumi raya lakukan trauma healing unt...</td>\n",
              "    </tr>\n",
              "    <tr>\n",
              "      <th>2</th>\n",
              "      <td>5</td>\n",
              "      <td>2022-12-23 16:28:21</td>\n",
              "      <td>KuretaID</td>\n",
              "      <td>Jumat Siang Ini Sukabumi Diguncang Gempa 3,1 M...</td>\n",
              "      <td>0</td>\n",
              "      <td>0</td>\n",
              "      <td>0</td>\n",
              "      <td>jumat siang ini sukabumi diguncang gempa magni...</td>\n",
              "    </tr>\n",
              "    <tr>\n",
              "      <th>3</th>\n",
              "      <td>5</td>\n",
              "      <td>2022-12-23 11:55:35</td>\n",
              "      <td>EMSC</td>\n",
              "      <td>#Earthquake (#gempa) M2.7 strikes 25 km NE of ...</td>\n",
              "      <td>3</td>\n",
              "      <td>0</td>\n",
              "      <td>1</td>\n",
              "      <td>earthquake magnitudo strikes kilometer northea...</td>\n",
              "    </tr>\n",
              "    <tr>\n",
              "      <th>4</th>\n",
              "      <td>5</td>\n",
              "      <td>2022-12-23 08:17:34</td>\n",
              "      <td>sofi_hwajiyong</td>\n",
              "      <td>BMKG Deteksi Gempa Magnitudo 3.1 di Kabupaten ...</td>\n",
              "      <td>1</td>\n",
              "      <td>0</td>\n",
              "      <td>0</td>\n",
              "      <td>bmkg deteksi gempa magnitudo di kabupaten suka...</td>\n",
              "    </tr>\n",
              "  </tbody>\n",
              "</table>\n",
              "</div>\n",
              "      <button class=\"colab-df-convert\" onclick=\"convertToInteractive('df-1560dfad-d8bd-4440-a2d3-d8a8666c5390')\"\n",
              "              title=\"Convert this dataframe to an interactive table.\"\n",
              "              style=\"display:none;\">\n",
              "        \n",
              "  <svg xmlns=\"http://www.w3.org/2000/svg\" height=\"24px\"viewBox=\"0 0 24 24\"\n",
              "       width=\"24px\">\n",
              "    <path d=\"M0 0h24v24H0V0z\" fill=\"none\"/>\n",
              "    <path d=\"M18.56 5.44l.94 2.06.94-2.06 2.06-.94-2.06-.94-.94-2.06-.94 2.06-2.06.94zm-11 1L8.5 8.5l.94-2.06 2.06-.94-2.06-.94L8.5 2.5l-.94 2.06-2.06.94zm10 10l.94 2.06.94-2.06 2.06-.94-2.06-.94-.94-2.06-.94 2.06-2.06.94z\"/><path d=\"M17.41 7.96l-1.37-1.37c-.4-.4-.92-.59-1.43-.59-.52 0-1.04.2-1.43.59L10.3 9.45l-7.72 7.72c-.78.78-.78 2.05 0 2.83L4 21.41c.39.39.9.59 1.41.59.51 0 1.02-.2 1.41-.59l7.78-7.78 2.81-2.81c.8-.78.8-2.07 0-2.86zM5.41 20L4 18.59l7.72-7.72 1.47 1.35L5.41 20z\"/>\n",
              "  </svg>\n",
              "      </button>\n",
              "      \n",
              "  <style>\n",
              "    .colab-df-container {\n",
              "      display:flex;\n",
              "      flex-wrap:wrap;\n",
              "      gap: 12px;\n",
              "    }\n",
              "\n",
              "    .colab-df-convert {\n",
              "      background-color: #E8F0FE;\n",
              "      border: none;\n",
              "      border-radius: 50%;\n",
              "      cursor: pointer;\n",
              "      display: none;\n",
              "      fill: #1967D2;\n",
              "      height: 32px;\n",
              "      padding: 0 0 0 0;\n",
              "      width: 32px;\n",
              "    }\n",
              "\n",
              "    .colab-df-convert:hover {\n",
              "      background-color: #E2EBFA;\n",
              "      box-shadow: 0px 1px 2px rgba(60, 64, 67, 0.3), 0px 1px 3px 1px rgba(60, 64, 67, 0.15);\n",
              "      fill: #174EA6;\n",
              "    }\n",
              "\n",
              "    [theme=dark] .colab-df-convert {\n",
              "      background-color: #3B4455;\n",
              "      fill: #D2E3FC;\n",
              "    }\n",
              "\n",
              "    [theme=dark] .colab-df-convert:hover {\n",
              "      background-color: #434B5C;\n",
              "      box-shadow: 0px 1px 3px 1px rgba(0, 0, 0, 0.15);\n",
              "      filter: drop-shadow(0px 1px 2px rgba(0, 0, 0, 0.3));\n",
              "      fill: #FFFFFF;\n",
              "    }\n",
              "  </style>\n",
              "\n",
              "      <script>\n",
              "        const buttonEl =\n",
              "          document.querySelector('#df-1560dfad-d8bd-4440-a2d3-d8a8666c5390 button.colab-df-convert');\n",
              "        buttonEl.style.display =\n",
              "          google.colab.kernel.accessAllowed ? 'block' : 'none';\n",
              "\n",
              "        async function convertToInteractive(key) {\n",
              "          const element = document.querySelector('#df-1560dfad-d8bd-4440-a2d3-d8a8666c5390');\n",
              "          const dataTable =\n",
              "            await google.colab.kernel.invokeFunction('convertToInteractive',\n",
              "                                                     [key], {});\n",
              "          if (!dataTable) return;\n",
              "\n",
              "          const docLinkHtml = 'Like what you see? Visit the ' +\n",
              "            '<a target=\"_blank\" href=https://colab.research.google.com/notebooks/data_table.ipynb>data table notebook</a>'\n",
              "            + ' to learn more about interactive tables.';\n",
              "          element.innerHTML = '';\n",
              "          dataTable['output_type'] = 'display_data';\n",
              "          await google.colab.output.renderOutput(dataTable, element);\n",
              "          const docLink = document.createElement('div');\n",
              "          docLink.innerHTML = docLinkHtml;\n",
              "          element.appendChild(docLink);\n",
              "        }\n",
              "      </script>\n",
              "    </div>\n",
              "  </div>\n",
              "  "
            ]
          },
          "metadata": {},
          "execution_count": 19
        }
      ]
    },
    {
      "cell_type": "markdown",
      "source": [
        "## **4.6 Filtering**"
      ],
      "metadata": {
        "id": "ljTdNRyPbI8W"
      }
    },
    {
      "cell_type": "markdown",
      "source": [
        "**Langkah selanjutnya adalah filtering. Filtering dilakukan untuk menghapus stopwords yang ada pada cleantweet. Hal ini dilakukan, agar saat dilakukan visualisasi tidak banyak kata tidak bermakna yang muncul menjadi kata yg dominan. Disini digunakan list stopwords dari package NLTK, serta ditambah dan dikurangkan beberapa kata. list stopwords tersebut disimpan dalam `hapus_kata`**"
      ],
      "metadata": {
        "id": "H-XRlChhBEVr"
      }
    },
    {
      "cell_type": "code",
      "source": [
        "hapus = stopwords.words('indonesian')\n",
        "hapus.remove('tidak')\n",
        "tambah = ['iya', 'mulu', 'banget', 'kok', 'nih', 'semoga', 'teh', 'deh','btw', '&gt', 'sih']\n",
        "hapus_kata = hapus + tambah"
      ],
      "metadata": {
        "id": "11rN-FlfbT1Z"
      },
      "execution_count": null,
      "outputs": []
    },
    {
      "cell_type": "markdown",
      "source": [
        "**Kemudian, didefinisikan fungsi filtering(txt) untuk menghapus kata yang termasuk dalam `hapus_kata`.**"
      ],
      "metadata": {
        "id": "GOtEOFHJBqIp"
      }
    },
    {
      "cell_type": "code",
      "source": [
        "def filtering(txt):\n",
        "  text = TextBlob(txt).words\n",
        "  text = [t for t in text if t not in hapus_kata]\n",
        "  teks = str(' '.join(text))\n",
        "  return teks"
      ],
      "metadata": {
        "id": "h-omn-BicqRw"
      },
      "execution_count": null,
      "outputs": []
    },
    {
      "cell_type": "markdown",
      "source": [
        "**Selanjutnya, data pada kolom cleantweet diupdate kembali dengan menggunakan fungsi filtering.**"
      ],
      "metadata": {
        "id": "bKZusMSEB2tS"
      }
    },
    {
      "cell_type": "code",
      "source": [
        "for idx, post in tqdm(data.iterrows()):\n",
        "    data.at[idx, 'cleantweet'] = filtering(post.cleantweet)\n",
        "\n",
        "data.head()"
      ],
      "metadata": {
        "id": "H6QKGHeccRP0",
        "colab": {
          "base_uri": "https://localhost:8080/",
          "height": 224
        },
        "outputId": "311d22a2-d9e1-44ab-a662-93077e39362c"
      },
      "execution_count": null,
      "outputs": [
        {
          "output_type": "stream",
          "name": "stderr",
          "text": [
            "19619it [00:24, 807.78it/s] \n"
          ]
        },
        {
          "output_type": "execute_result",
          "data": {
            "text/plain": [
              "   day                date         username  \\\n",
              "0    6 2022-12-24 05:50:34             EMSC   \n",
              "1    6 2022-12-24 05:21:20  sukabumiNewsnet   \n",
              "2    5 2022-12-23 16:28:21         KuretaID   \n",
              "3    5 2022-12-23 11:55:35             EMSC   \n",
              "4    5 2022-12-23 08:17:34   sofi_hwajiyong   \n",
              "\n",
              "                                               tweet  nlikes  nreplies  \\\n",
              "0  #Earthquake (#gempa) M2.7 strikes 17 km NE of ...       1         0   \n",
              "1  Garis Sukabumi Raya Lakukan Trauma Healing unt...       0         0   \n",
              "2  Jumat Siang Ini Sukabumi Diguncang Gempa 3,1 M...       0         0   \n",
              "3  #Earthquake (#gempa) M2.7 strikes 25 km NE of ...       3         0   \n",
              "4  BMKG Deteksi Gempa Magnitudo 3.1 di Kabupaten ...       1         0   \n",
              "\n",
              "   nretweets                                         cleantweet  \n",
              "0          0  earthquake magnitudo strikes kilometer northea...  \n",
              "1          0  garis sukabumi raya lakukan trauma healing ana...  \n",
              "2          0     jumat siang sukabumi diguncang gempa magnitudo  \n",
              "3          1  earthquake magnitudo strikes kilometer northea...  \n",
              "4          0  bmkg deteksi gempa magnitudo kabupaten sukabum...  "
            ],
            "text/html": [
              "\n",
              "  <div id=\"df-1847d557-2304-45ba-9d76-76549609e89c\">\n",
              "    <div class=\"colab-df-container\">\n",
              "      <div>\n",
              "<style scoped>\n",
              "    .dataframe tbody tr th:only-of-type {\n",
              "        vertical-align: middle;\n",
              "    }\n",
              "\n",
              "    .dataframe tbody tr th {\n",
              "        vertical-align: top;\n",
              "    }\n",
              "\n",
              "    .dataframe thead th {\n",
              "        text-align: right;\n",
              "    }\n",
              "</style>\n",
              "<table border=\"1\" class=\"dataframe\">\n",
              "  <thead>\n",
              "    <tr style=\"text-align: right;\">\n",
              "      <th></th>\n",
              "      <th>day</th>\n",
              "      <th>date</th>\n",
              "      <th>username</th>\n",
              "      <th>tweet</th>\n",
              "      <th>nlikes</th>\n",
              "      <th>nreplies</th>\n",
              "      <th>nretweets</th>\n",
              "      <th>cleantweet</th>\n",
              "    </tr>\n",
              "  </thead>\n",
              "  <tbody>\n",
              "    <tr>\n",
              "      <th>0</th>\n",
              "      <td>6</td>\n",
              "      <td>2022-12-24 05:50:34</td>\n",
              "      <td>EMSC</td>\n",
              "      <td>#Earthquake (#gempa) M2.7 strikes 17 km NE of ...</td>\n",
              "      <td>1</td>\n",
              "      <td>0</td>\n",
              "      <td>0</td>\n",
              "      <td>earthquake magnitudo strikes kilometer northea...</td>\n",
              "    </tr>\n",
              "    <tr>\n",
              "      <th>1</th>\n",
              "      <td>6</td>\n",
              "      <td>2022-12-24 05:21:20</td>\n",
              "      <td>sukabumiNewsnet</td>\n",
              "      <td>Garis Sukabumi Raya Lakukan Trauma Healing unt...</td>\n",
              "      <td>0</td>\n",
              "      <td>0</td>\n",
              "      <td>0</td>\n",
              "      <td>garis sukabumi raya lakukan trauma healing ana...</td>\n",
              "    </tr>\n",
              "    <tr>\n",
              "      <th>2</th>\n",
              "      <td>5</td>\n",
              "      <td>2022-12-23 16:28:21</td>\n",
              "      <td>KuretaID</td>\n",
              "      <td>Jumat Siang Ini Sukabumi Diguncang Gempa 3,1 M...</td>\n",
              "      <td>0</td>\n",
              "      <td>0</td>\n",
              "      <td>0</td>\n",
              "      <td>jumat siang sukabumi diguncang gempa magnitudo</td>\n",
              "    </tr>\n",
              "    <tr>\n",
              "      <th>3</th>\n",
              "      <td>5</td>\n",
              "      <td>2022-12-23 11:55:35</td>\n",
              "      <td>EMSC</td>\n",
              "      <td>#Earthquake (#gempa) M2.7 strikes 25 km NE of ...</td>\n",
              "      <td>3</td>\n",
              "      <td>0</td>\n",
              "      <td>1</td>\n",
              "      <td>earthquake magnitudo strikes kilometer northea...</td>\n",
              "    </tr>\n",
              "    <tr>\n",
              "      <th>4</th>\n",
              "      <td>5</td>\n",
              "      <td>2022-12-23 08:17:34</td>\n",
              "      <td>sofi_hwajiyong</td>\n",
              "      <td>BMKG Deteksi Gempa Magnitudo 3.1 di Kabupaten ...</td>\n",
              "      <td>1</td>\n",
              "      <td>0</td>\n",
              "      <td>0</td>\n",
              "      <td>bmkg deteksi gempa magnitudo kabupaten sukabum...</td>\n",
              "    </tr>\n",
              "  </tbody>\n",
              "</table>\n",
              "</div>\n",
              "      <button class=\"colab-df-convert\" onclick=\"convertToInteractive('df-1847d557-2304-45ba-9d76-76549609e89c')\"\n",
              "              title=\"Convert this dataframe to an interactive table.\"\n",
              "              style=\"display:none;\">\n",
              "        \n",
              "  <svg xmlns=\"http://www.w3.org/2000/svg\" height=\"24px\"viewBox=\"0 0 24 24\"\n",
              "       width=\"24px\">\n",
              "    <path d=\"M0 0h24v24H0V0z\" fill=\"none\"/>\n",
              "    <path d=\"M18.56 5.44l.94 2.06.94-2.06 2.06-.94-2.06-.94-.94-2.06-.94 2.06-2.06.94zm-11 1L8.5 8.5l.94-2.06 2.06-.94-2.06-.94L8.5 2.5l-.94 2.06-2.06.94zm10 10l.94 2.06.94-2.06 2.06-.94-2.06-.94-.94-2.06-.94 2.06-2.06.94z\"/><path d=\"M17.41 7.96l-1.37-1.37c-.4-.4-.92-.59-1.43-.59-.52 0-1.04.2-1.43.59L10.3 9.45l-7.72 7.72c-.78.78-.78 2.05 0 2.83L4 21.41c.39.39.9.59 1.41.59.51 0 1.02-.2 1.41-.59l7.78-7.78 2.81-2.81c.8-.78.8-2.07 0-2.86zM5.41 20L4 18.59l7.72-7.72 1.47 1.35L5.41 20z\"/>\n",
              "  </svg>\n",
              "      </button>\n",
              "      \n",
              "  <style>\n",
              "    .colab-df-container {\n",
              "      display:flex;\n",
              "      flex-wrap:wrap;\n",
              "      gap: 12px;\n",
              "    }\n",
              "\n",
              "    .colab-df-convert {\n",
              "      background-color: #E8F0FE;\n",
              "      border: none;\n",
              "      border-radius: 50%;\n",
              "      cursor: pointer;\n",
              "      display: none;\n",
              "      fill: #1967D2;\n",
              "      height: 32px;\n",
              "      padding: 0 0 0 0;\n",
              "      width: 32px;\n",
              "    }\n",
              "\n",
              "    .colab-df-convert:hover {\n",
              "      background-color: #E2EBFA;\n",
              "      box-shadow: 0px 1px 2px rgba(60, 64, 67, 0.3), 0px 1px 3px 1px rgba(60, 64, 67, 0.15);\n",
              "      fill: #174EA6;\n",
              "    }\n",
              "\n",
              "    [theme=dark] .colab-df-convert {\n",
              "      background-color: #3B4455;\n",
              "      fill: #D2E3FC;\n",
              "    }\n",
              "\n",
              "    [theme=dark] .colab-df-convert:hover {\n",
              "      background-color: #434B5C;\n",
              "      box-shadow: 0px 1px 3px 1px rgba(0, 0, 0, 0.15);\n",
              "      filter: drop-shadow(0px 1px 2px rgba(0, 0, 0, 0.3));\n",
              "      fill: #FFFFFF;\n",
              "    }\n",
              "  </style>\n",
              "\n",
              "      <script>\n",
              "        const buttonEl =\n",
              "          document.querySelector('#df-1847d557-2304-45ba-9d76-76549609e89c button.colab-df-convert');\n",
              "        buttonEl.style.display =\n",
              "          google.colab.kernel.accessAllowed ? 'block' : 'none';\n",
              "\n",
              "        async function convertToInteractive(key) {\n",
              "          const element = document.querySelector('#df-1847d557-2304-45ba-9d76-76549609e89c');\n",
              "          const dataTable =\n",
              "            await google.colab.kernel.invokeFunction('convertToInteractive',\n",
              "                                                     [key], {});\n",
              "          if (!dataTable) return;\n",
              "\n",
              "          const docLinkHtml = 'Like what you see? Visit the ' +\n",
              "            '<a target=\"_blank\" href=https://colab.research.google.com/notebooks/data_table.ipynb>data table notebook</a>'\n",
              "            + ' to learn more about interactive tables.';\n",
              "          element.innerHTML = '';\n",
              "          dataTable['output_type'] = 'display_data';\n",
              "          await google.colab.output.renderOutput(dataTable, element);\n",
              "          const docLink = document.createElement('div');\n",
              "          docLink.innerHTML = docLinkHtml;\n",
              "          element.appendChild(docLink);\n",
              "        }\n",
              "      </script>\n",
              "    </div>\n",
              "  </div>\n",
              "  "
            ]
          },
          "metadata": {},
          "execution_count": 22
        }
      ]
    },
    {
      "cell_type": "markdown",
      "source": [
        "## **4.7 Stemming**"
      ],
      "metadata": {
        "id": "IoNSHEW2bUfp"
      }
    },
    {
      "cell_type": "markdown",
      "source": [
        "**Selanjutnya dilakukan stemming. Stemming digunakan untuk menghasilkan kata dasar dengan cara menghilangkan imbuhan. Untuk melakukan stemming didefinisikan fungsi stem(txt).**"
      ],
      "metadata": {
        "id": "Xp1NrTzoCRHL"
      }
    },
    {
      "cell_type": "code",
      "source": [
        "def stem(txt):\n",
        "  text_stem = stemmer.stem(txt)\n",
        "  return text_stem"
      ],
      "metadata": {
        "id": "Ji_FlMpxbVmG"
      },
      "execution_count": null,
      "outputs": []
    },
    {
      "cell_type": "markdown",
      "source": [
        "**Kemudian, data pada kolom cleantweet kembali diupdate dengan menggunakan fungsi stem.**"
      ],
      "metadata": {
        "id": "DqWb0JfOCsO5"
      }
    },
    {
      "cell_type": "code",
      "source": [
        "for idx, post in tqdm(data.iterrows()):\n",
        "  data.at[idx, 'cleantweet'] = stem(post.cleantweet)\n",
        "\n",
        "data.head()"
      ],
      "metadata": {
        "id": "b20aU6bEOXv4",
        "colab": {
          "base_uri": "https://localhost:8080/",
          "height": 224
        },
        "outputId": "a4508add-967a-4246-8a32-aaf4e650d9b6"
      },
      "execution_count": null,
      "outputs": [
        {
          "output_type": "stream",
          "name": "stderr",
          "text": [
            "19619it [31:31, 10.37it/s]\n"
          ]
        },
        {
          "output_type": "execute_result",
          "data": {
            "text/plain": [
              "   day                date         username  \\\n",
              "0    6 2022-12-24 05:50:34             EMSC   \n",
              "1    6 2022-12-24 05:21:20  sukabumiNewsnet   \n",
              "2    5 2022-12-23 16:28:21         KuretaID   \n",
              "3    5 2022-12-23 11:55:35             EMSC   \n",
              "4    5 2022-12-23 08:17:34   sofi_hwajiyong   \n",
              "\n",
              "                                               tweet  nlikes  nreplies  \\\n",
              "0  #Earthquake (#gempa) M2.7 strikes 17 km NE of ...       1         0   \n",
              "1  Garis Sukabumi Raya Lakukan Trauma Healing unt...       0         0   \n",
              "2  Jumat Siang Ini Sukabumi Diguncang Gempa 3,1 M...       0         0   \n",
              "3  #Earthquake (#gempa) M2.7 strikes 25 km NE of ...       3         0   \n",
              "4  BMKG Deteksi Gempa Magnitudo 3.1 di Kabupaten ...       1         0   \n",
              "\n",
              "   nretweets                                         cleantweet  \n",
              "0          0  earthquake magnitudo strikes kilometer northea...  \n",
              "1          0  garis sukabumi raya laku trauma healing anak a...  \n",
              "2          0       jumat siang sukabumi guncang gempa magnitudo  \n",
              "3          1  earthquake magnitudo strikes kilometer northea...  \n",
              "4          0  bmkg deteksi gempa magnitudo kabupaten sukabum...  "
            ],
            "text/html": [
              "\n",
              "  <div id=\"df-d502766c-d641-4525-a8e3-8f3fe9cd681e\">\n",
              "    <div class=\"colab-df-container\">\n",
              "      <div>\n",
              "<style scoped>\n",
              "    .dataframe tbody tr th:only-of-type {\n",
              "        vertical-align: middle;\n",
              "    }\n",
              "\n",
              "    .dataframe tbody tr th {\n",
              "        vertical-align: top;\n",
              "    }\n",
              "\n",
              "    .dataframe thead th {\n",
              "        text-align: right;\n",
              "    }\n",
              "</style>\n",
              "<table border=\"1\" class=\"dataframe\">\n",
              "  <thead>\n",
              "    <tr style=\"text-align: right;\">\n",
              "      <th></th>\n",
              "      <th>day</th>\n",
              "      <th>date</th>\n",
              "      <th>username</th>\n",
              "      <th>tweet</th>\n",
              "      <th>nlikes</th>\n",
              "      <th>nreplies</th>\n",
              "      <th>nretweets</th>\n",
              "      <th>cleantweet</th>\n",
              "    </tr>\n",
              "  </thead>\n",
              "  <tbody>\n",
              "    <tr>\n",
              "      <th>0</th>\n",
              "      <td>6</td>\n",
              "      <td>2022-12-24 05:50:34</td>\n",
              "      <td>EMSC</td>\n",
              "      <td>#Earthquake (#gempa) M2.7 strikes 17 km NE of ...</td>\n",
              "      <td>1</td>\n",
              "      <td>0</td>\n",
              "      <td>0</td>\n",
              "      <td>earthquake magnitudo strikes kilometer northea...</td>\n",
              "    </tr>\n",
              "    <tr>\n",
              "      <th>1</th>\n",
              "      <td>6</td>\n",
              "      <td>2022-12-24 05:21:20</td>\n",
              "      <td>sukabumiNewsnet</td>\n",
              "      <td>Garis Sukabumi Raya Lakukan Trauma Healing unt...</td>\n",
              "      <td>0</td>\n",
              "      <td>0</td>\n",
              "      <td>0</td>\n",
              "      <td>garis sukabumi raya laku trauma healing anak a...</td>\n",
              "    </tr>\n",
              "    <tr>\n",
              "      <th>2</th>\n",
              "      <td>5</td>\n",
              "      <td>2022-12-23 16:28:21</td>\n",
              "      <td>KuretaID</td>\n",
              "      <td>Jumat Siang Ini Sukabumi Diguncang Gempa 3,1 M...</td>\n",
              "      <td>0</td>\n",
              "      <td>0</td>\n",
              "      <td>0</td>\n",
              "      <td>jumat siang sukabumi guncang gempa magnitudo</td>\n",
              "    </tr>\n",
              "    <tr>\n",
              "      <th>3</th>\n",
              "      <td>5</td>\n",
              "      <td>2022-12-23 11:55:35</td>\n",
              "      <td>EMSC</td>\n",
              "      <td>#Earthquake (#gempa) M2.7 strikes 25 km NE of ...</td>\n",
              "      <td>3</td>\n",
              "      <td>0</td>\n",
              "      <td>1</td>\n",
              "      <td>earthquake magnitudo strikes kilometer northea...</td>\n",
              "    </tr>\n",
              "    <tr>\n",
              "      <th>4</th>\n",
              "      <td>5</td>\n",
              "      <td>2022-12-23 08:17:34</td>\n",
              "      <td>sofi_hwajiyong</td>\n",
              "      <td>BMKG Deteksi Gempa Magnitudo 3.1 di Kabupaten ...</td>\n",
              "      <td>1</td>\n",
              "      <td>0</td>\n",
              "      <td>0</td>\n",
              "      <td>bmkg deteksi gempa magnitudo kabupaten sukabum...</td>\n",
              "    </tr>\n",
              "  </tbody>\n",
              "</table>\n",
              "</div>\n",
              "      <button class=\"colab-df-convert\" onclick=\"convertToInteractive('df-d502766c-d641-4525-a8e3-8f3fe9cd681e')\"\n",
              "              title=\"Convert this dataframe to an interactive table.\"\n",
              "              style=\"display:none;\">\n",
              "        \n",
              "  <svg xmlns=\"http://www.w3.org/2000/svg\" height=\"24px\"viewBox=\"0 0 24 24\"\n",
              "       width=\"24px\">\n",
              "    <path d=\"M0 0h24v24H0V0z\" fill=\"none\"/>\n",
              "    <path d=\"M18.56 5.44l.94 2.06.94-2.06 2.06-.94-2.06-.94-.94-2.06-.94 2.06-2.06.94zm-11 1L8.5 8.5l.94-2.06 2.06-.94-2.06-.94L8.5 2.5l-.94 2.06-2.06.94zm10 10l.94 2.06.94-2.06 2.06-.94-2.06-.94-.94-2.06-.94 2.06-2.06.94z\"/><path d=\"M17.41 7.96l-1.37-1.37c-.4-.4-.92-.59-1.43-.59-.52 0-1.04.2-1.43.59L10.3 9.45l-7.72 7.72c-.78.78-.78 2.05 0 2.83L4 21.41c.39.39.9.59 1.41.59.51 0 1.02-.2 1.41-.59l7.78-7.78 2.81-2.81c.8-.78.8-2.07 0-2.86zM5.41 20L4 18.59l7.72-7.72 1.47 1.35L5.41 20z\"/>\n",
              "  </svg>\n",
              "      </button>\n",
              "      \n",
              "  <style>\n",
              "    .colab-df-container {\n",
              "      display:flex;\n",
              "      flex-wrap:wrap;\n",
              "      gap: 12px;\n",
              "    }\n",
              "\n",
              "    .colab-df-convert {\n",
              "      background-color: #E8F0FE;\n",
              "      border: none;\n",
              "      border-radius: 50%;\n",
              "      cursor: pointer;\n",
              "      display: none;\n",
              "      fill: #1967D2;\n",
              "      height: 32px;\n",
              "      padding: 0 0 0 0;\n",
              "      width: 32px;\n",
              "    }\n",
              "\n",
              "    .colab-df-convert:hover {\n",
              "      background-color: #E2EBFA;\n",
              "      box-shadow: 0px 1px 2px rgba(60, 64, 67, 0.3), 0px 1px 3px 1px rgba(60, 64, 67, 0.15);\n",
              "      fill: #174EA6;\n",
              "    }\n",
              "\n",
              "    [theme=dark] .colab-df-convert {\n",
              "      background-color: #3B4455;\n",
              "      fill: #D2E3FC;\n",
              "    }\n",
              "\n",
              "    [theme=dark] .colab-df-convert:hover {\n",
              "      background-color: #434B5C;\n",
              "      box-shadow: 0px 1px 3px 1px rgba(0, 0, 0, 0.15);\n",
              "      filter: drop-shadow(0px 1px 2px rgba(0, 0, 0, 0.3));\n",
              "      fill: #FFFFFF;\n",
              "    }\n",
              "  </style>\n",
              "\n",
              "      <script>\n",
              "        const buttonEl =\n",
              "          document.querySelector('#df-d502766c-d641-4525-a8e3-8f3fe9cd681e button.colab-df-convert');\n",
              "        buttonEl.style.display =\n",
              "          google.colab.kernel.accessAllowed ? 'block' : 'none';\n",
              "\n",
              "        async function convertToInteractive(key) {\n",
              "          const element = document.querySelector('#df-d502766c-d641-4525-a8e3-8f3fe9cd681e');\n",
              "          const dataTable =\n",
              "            await google.colab.kernel.invokeFunction('convertToInteractive',\n",
              "                                                     [key], {});\n",
              "          if (!dataTable) return;\n",
              "\n",
              "          const docLinkHtml = 'Like what you see? Visit the ' +\n",
              "            '<a target=\"_blank\" href=https://colab.research.google.com/notebooks/data_table.ipynb>data table notebook</a>'\n",
              "            + ' to learn more about interactive tables.';\n",
              "          element.innerHTML = '';\n",
              "          dataTable['output_type'] = 'display_data';\n",
              "          await google.colab.output.renderOutput(dataTable, element);\n",
              "          const docLink = document.createElement('div');\n",
              "          docLink.innerHTML = docLinkHtml;\n",
              "          element.appendChild(docLink);\n",
              "        }\n",
              "      </script>\n",
              "    </div>\n",
              "  </div>\n",
              "  "
            ]
          },
          "metadata": {},
          "execution_count": 24
        }
      ]
    },
    {
      "cell_type": "markdown",
      "source": [
        "**Selanjutnya, data diubah menjadi file csv dan txt untuk dilakukan visualisasi text**"
      ],
      "metadata": {
        "id": "xfs8IZPrC8TB"
      }
    },
    {
      "cell_type": "code",
      "source": [
        "data.to_csv(r'datafix.csv', index=False, encoding='utf8')"
      ],
      "metadata": {
        "id": "Qk6_qFKiowgR"
      },
      "execution_count": null,
      "outputs": []
    },
    {
      "cell_type": "code",
      "source": [
        "data[['cleantweet']].to_csv(\"cleantweetjadi.txt\", index=False, encoding='utf8', header=False)"
      ],
      "metadata": {
        "id": "lNyQRad26N3z"
      },
      "execution_count": null,
      "outputs": []
    },
    {
      "cell_type": "markdown",
      "source": [
        "# **5. EDA (Exploratory Data Analysis)**"
      ],
      "metadata": {
        "id": "4noavlA19-mi"
      }
    },
    {
      "cell_type": "markdown",
      "source": [
        "**Sebelum melakukan visualisasi teks, akan dilakukan EDA terlebih dulu.Pertama, import module yang digunakan pada EDA**"
      ],
      "metadata": {
        "id": "YJx2D5lxXy9q"
      }
    },
    {
      "cell_type": "code",
      "source": [
        "import matplotlib.pyplot as plt\n",
        "import seaborn as sns"
      ],
      "metadata": {
        "id": "atqGeVV-7CRY"
      },
      "execution_count": null,
      "outputs": []
    },
    {
      "cell_type": "markdown",
      "source": [
        "**Untuk keperluan EDA, akan dibentuk kolom baru yang berisi `year`, `month`, dan `day time` yang berasal dari kolom `date`. Agar dapat dibentuk kolom baru, tipe data kolom `date` diubah terlebih dahulu menjadi tipe data string.**"
      ],
      "metadata": {
        "id": "qDHF4ilNX5e_"
      }
    },
    {
      "cell_type": "code",
      "source": [
        "data['date']= data['date'].astype('str')\n",
        "data[[\"year\",\"month\",\"day time\"]] = data[\"date\"].str.split(\"-\", expand = True)\n",
        "data.head()"
      ],
      "metadata": {
        "id": "futEShlF7atx",
        "colab": {
          "base_uri": "https://localhost:8080/",
          "height": 206
        },
        "outputId": "8984f550-a8ec-4825-8989-546a0a26e51c"
      },
      "execution_count": null,
      "outputs": [
        {
          "output_type": "execute_result",
          "data": {
            "text/plain": [
              "   day                 date         username  \\\n",
              "0    6  2022-12-24 05:50:34             EMSC   \n",
              "1    6  2022-12-24 05:21:20  sukabumiNewsnet   \n",
              "2    5  2022-12-23 16:28:21         KuretaID   \n",
              "3    5  2022-12-23 11:55:35             EMSC   \n",
              "4    5  2022-12-23 08:17:34   sofi_hwajiyong   \n",
              "\n",
              "                                               tweet  nlikes  nreplies  \\\n",
              "0  #Earthquake (#gempa) M2.7 strikes 17 km NE of ...       1         0   \n",
              "1  Garis Sukabumi Raya Lakukan Trauma Healing unt...       0         0   \n",
              "2  Jumat Siang Ini Sukabumi Diguncang Gempa 3,1 M...       0         0   \n",
              "3  #Earthquake (#gempa) M2.7 strikes 25 km NE of ...       3         0   \n",
              "4  BMKG Deteksi Gempa Magnitudo 3.1 di Kabupaten ...       1         0   \n",
              "\n",
              "   nretweets  year month     day time  \n",
              "0          0  2022    12  24 05:50:34  \n",
              "1          0  2022    12  24 05:21:20  \n",
              "2          0  2022    12  23 16:28:21  \n",
              "3          1  2022    12  23 11:55:35  \n",
              "4          0  2022    12  23 08:17:34  "
            ],
            "text/html": [
              "\n",
              "  <div id=\"df-0e98de53-413a-44f0-acfa-2569a2d76d9e\">\n",
              "    <div class=\"colab-df-container\">\n",
              "      <div>\n",
              "<style scoped>\n",
              "    .dataframe tbody tr th:only-of-type {\n",
              "        vertical-align: middle;\n",
              "    }\n",
              "\n",
              "    .dataframe tbody tr th {\n",
              "        vertical-align: top;\n",
              "    }\n",
              "\n",
              "    .dataframe thead th {\n",
              "        text-align: right;\n",
              "    }\n",
              "</style>\n",
              "<table border=\"1\" class=\"dataframe\">\n",
              "  <thead>\n",
              "    <tr style=\"text-align: right;\">\n",
              "      <th></th>\n",
              "      <th>day</th>\n",
              "      <th>date</th>\n",
              "      <th>username</th>\n",
              "      <th>tweet</th>\n",
              "      <th>nlikes</th>\n",
              "      <th>nreplies</th>\n",
              "      <th>nretweets</th>\n",
              "      <th>year</th>\n",
              "      <th>month</th>\n",
              "      <th>day time</th>\n",
              "    </tr>\n",
              "  </thead>\n",
              "  <tbody>\n",
              "    <tr>\n",
              "      <th>0</th>\n",
              "      <td>6</td>\n",
              "      <td>2022-12-24 05:50:34</td>\n",
              "      <td>EMSC</td>\n",
              "      <td>#Earthquake (#gempa) M2.7 strikes 17 km NE of ...</td>\n",
              "      <td>1</td>\n",
              "      <td>0</td>\n",
              "      <td>0</td>\n",
              "      <td>2022</td>\n",
              "      <td>12</td>\n",
              "      <td>24 05:50:34</td>\n",
              "    </tr>\n",
              "    <tr>\n",
              "      <th>1</th>\n",
              "      <td>6</td>\n",
              "      <td>2022-12-24 05:21:20</td>\n",
              "      <td>sukabumiNewsnet</td>\n",
              "      <td>Garis Sukabumi Raya Lakukan Trauma Healing unt...</td>\n",
              "      <td>0</td>\n",
              "      <td>0</td>\n",
              "      <td>0</td>\n",
              "      <td>2022</td>\n",
              "      <td>12</td>\n",
              "      <td>24 05:21:20</td>\n",
              "    </tr>\n",
              "    <tr>\n",
              "      <th>2</th>\n",
              "      <td>5</td>\n",
              "      <td>2022-12-23 16:28:21</td>\n",
              "      <td>KuretaID</td>\n",
              "      <td>Jumat Siang Ini Sukabumi Diguncang Gempa 3,1 M...</td>\n",
              "      <td>0</td>\n",
              "      <td>0</td>\n",
              "      <td>0</td>\n",
              "      <td>2022</td>\n",
              "      <td>12</td>\n",
              "      <td>23 16:28:21</td>\n",
              "    </tr>\n",
              "    <tr>\n",
              "      <th>3</th>\n",
              "      <td>5</td>\n",
              "      <td>2022-12-23 11:55:35</td>\n",
              "      <td>EMSC</td>\n",
              "      <td>#Earthquake (#gempa) M2.7 strikes 25 km NE of ...</td>\n",
              "      <td>3</td>\n",
              "      <td>0</td>\n",
              "      <td>1</td>\n",
              "      <td>2022</td>\n",
              "      <td>12</td>\n",
              "      <td>23 11:55:35</td>\n",
              "    </tr>\n",
              "    <tr>\n",
              "      <th>4</th>\n",
              "      <td>5</td>\n",
              "      <td>2022-12-23 08:17:34</td>\n",
              "      <td>sofi_hwajiyong</td>\n",
              "      <td>BMKG Deteksi Gempa Magnitudo 3.1 di Kabupaten ...</td>\n",
              "      <td>1</td>\n",
              "      <td>0</td>\n",
              "      <td>0</td>\n",
              "      <td>2022</td>\n",
              "      <td>12</td>\n",
              "      <td>23 08:17:34</td>\n",
              "    </tr>\n",
              "  </tbody>\n",
              "</table>\n",
              "</div>\n",
              "      <button class=\"colab-df-convert\" onclick=\"convertToInteractive('df-0e98de53-413a-44f0-acfa-2569a2d76d9e')\"\n",
              "              title=\"Convert this dataframe to an interactive table.\"\n",
              "              style=\"display:none;\">\n",
              "        \n",
              "  <svg xmlns=\"http://www.w3.org/2000/svg\" height=\"24px\"viewBox=\"0 0 24 24\"\n",
              "       width=\"24px\">\n",
              "    <path d=\"M0 0h24v24H0V0z\" fill=\"none\"/>\n",
              "    <path d=\"M18.56 5.44l.94 2.06.94-2.06 2.06-.94-2.06-.94-.94-2.06-.94 2.06-2.06.94zm-11 1L8.5 8.5l.94-2.06 2.06-.94-2.06-.94L8.5 2.5l-.94 2.06-2.06.94zm10 10l.94 2.06.94-2.06 2.06-.94-2.06-.94-.94-2.06-.94 2.06-2.06.94z\"/><path d=\"M17.41 7.96l-1.37-1.37c-.4-.4-.92-.59-1.43-.59-.52 0-1.04.2-1.43.59L10.3 9.45l-7.72 7.72c-.78.78-.78 2.05 0 2.83L4 21.41c.39.39.9.59 1.41.59.51 0 1.02-.2 1.41-.59l7.78-7.78 2.81-2.81c.8-.78.8-2.07 0-2.86zM5.41 20L4 18.59l7.72-7.72 1.47 1.35L5.41 20z\"/>\n",
              "  </svg>\n",
              "      </button>\n",
              "      \n",
              "  <style>\n",
              "    .colab-df-container {\n",
              "      display:flex;\n",
              "      flex-wrap:wrap;\n",
              "      gap: 12px;\n",
              "    }\n",
              "\n",
              "    .colab-df-convert {\n",
              "      background-color: #E8F0FE;\n",
              "      border: none;\n",
              "      border-radius: 50%;\n",
              "      cursor: pointer;\n",
              "      display: none;\n",
              "      fill: #1967D2;\n",
              "      height: 32px;\n",
              "      padding: 0 0 0 0;\n",
              "      width: 32px;\n",
              "    }\n",
              "\n",
              "    .colab-df-convert:hover {\n",
              "      background-color: #E2EBFA;\n",
              "      box-shadow: 0px 1px 2px rgba(60, 64, 67, 0.3), 0px 1px 3px 1px rgba(60, 64, 67, 0.15);\n",
              "      fill: #174EA6;\n",
              "    }\n",
              "\n",
              "    [theme=dark] .colab-df-convert {\n",
              "      background-color: #3B4455;\n",
              "      fill: #D2E3FC;\n",
              "    }\n",
              "\n",
              "    [theme=dark] .colab-df-convert:hover {\n",
              "      background-color: #434B5C;\n",
              "      box-shadow: 0px 1px 3px 1px rgba(0, 0, 0, 0.15);\n",
              "      filter: drop-shadow(0px 1px 2px rgba(0, 0, 0, 0.3));\n",
              "      fill: #FFFFFF;\n",
              "    }\n",
              "  </style>\n",
              "\n",
              "      <script>\n",
              "        const buttonEl =\n",
              "          document.querySelector('#df-0e98de53-413a-44f0-acfa-2569a2d76d9e button.colab-df-convert');\n",
              "        buttonEl.style.display =\n",
              "          google.colab.kernel.accessAllowed ? 'block' : 'none';\n",
              "\n",
              "        async function convertToInteractive(key) {\n",
              "          const element = document.querySelector('#df-0e98de53-413a-44f0-acfa-2569a2d76d9e');\n",
              "          const dataTable =\n",
              "            await google.colab.kernel.invokeFunction('convertToInteractive',\n",
              "                                                     [key], {});\n",
              "          if (!dataTable) return;\n",
              "\n",
              "          const docLinkHtml = 'Like what you see? Visit the ' +\n",
              "            '<a target=\"_blank\" href=https://colab.research.google.com/notebooks/data_table.ipynb>data table notebook</a>'\n",
              "            + ' to learn more about interactive tables.';\n",
              "          element.innerHTML = '';\n",
              "          dataTable['output_type'] = 'display_data';\n",
              "          await google.colab.output.renderOutput(dataTable, element);\n",
              "          const docLink = document.createElement('div');\n",
              "          docLink.innerHTML = docLinkHtml;\n",
              "          element.appendChild(docLink);\n",
              "        }\n",
              "      </script>\n",
              "    </div>\n",
              "  </div>\n",
              "  "
            ]
          },
          "metadata": {},
          "execution_count": 15
        }
      ]
    },
    {
      "cell_type": "markdown",
      "source": [
        "**Pertama-tama akan dilihat banyak tweet mengenai Gempa Jawa Barat berdasarkan tahun. Akan digunakan bar chart untuk melihat jumlah datanya.**"
      ],
      "metadata": {
        "id": "yiYyVjnIYwKy"
      }
    },
    {
      "cell_type": "code",
      "source": [
        "plt.figure(figsize=(8,7))\n",
        "p = sns.countplot(x='year',  data = data)"
      ],
      "metadata": {
        "id": "iGkD3KBg-Npc",
        "colab": {
          "base_uri": "https://localhost:8080/",
          "height": 448
        },
        "outputId": "17a6415a-f5d9-48c8-d7b6-285c6925166f"
      },
      "execution_count": null,
      "outputs": [
        {
          "output_type": "display_data",
          "data": {
            "text/plain": [
              "<Figure size 576x504 with 1 Axes>"
            ],
            "image/png": "[encoded data removed]"
          },
          "metadata": {}
        }
      ]
    },
    {
      "cell_type": "markdown",
      "source": [
        "**Interpretasi**\n",
        "\n",
        "**Dapat dilihat dari bar chart di atas, jumlah tweet terbanyak ada di tahun 2022. Sedangkan jumlah tweet paling sedikit ada di tahun 2009. Hal ini dapat disebabkan karena pada tahun 2022 terjadi banyak gempa yang menimbulkan banyak kerusakan dan korban jiwa. Selain itu, pada tahun 2022 kemungkinan pengguna twitter meningkat dibanding tahun-tahun sebelumnya. Sehingga banyak orang yang melakukan update mengenai gempa Jawa Barat di twitter.**\n",
        "\n",
        "**Pada tahun 2009 juga terjadi gempa di Tasikmalaya, Jawa Barat dengan kekuatan 7.3 Magnitudo dan menimbulkan banyak kerusakan dan korban jiwa (https://www.liputan6.com/news/read/4050927/gempa-tasikmalaya-yang-menggetarkan-pulau-jawa-satu-dekade-lalu). Namun pada tahun tersebut, kemungkinan pengguna twitter belum banyak. Sehingga tidak banyak tweet mengenai gempa Jawa Barat di tahun 2009.**"
      ],
      "metadata": {
        "id": "RsatXGSFZMMf"
      }
    },
    {
      "cell_type": "markdown",
      "source": [
        "**Selanjutnya, akan dianalisis lebih lanjut mengenai data tweet pada tahun 2022. Sebelumnya, data tweet pada tahun 2022 akan disimpan pada `data22`**"
      ],
      "metadata": {
        "id": "sBIMc7kfZOzI"
      }
    },
    {
      "cell_type": "code",
      "source": [
        "data22= data[data['year']=='2022']"
      ],
      "metadata": {
        "id": "b8mvZQIEmrfC"
      },
      "execution_count": null,
      "outputs": []
    },
    {
      "cell_type": "markdown",
      "source": [
        "**Akan dibuat bar chart data tweet di tahun 2022 berdasarkan bulan.**"
      ],
      "metadata": {
        "id": "FU_FiEGNZQaR"
      }
    },
    {
      "cell_type": "code",
      "source": [
        "plt.figure(figsize=(8,7))\n",
        "p = sns.countplot(x='month',  data = data22)"
      ],
      "metadata": {
        "id": "gg7Cc8vpmy9l",
        "colab": {
          "base_uri": "https://localhost:8080/",
          "height": 448
        },
        "outputId": "ea9e0962-c628-49d3-9a98-803e4f57e721"
      },
      "execution_count": null,
      "outputs": [
        {
          "output_type": "display_data",
          "data": {
            "text/plain": [
              "<Figure size 576x504 with 1 Axes>"
            ],
            "image/png": "[encoded data removed]"
          },
          "metadata": {}
        }
      ]
    },
    {
      "cell_type": "markdown",
      "source": [
        "**Interpretasi**\n",
        "\n",
        "**Dapat dilihat dari bar chart di atas, jumlah tweet terbanyak di tahun 2022 terjadi di bulan Desember, kemudian kedua terbanyak pada bulan November. Hal ini dapat disebabkan karena adanya gempa di Cianjur pada bulan November dan gempa di Sukabumi pada bulan Desember.**"
      ],
      "metadata": {
        "id": "jMEteDzNfz1X"
      }
    },
    {
      "cell_type": "markdown",
      "source": [
        "**Selanjutnya, akan dilihat banyak tweet di setiap tanggal pada bulan November 2022 dan Desember 2022. Sebelumnya, akan dibuat kolom `tanggal` dan `time` yang berasal dari kolom `day time`.**"
      ],
      "metadata": {
        "id": "K8SthKdAZSKj"
      }
    },
    {
      "cell_type": "code",
      "source": [
        "data22[[\"tanggal\" ,\"time\"]] = data22[\"day time\"].str.split(\" \", expand = True)\n",
        "data22.head()"
      ],
      "metadata": {
        "id": "JSHrUSkfnaiA",
        "colab": {
          "base_uri": "https://localhost:8080/",
          "height": 206
        },
        "outputId": "7b02acbe-1a7a-41ac-fb87-8bbef01a1394"
      },
      "execution_count": null,
      "outputs": [
        {
          "output_type": "execute_result",
          "data": {
            "text/plain": [
              "   day                 date         username  \\\n",
              "0    6  2022-12-24 05:50:34             EMSC   \n",
              "1    6  2022-12-24 05:21:20  sukabumiNewsnet   \n",
              "2    5  2022-12-23 16:28:21         KuretaID   \n",
              "3    5  2022-12-23 11:55:35             EMSC   \n",
              "4    5  2022-12-23 08:17:34   sofi_hwajiyong   \n",
              "\n",
              "                                               tweet  nlikes  nreplies  \\\n",
              "0  #Earthquake (#gempa) M2.7 strikes 17 km NE of ...       1         0   \n",
              "1  Garis Sukabumi Raya Lakukan Trauma Healing unt...       0         0   \n",
              "2  Jumat Siang Ini Sukabumi Diguncang Gempa 3,1 M...       0         0   \n",
              "3  #Earthquake (#gempa) M2.7 strikes 25 km NE of ...       3         0   \n",
              "4  BMKG Deteksi Gempa Magnitudo 3.1 di Kabupaten ...       1         0   \n",
              "\n",
              "   nretweets  year month     day time tanggal      time  \n",
              "0          0  2022    12  24 05:50:34      24  05:50:34  \n",
              "1          0  2022    12  24 05:21:20      24  05:21:20  \n",
              "2          0  2022    12  23 16:28:21      23  16:28:21  \n",
              "3          1  2022    12  23 11:55:35      23  11:55:35  \n",
              "4          0  2022    12  23 08:17:34      23  08:17:34  "
            ],
            "text/html": [
              "\n",
              "  <div id=\"df-5720164c-72b4-408f-b435-ddf543b008b4\">\n",
              "    <div class=\"colab-df-container\">\n",
              "      <div>\n",
              "<style scoped>\n",
              "    .dataframe tbody tr th:only-of-type {\n",
              "        vertical-align: middle;\n",
              "    }\n",
              "\n",
              "    .dataframe tbody tr th {\n",
              "        vertical-align: top;\n",
              "    }\n",
              "\n",
              "    .dataframe thead th {\n",
              "        text-align: right;\n",
              "    }\n",
              "</style>\n",
              "<table border=\"1\" class=\"dataframe\">\n",
              "  <thead>\n",
              "    <tr style=\"text-align: right;\">\n",
              "      <th></th>\n",
              "      <th>day</th>\n",
              "      <th>date</th>\n",
              "      <th>username</th>\n",
              "      <th>tweet</th>\n",
              "      <th>nlikes</th>\n",
              "      <th>nreplies</th>\n",
              "      <th>nretweets</th>\n",
              "      <th>year</th>\n",
              "      <th>month</th>\n",
              "      <th>day time</th>\n",
              "      <th>tanggal</th>\n",
              "      <th>time</th>\n",
              "    </tr>\n",
              "  </thead>\n",
              "  <tbody>\n",
              "    <tr>\n",
              "      <th>0</th>\n",
              "      <td>6</td>\n",
              "      <td>2022-12-24 05:50:34</td>\n",
              "      <td>EMSC</td>\n",
              "      <td>#Earthquake (#gempa) M2.7 strikes 17 km NE of ...</td>\n",
              "      <td>1</td>\n",
              "      <td>0</td>\n",
              "      <td>0</td>\n",
              "      <td>2022</td>\n",
              "      <td>12</td>\n",
              "      <td>24 05:50:34</td>\n",
              "      <td>24</td>\n",
              "      <td>05:50:34</td>\n",
              "    </tr>\n",
              "    <tr>\n",
              "      <th>1</th>\n",
              "      <td>6</td>\n",
              "      <td>2022-12-24 05:21:20</td>\n",
              "      <td>sukabumiNewsnet</td>\n",
              "      <td>Garis Sukabumi Raya Lakukan Trauma Healing unt...</td>\n",
              "      <td>0</td>\n",
              "      <td>0</td>\n",
              "      <td>0</td>\n",
              "      <td>2022</td>\n",
              "      <td>12</td>\n",
              "      <td>24 05:21:20</td>\n",
              "      <td>24</td>\n",
              "      <td>05:21:20</td>\n",
              "    </tr>\n",
              "    <tr>\n",
              "      <th>2</th>\n",
              "      <td>5</td>\n",
              "      <td>2022-12-23 16:28:21</td>\n",
              "      <td>KuretaID</td>\n",
              "      <td>Jumat Siang Ini Sukabumi Diguncang Gempa 3,1 M...</td>\n",
              "      <td>0</td>\n",
              "      <td>0</td>\n",
              "      <td>0</td>\n",
              "      <td>2022</td>\n",
              "      <td>12</td>\n",
              "      <td>23 16:28:21</td>\n",
              "      <td>23</td>\n",
              "      <td>16:28:21</td>\n",
              "    </tr>\n",
              "    <tr>\n",
              "      <th>3</th>\n",
              "      <td>5</td>\n",
              "      <td>2022-12-23 11:55:35</td>\n",
              "      <td>EMSC</td>\n",
              "      <td>#Earthquake (#gempa) M2.7 strikes 25 km NE of ...</td>\n",
              "      <td>3</td>\n",
              "      <td>0</td>\n",
              "      <td>1</td>\n",
              "      <td>2022</td>\n",
              "      <td>12</td>\n",
              "      <td>23 11:55:35</td>\n",
              "      <td>23</td>\n",
              "      <td>11:55:35</td>\n",
              "    </tr>\n",
              "    <tr>\n",
              "      <th>4</th>\n",
              "      <td>5</td>\n",
              "      <td>2022-12-23 08:17:34</td>\n",
              "      <td>sofi_hwajiyong</td>\n",
              "      <td>BMKG Deteksi Gempa Magnitudo 3.1 di Kabupaten ...</td>\n",
              "      <td>1</td>\n",
              "      <td>0</td>\n",
              "      <td>0</td>\n",
              "      <td>2022</td>\n",
              "      <td>12</td>\n",
              "      <td>23 08:17:34</td>\n",
              "      <td>23</td>\n",
              "      <td>08:17:34</td>\n",
              "    </tr>\n",
              "  </tbody>\n",
              "</table>\n",
              "</div>\n",
              "      <button class=\"colab-df-convert\" onclick=\"convertToInteractive('df-5720164c-72b4-408f-b435-ddf543b008b4')\"\n",
              "              title=\"Convert this dataframe to an interactive table.\"\n",
              "              style=\"display:none;\">\n",
              "        \n",
              "  <svg xmlns=\"http://www.w3.org/2000/svg\" height=\"24px\"viewBox=\"0 0 24 24\"\n",
              "       width=\"24px\">\n",
              "    <path d=\"M0 0h24v24H0V0z\" fill=\"none\"/>\n",
              "    <path d=\"M18.56 5.44l.94 2.06.94-2.06 2.06-.94-2.06-.94-.94-2.06-.94 2.06-2.06.94zm-11 1L8.5 8.5l.94-2.06 2.06-.94-2.06-.94L8.5 2.5l-.94 2.06-2.06.94zm10 10l.94 2.06.94-2.06 2.06-.94-2.06-.94-.94-2.06-.94 2.06-2.06.94z\"/><path d=\"M17.41 7.96l-1.37-1.37c-.4-.4-.92-.59-1.43-.59-.52 0-1.04.2-1.43.59L10.3 9.45l-7.72 7.72c-.78.78-.78 2.05 0 2.83L4 21.41c.39.39.9.59 1.41.59.51 0 1.02-.2 1.41-.59l7.78-7.78 2.81-2.81c.8-.78.8-2.07 0-2.86zM5.41 20L4 18.59l7.72-7.72 1.47 1.35L5.41 20z\"/>\n",
              "  </svg>\n",
              "      </button>\n",
              "      \n",
              "  <style>\n",
              "    .colab-df-container {\n",
              "      display:flex;\n",
              "      flex-wrap:wrap;\n",
              "      gap: 12px;\n",
              "    }\n",
              "\n",
              "    .colab-df-convert {\n",
              "      background-color: #E8F0FE;\n",
              "      border: none;\n",
              "      border-radius: 50%;\n",
              "      cursor: pointer;\n",
              "      display: none;\n",
              "      fill: #1967D2;\n",
              "      height: 32px;\n",
              "      padding: 0 0 0 0;\n",
              "      width: 32px;\n",
              "    }\n",
              "\n",
              "    .colab-df-convert:hover {\n",
              "      background-color: #E2EBFA;\n",
              "      box-shadow: 0px 1px 2px rgba(60, 64, 67, 0.3), 0px 1px 3px 1px rgba(60, 64, 67, 0.15);\n",
              "      fill: #174EA6;\n",
              "    }\n",
              "\n",
              "    [theme=dark] .colab-df-convert {\n",
              "      background-color: #3B4455;\n",
              "      fill: #D2E3FC;\n",
              "    }\n",
              "\n",
              "    [theme=dark] .colab-df-convert:hover {\n",
              "      background-color: #434B5C;\n",
              "      box-shadow: 0px 1px 3px 1px rgba(0, 0, 0, 0.15);\n",
              "      filter: drop-shadow(0px 1px 2px rgba(0, 0, 0, 0.3));\n",
              "      fill: #FFFFFF;\n",
              "    }\n",
              "  </style>\n",
              "\n",
              "      <script>\n",
              "        const buttonEl =\n",
              "          document.querySelector('#df-5720164c-72b4-408f-b435-ddf543b008b4 button.colab-df-convert');\n",
              "        buttonEl.style.display =\n",
              "          google.colab.kernel.accessAllowed ? 'block' : 'none';\n",
              "\n",
              "        async function convertToInteractive(key) {\n",
              "          const element = document.querySelector('#df-5720164c-72b4-408f-b435-ddf543b008b4');\n",
              "          const dataTable =\n",
              "            await google.colab.kernel.invokeFunction('convertToInteractive',\n",
              "                                                     [key], {});\n",
              "          if (!dataTable) return;\n",
              "\n",
              "          const docLinkHtml = 'Like what you see? Visit the ' +\n",
              "            '<a target=\"_blank\" href=https://colab.research.google.com/notebooks/data_table.ipynb>data table notebook</a>'\n",
              "            + ' to learn more about interactive tables.';\n",
              "          element.innerHTML = '';\n",
              "          dataTable['output_type'] = 'display_data';\n",
              "          await google.colab.output.renderOutput(dataTable, element);\n",
              "          const docLink = document.createElement('div');\n",
              "          docLink.innerHTML = docLinkHtml;\n",
              "          element.appendChild(docLink);\n",
              "        }\n",
              "      </script>\n",
              "    </div>\n",
              "  </div>\n",
              "  "
            ]
          },
          "metadata": {},
          "execution_count": 19
        }
      ]
    },
    {
      "cell_type": "markdown",
      "source": [
        "**Kemudian, dibuat bar chart banyak tweet di setiap tanggal pada bulan November 2022.**"
      ],
      "metadata": {
        "id": "z7oQ4SN-hQkY"
      }
    },
    {
      "cell_type": "code",
      "source": [
        "plt.figure(figsize=(8,7))\n",
        "p = sns.countplot(y='tanggal',  data = data22[data22['month']== '11'])"
      ],
      "metadata": {
        "id": "iXgSeUlXnTDL",
        "colab": {
          "base_uri": "https://localhost:8080/",
          "height": 448
        },
        "outputId": "a10bae2d-47e4-458f-8f5a-872f81d46796"
      },
      "execution_count": null,
      "outputs": [
        {
          "output_type": "display_data",
          "data": {
            "text/plain": [
              "<Figure size 576x504 with 1 Axes>"
            ],
            "image/png": "[encoded data removed]"
          },
          "metadata": {}
        }
      ]
    },
    {
      "cell_type": "markdown",
      "source": [
        "**Interpretasi**\n",
        "\n",
        "**Pada bulan November 2022, tweet paling banyak ada di tanggal 23. Gempa di Cianjur terjadi pada tanggal 21 November 2022. Akan tetapi, tweet terbanyak ada di tanggal 23. Hal ini bisa saja disebabkan karena, masih banyaknya update informasi mengenai korban, kerusakan, donasi, dan berita lainnya yang terkait.**"
      ],
      "metadata": {
        "id": "LMnyEVt-hfAb"
      }
    },
    {
      "cell_type": "markdown",
      "source": [
        "**Kemudian, dibuat bar chart banyak tweet di setiap tanggal pada bulan Desember 2022.**"
      ],
      "metadata": {
        "id": "sZLITfvIh_sC"
      }
    },
    {
      "cell_type": "code",
      "source": [
        "plt.figure(figsize=(8,7))\n",
        "p = sns.countplot(y='tanggal',  data = data22[data22['month']== '12'])"
      ],
      "metadata": {
        "id": "l7NClOU-nYXA",
        "colab": {
          "base_uri": "https://localhost:8080/",
          "height": 448
        },
        "outputId": "9e0a27eb-2664-472a-b2c3-a95822a73d6f"
      },
      "execution_count": null,
      "outputs": [
        {
          "output_type": "display_data",
          "data": {
            "text/plain": [
              "<Figure size 576x504 with 1 Axes>"
            ],
            "image/png": "[encoded data removed]"
          },
          "metadata": {}
        }
      ]
    },
    {
      "cell_type": "markdown",
      "source": [
        "**Interpretasi**\n",
        "\n",
        "**Pada bulan Desember 2022, tweet mengenai gempa jawa barat paling banyak ditemukan pada tanggal 8, karena pada tanggal tersebut terjadi gempa di Sukabumi.**"
      ],
      "metadata": {
        "id": "VHghTRHQiElR"
      }
    },
    {
      "cell_type": "markdown",
      "source": [
        "**Setelah ini, data akan ditinjau berdasarkan username. Akan dihitung terlebih dahulu, jumlah tweet dari masing-masing username.**"
      ],
      "metadata": {
        "id": "qWAWTsEwj1aq"
      }
    },
    {
      "cell_type": "code",
      "source": [
        "data['username'].value_counts().to_frame()"
      ],
      "metadata": {
        "id": "hIBWnUSK8RJP",
        "colab": {
          "base_uri": "https://localhost:8080/",
          "height": 423
        },
        "outputId": "b31353c0-d4d3-43c3-d34b-4882e7427760"
      },
      "execution_count": null,
      "outputs": [
        {
          "output_type": "execute_result",
          "data": {
            "text/plain": [
              "                 username\n",
              "detikcom              125\n",
              "M_ninetySix_You       121\n",
              "tauberitamedia        101\n",
              "Jennife93282124        87\n",
              "pikiran_rakyat         66\n",
              "...                   ...\n",
              "AngelaH35379480         1\n",
              "WidiJanuar_             1\n",
              "jinnielxo               1\n",
              "RafIndrasta             1\n",
              "GPYouthID               1\n",
              "\n",
              "[9964 rows x 1 columns]"
            ],
            "text/html": [
              "\n",
              "  <div id=\"df-2490c75c-80dc-4f2b-a2dd-8145f104204d\">\n",
              "    <div class=\"colab-df-container\">\n",
              "      <div>\n",
              "<style scoped>\n",
              "    .dataframe tbody tr th:only-of-type {\n",
              "        vertical-align: middle;\n",
              "    }\n",
              "\n",
              "    .dataframe tbody tr th {\n",
              "        vertical-align: top;\n",
              "    }\n",
              "\n",
              "    .dataframe thead th {\n",
              "        text-align: right;\n",
              "    }\n",
              "</style>\n",
              "<table border=\"1\" class=\"dataframe\">\n",
              "  <thead>\n",
              "    <tr style=\"text-align: right;\">\n",
              "      <th></th>\n",
              "      <th>username</th>\n",
              "    </tr>\n",
              "  </thead>\n",
              "  <tbody>\n",
              "    <tr>\n",
              "      <th>detikcom</th>\n",
              "      <td>125</td>\n",
              "    </tr>\n",
              "    <tr>\n",
              "      <th>M_ninetySix_You</th>\n",
              "      <td>121</td>\n",
              "    </tr>\n",
              "    <tr>\n",
              "      <th>tauberitamedia</th>\n",
              "      <td>101</td>\n",
              "    </tr>\n",
              "    <tr>\n",
              "      <th>Jennife93282124</th>\n",
              "      <td>87</td>\n",
              "    </tr>\n",
              "    <tr>\n",
              "      <th>pikiran_rakyat</th>\n",
              "      <td>66</td>\n",
              "    </tr>\n",
              "    <tr>\n",
              "      <th>...</th>\n",
              "      <td>...</td>\n",
              "    </tr>\n",
              "    <tr>\n",
              "      <th>AngelaH35379480</th>\n",
              "      <td>1</td>\n",
              "    </tr>\n",
              "    <tr>\n",
              "      <th>WidiJanuar_</th>\n",
              "      <td>1</td>\n",
              "    </tr>\n",
              "    <tr>\n",
              "      <th>jinnielxo</th>\n",
              "      <td>1</td>\n",
              "    </tr>\n",
              "    <tr>\n",
              "      <th>RafIndrasta</th>\n",
              "      <td>1</td>\n",
              "    </tr>\n",
              "    <tr>\n",
              "      <th>GPYouthID</th>\n",
              "      <td>1</td>\n",
              "    </tr>\n",
              "  </tbody>\n",
              "</table>\n",
              "<p>9964 rows × 1 columns</p>\n",
              "</div>\n",
              "      <button class=\"colab-df-convert\" onclick=\"convertToInteractive('df-2490c75c-80dc-4f2b-a2dd-8145f104204d')\"\n",
              "              title=\"Convert this dataframe to an interactive table.\"\n",
              "              style=\"display:none;\">\n",
              "        \n",
              "  <svg xmlns=\"http://www.w3.org/2000/svg\" height=\"24px\"viewBox=\"0 0 24 24\"\n",
              "       width=\"24px\">\n",
              "    <path d=\"M0 0h24v24H0V0z\" fill=\"none\"/>\n",
              "    <path d=\"M18.56 5.44l.94 2.06.94-2.06 2.06-.94-2.06-.94-.94-2.06-.94 2.06-2.06.94zm-11 1L8.5 8.5l.94-2.06 2.06-.94-2.06-.94L8.5 2.5l-.94 2.06-2.06.94zm10 10l.94 2.06.94-2.06 2.06-.94-2.06-.94-.94-2.06-.94 2.06-2.06.94z\"/><path d=\"M17.41 7.96l-1.37-1.37c-.4-.4-.92-.59-1.43-.59-.52 0-1.04.2-1.43.59L10.3 9.45l-7.72 7.72c-.78.78-.78 2.05 0 2.83L4 21.41c.39.39.9.59 1.41.59.51 0 1.02-.2 1.41-.59l7.78-7.78 2.81-2.81c.8-.78.8-2.07 0-2.86zM5.41 20L4 18.59l7.72-7.72 1.47 1.35L5.41 20z\"/>\n",
              "  </svg>\n",
              "      </button>\n",
              "      \n",
              "  <style>\n",
              "    .colab-df-container {\n",
              "      display:flex;\n",
              "      flex-wrap:wrap;\n",
              "      gap: 12px;\n",
              "    }\n",
              "\n",
              "    .colab-df-convert {\n",
              "      background-color: #E8F0FE;\n",
              "      border: none;\n",
              "      border-radius: 50%;\n",
              "      cursor: pointer;\n",
              "      display: none;\n",
              "      fill: #1967D2;\n",
              "      height: 32px;\n",
              "      padding: 0 0 0 0;\n",
              "      width: 32px;\n",
              "    }\n",
              "\n",
              "    .colab-df-convert:hover {\n",
              "      background-color: #E2EBFA;\n",
              "      box-shadow: 0px 1px 2px rgba(60, 64, 67, 0.3), 0px 1px 3px 1px rgba(60, 64, 67, 0.15);\n",
              "      fill: #174EA6;\n",
              "    }\n",
              "\n",
              "    [theme=dark] .colab-df-convert {\n",
              "      background-color: #3B4455;\n",
              "      fill: #D2E3FC;\n",
              "    }\n",
              "\n",
              "    [theme=dark] .colab-df-convert:hover {\n",
              "      background-color: #434B5C;\n",
              "      box-shadow: 0px 1px 3px 1px rgba(0, 0, 0, 0.15);\n",
              "      filter: drop-shadow(0px 1px 2px rgba(0, 0, 0, 0.3));\n",
              "      fill: #FFFFFF;\n",
              "    }\n",
              "  </style>\n",
              "\n",
              "      <script>\n",
              "        const buttonEl =\n",
              "          document.querySelector('#df-2490c75c-80dc-4f2b-a2dd-8145f104204d button.colab-df-convert');\n",
              "        buttonEl.style.display =\n",
              "          google.colab.kernel.accessAllowed ? 'block' : 'none';\n",
              "\n",
              "        async function convertToInteractive(key) {\n",
              "          const element = document.querySelector('#df-2490c75c-80dc-4f2b-a2dd-8145f104204d');\n",
              "          const dataTable =\n",
              "            await google.colab.kernel.invokeFunction('convertToInteractive',\n",
              "                                                     [key], {});\n",
              "          if (!dataTable) return;\n",
              "\n",
              "          const docLinkHtml = 'Like what you see? Visit the ' +\n",
              "            '<a target=\"_blank\" href=https://colab.research.google.com/notebooks/data_table.ipynb>data table notebook</a>'\n",
              "            + ' to learn more about interactive tables.';\n",
              "          element.innerHTML = '';\n",
              "          dataTable['output_type'] = 'display_data';\n",
              "          await google.colab.output.renderOutput(dataTable, element);\n",
              "          const docLink = document.createElement('div');\n",
              "          docLink.innerHTML = docLinkHtml;\n",
              "          element.appendChild(docLink);\n",
              "        }\n",
              "      </script>\n",
              "    </div>\n",
              "  </div>\n",
              "  "
            ]
          },
          "metadata": {},
          "execution_count": 22
        }
      ]
    },
    {
      "cell_type": "markdown",
      "source": [
        "**Dapat dilihat di atas, 10 username dengan tweet mengenai gempa Jawa Barat terbanyak. Selanjutnya, akan dibuat bar chart mengenai username tersebut. Dibuat terlebih dulu `datauser` yang menyimpan data untuk 10 username di atas.**"
      ],
      "metadata": {
        "id": "KrAViQAXkKue"
      }
    },
    {
      "cell_type": "code",
      "source": [
        "datauser=data.loc[data['username'].isin(['detikcom', 'M_ninetySix_You','tauberitamedia', 'Jennife93282124', 'pikiran_rakyat','tvOneNews',\t'kompascom',\n",
        "                                         'republikaonline', 'tempodotco',\t'bmkgwilayah2'])]\n",
        "datauser.shape"
      ],
      "metadata": {
        "id": "lJ0YyOsnolnt",
        "colab": {
          "base_uri": "https://localhost:8080/"
        },
        "outputId": "11781ab2-2352-43a4-f12d-242af81b9d06"
      },
      "execution_count": null,
      "outputs": [
        {
          "output_type": "execute_result",
          "data": {
            "text/plain": [
              "(768, 10)"
            ]
          },
          "metadata": {},
          "execution_count": 23
        }
      ]
    },
    {
      "cell_type": "markdown",
      "source": [
        "**Kemudian, dibuat bar chart dari `datauser` tersebut.**"
      ],
      "metadata": {
        "id": "QFUXT4aWkpbL"
      }
    },
    {
      "cell_type": "code",
      "source": [
        "plt.figure(figsize=(20,8))\n",
        "p = sns.countplot(x='username',  data = datauser)"
      ],
      "metadata": {
        "id": "_XUE0pFoovqA",
        "colab": {
          "base_uri": "https://localhost:8080/",
          "height": 503
        },
        "outputId": "141c8df0-7a75-46c0-d5cf-3217cb995ef1"
      },
      "execution_count": null,
      "outputs": [
        {
          "output_type": "display_data",
          "data": {
            "text/plain": [
              "<Figure size 1440x576 with 1 Axes>"
            ],
            "image/png": "[encoded data removed]"
          },
          "metadata": {}
        }
      ]
    },
    {
      "cell_type": "markdown",
      "source": [
        "**Interpretasi**\n",
        "\n",
        "**10 akun dengan tweet mengenai gempa Jawa Barat terbanyak yaitu sebagai berikut:**\n",
        "\n",
        "\n",
        "**1.   detikcom**\n",
        "\n",
        "**2. M_ninetySix_You**\n",
        "\n",
        "**3. tauberitamedia**\n",
        "\n",
        "**4. Jennife93282124**\n",
        "\n",
        "**5. pikiran_rakyat**\n",
        "\n",
        "**6. tvOneNews**\n",
        "\n",
        "**7. kompascom**\n",
        "\n",
        "**8. republikaonline**\n",
        "\n",
        "**9. tempodotco**\n",
        "\n",
        "**10. bmkgwilayah2**\n",
        "\n",
        "**Mayoritas dari 10 akun di atas merupakan akun kanal berita yang sering melakukan update informasi mengenai gempa di Jawa Barat. Sedangkan akun lainnya, yaitu \"M_ninetySix_You\" dan \"Jennife93282124\" sering menyebarkan informasi mengenai donasi.**"
      ],
      "metadata": {
        "id": "D7n-PryulJEr"
      }
    },
    {
      "cell_type": "markdown",
      "source": [
        "**Berdasarkan EDA yang telah dilakukan, dapat dilihat bahwa peran media sosial twitter mengenai gempa di Jawa Barat sangat penting. Hal ini juga memberikan manfaat bagi warga sekitar dan warga yang terdampak.**"
      ],
      "metadata": {
        "id": "SMVHasbKnfZP"
      }
    },
    {
      "cell_type": "markdown",
      "source": [
        "# **6. Visualisasi** **Teks**"
      ],
      "metadata": {
        "id": "J7C6uLRg-JMa"
      }
    },
    {
      "cell_type": "markdown",
      "source": [
        "**Visualisasi text akan dilakukan pada kolom `cleantweet` dengan menggunakan *voyant*. File yang diupload pada *voyant* adalah file txt yang sebelumnya sudah dibuat. Dengan memasukkan kata sebanyak 125, didapat visualisasi teks sebagai berikut.**"
      ],
      "metadata": {
        "id": "qo2dkH39r2T_"
      }
    },
    {
      "cell_type": "markdown",
      "source": [
        "![picture](https://drive.google.com/uc?id=1ZQwF79TOgUeKJeaZ9WAjDUC-UjOGGVVf)"
      ],
      "metadata": {
        "id": "UzDz-ROcrQOT"
      }
    },
    {
      "cell_type": "markdown",
      "source": [
        "**Dapat dilihat dari visualisasi di atas, terdapat beberapa kata yang sangat banyak muncul seperti gempa, cianjur, bencana, donasi, korban, sukabumi, dan lain-lain. Kemudian dapat dilihat juga terdapat huruf b,i,n yang muncul sedikit besar pada visualisasi di atas. Ketiga huruf tersebut sebenarnya membentuk kata BIN, namun karena adanya pemisahan kata pada hashtags, BIN jadi terpisah menjadi 3 huruf yaitu b,i, dan n. Terdapat pula kata rusa, dimana ini adalah hasil stemming dari kata berimbuhan yang memiliki kata dasar rusak. Karena proses stemming hanya menghilangkan imbuhan, tanpa memproses lebih lanjut katanya, maka kata-kata seperti kerusakan berubah menjadi rusa.**"
      ],
      "metadata": {
        "id": "tJ_k1tVY7pHP"
      }
    },
    {
      "cell_type": "markdown",
      "source": [
        "**Dari kata-kata di atas, akan dianalisis lebih lanjut beberapa kata yang terlihat muncul agak besar di visualisasi di atas. Yaitu korban, donasi, posko, dan rusa. Atau, rusa disini berarti rusak**"
      ],
      "metadata": {
        "id": "w0IkOBtJwC_7"
      }
    },
    {
      "cell_type": "markdown",
      "source": [
        "## **6.1 Posko**"
      ],
      "metadata": {
        "id": "UG36zKZXMPLU"
      }
    },
    {
      "cell_type": "markdown",
      "source": [
        "**Dengan cara melihat tweet yang mengandung kata posko dari data yang ada, ditemukan bahwa tweet yang mengandung kata posko kebanyakan membicarakan hal berikut ini dengan contoh tweet sebagai berikut:**"
      ],
      "metadata": {
        "id": "BJk1oc_D8oHk"
      }
    },
    {
      "cell_type": "markdown",
      "source": [
        "1.   **Pembukaan posko bencana dan upaya bantuan di posko**\n",
        "\n",
        "\"BIN buka posko kemanusiaan bantu ratusan pengungsi korban gempa cianjur #BINResponCepatBencanaAlam #BINPeduliKorbanBencana #BINTurutBerdukaGempaCianjur #BINHadirCepatUntukRakyat #BINPeduliSesama  https://t.co/6CvqSItYmp\"\n",
        "\n",
        "2.   **Tokoh masyarakat mengunjungi posko bencana**\n",
        "\n",
        "\"Menteri Pertahanan Republik Indonesia #Prabowo Subianto kembali mengecek masyarakat posko pengungsi terdampak gempa di Desa Cijedil Cianjur. Prabowo mengecek sarana dan prasarana termasuk dapur umum untuk mengetahui kebutuhan yang diperlukan masyarakat. #Prabowo #kerjasama\"\n",
        "\n",
        "3. **Penyaluran bantuan dan donasi ke posko bencana**\n",
        "\n",
        "\"Wuling bersama Rumah Zakat salurkan bantuan untuk warga terdampak gempa di Cianjur.  Salah satu titik posko pengungsian yang mendapatkan bantuan ini adalah Kecamatan Cugenang, Kampung Poponcol Rt04 Rw01 dengan total KK mengungsi sebanyak 66 KK dan 224 jiwa.  https://t.co/Itq4MaF5w1\"\n",
        "\n"
      ],
      "metadata": {
        "id": "E5rdHBjIMcsL"
      }
    },
    {
      "cell_type": "markdown",
      "source": [
        "## **6.2 Korban**"
      ],
      "metadata": {
        "id": "BYP8ev4GMdOj"
      }
    },
    {
      "cell_type": "markdown",
      "source": [
        "**Dengan cara melihat tweet yang mengandung kata korban dari data yang ada, ditemukan bahwa tweet yang mengandung kata korban kebanyakan membicarakan hal berikut ini dengan contoh tweet sebagai berikut:**"
      ],
      "metadata": {
        "id": "USo8ygBJ83Bl"
      }
    },
    {
      "cell_type": "markdown",
      "source": [
        "1.   **Kunjungan pada korban**\n",
        "\n",
        "\"Saya menjenguk para korban luka akibat gempa Cianjur yang sedang mendapat perawatan dan mengunjungi posko pengungsian untuk memastikan para korban gempa mendapat bantuan secara maksimal dan terpenuhi segala kebutuhannya. #prayforcianjur #gempabumicianjur #polripresisi  https://t.co/V8s3ObdcUg\"\n",
        "\n",
        "2.   **Ucapan belasungkawa terhadap korban**\n",
        "\n",
        "\"Turut berduka untuk korban gempa bumi Cianjur, Garut, Sukabumi. 🥀🥀  https://t.co/CcOImP3zwO\"\n",
        "\n",
        "3. **Berita mengenai jumlah korban**\n",
        "\n",
        "\"Gempa Bumi Magnitudo 5,8 Guncang Sukabumi, Sejumlah Rumah dan Bangunan Rusak, Tak Ada Korban Jiwa    https://t.co/aE3AafSxvH via @tribunmedan\"\n",
        "\n",
        "4. **Penyaluran donasi oleh lembaga pemerintah serta non pemerintah, masyarakat, dan tokoh masyarakat**\n",
        "\n",
        "\"PMI Salurkan Bantuan untuk Korban Gempa di Sukabumi dan Cianjur  https://t.co/b1udOAlwA2 #Pmi #Bantuan #KorbanGempa #KabupatenSukabumi\""
      ],
      "metadata": {
        "id": "-SUcT4WHMdUL"
      }
    },
    {
      "cell_type": "markdown",
      "source": [
        "## **6.3 Donasi**"
      ],
      "metadata": {
        "id": "C1HAngUlMdYq"
      }
    },
    {
      "cell_type": "markdown",
      "source": [
        "**Dengan cara melihat tweet yang mengandung kata donasi dari data yang ada, ditemukan bahwa tweet yang mengandung kata donasi kebanyakan membicarakan hal berikut ini dengan contoh tweet sebagai berikut:**"
      ],
      "metadata": {
        "id": "PEGAjx0h9Efm"
      }
    },
    {
      "cell_type": "markdown",
      "source": [
        "1. **Penyaluran donasi oleh Lembaga pemerintah serta non-pemerintah, masyarakat dan tokoh masyarkat​**\n",
        "\n",
        "\"OJK Dan Industri Jasa Keuangan Salurkan Donasi Bantu Korban Gempa Bumi Di Cianjur  https://t.co/QlzMZpMmrR​\"\n",
        "\n",
        "2. **Berbagai bentuk donasi diterima oleh para korban​**\n",
        "\n",
        "\"Ajinomoto Indonesia bekerjasama dengan BAZNAS dalam memberikan bantuan kepada korban gempa di Cianjur.  Bantuan yang diberikan berupa produk Masako, Saori Saos Tiram, mie instan YumYum serta donasi untuk pembangunan fasilitas umum yang hancur karena gempa bumi tersebut.  https://t.co/6k9nAcLPhe​\""
      ],
      "metadata": {
        "id": "EWIlBCXdefwH"
      }
    },
    {
      "cell_type": "markdown",
      "source": [
        "## **6.4 Rusak**"
      ],
      "metadata": {
        "id": "tNy8r12bN-ac"
      }
    },
    {
      "cell_type": "markdown",
      "source": [
        "**Dengan cara melihat tweet yang mengandung kata rusak dari data yang ada, ditemukan bahwa tweet yang mengandung kata rusak kebanyakan membicarakan hal berikut ini dengan contoh tweet sebagai berikut:**"
      ],
      "metadata": {
        "id": "2gUK-g679SZF"
      }
    },
    {
      "cell_type": "markdown",
      "source": [
        "# **7. Social Network Analytics**"
      ],
      "metadata": {
        "id": "0jqQSfTr8HVa"
      }
    },
    {
      "cell_type": "markdown",
      "source": [
        "## **7.1 Graph**"
      ],
      "metadata": {
        "id": "1P5zMTj_Zme9"
      }
    },
    {
      "cell_type": "markdown",
      "source": [
        "**Sebelum melakukan Social Network Analytics, dibuat terlebih dulu graf yang akan digunakan. Pertama-tama akan diimport module yang akan digunakan, seperti networkx dan operator.**"
      ],
      "metadata": {
        "id": "pG1CGrymWS5-"
      }
    },
    {
      "cell_type": "code",
      "source": [
        "import warnings; warnings.simplefilter('ignore')\n",
        "import time, numpy as np, matplotlib.pyplot as plt, pandas as pd, networkx as nx\n",
        "import operator\n",
        "\n",
        "seed = 0\n",
        "np.random.seed(seed)\n",
        "\"Done\""
      ],
      "metadata": {
        "id": "Rh-hUhf_YGGY",
        "colab": {
          "base_uri": "https://localhost:8080/",
          "height": 36
        },
        "outputId": "02c68d06-4676-43fe-ca88-69b28f4b3283"
      },
      "execution_count": null,
      "outputs": [
        {
          "output_type": "execute_result",
          "data": {
            "text/plain": [
              "'Done'"
            ],
            "application/vnd.google.colaboratory.intrinsic+json": {
              "type": "string"
            }
          },
          "metadata": {},
          "execution_count": 25
        }
      ]
    },
    {
      "cell_type": "markdown",
      "source": [
        "**Selanjutnya, akan dibuat 2 list yaitu `users` dan `tweets` yang akan menyimpan data pada kolom `username` dan `tweet` ke dalam list. Kemudian untuk melihat beberapa isi list dilakukan print data dari kedua list tersebut.**"
      ],
      "metadata": {
        "id": "19UXSl3rWhWv"
      }
    },
    {
      "cell_type": "code",
      "source": [
        "users = data.username.to_list()\n",
        "tweets = data.tweet.to_list()\n",
        "print( users[:5] )\n",
        "print( tweets[:5])"
      ],
      "metadata": {
        "id": "90C9lKXy8ZFI",
        "colab": {
          "base_uri": "https://localhost:8080/"
        },
        "outputId": "e0e42b42-fe2a-46cb-a88f-6bd8e2625c30"
      },
      "execution_count": null,
      "outputs": [
        {
          "output_type": "stream",
          "name": "stdout",
          "text": [
            "['EMSC', 'sukabumiNewsnet', 'KuretaID', 'EMSC', 'sofi_hwajiyong']\n",
            "['#Earthquake (#gempa) M2.7 strikes 17 km NE of #Sukabumi (#Indonesia) 8 min ago. More info:  https://t.co/ntwgOBVWSX', 'Garis Sukabumi Raya Lakukan Trauma Healing untuk anak-anak korban Gempa Cianjur  Selengkapnya di #sukabumiNews | #MediaLokalBerwawasanInternasional 👇  https://t.co/LE2fbHdjbu  https://t.co/aoAxRAwSiJ', 'Jumat Siang Ini Sukabumi Diguncang Gempa 3,1 Magnitudo  https://t.co/JiMpTGbUkq', '#Earthquake (#gempa) M2.7 strikes 25 km NE of #Sukabumi (#Indonesia) 14 min ago. More info:  https://t.co/VJQZcu7f2E', 'BMKG Deteksi Gempa Magnitudo 3.1 di Kabupaten Sukabumi Jawa Barat #BMKG #Gempa #gempaterkini #gempasukabumi #sukabumi #JawaBarat #Jabar #23Desember #Breaking_news #updates  https://t.co/cxbrH6g0NF']\n"
          ]
        }
      ]
    },
    {
      "cell_type": "markdown",
      "source": [
        "**Kemudian, inisialisasi suatu graf kosong G. Kode pada baris kedua di bawah, bertujuan untuk menambahkan nodes/vertex/simpul yaitu berupa semua username pada list `users`. Untuk mengetahui jumlah vertex dan edges, dilakukan perintah print.**"
      ],
      "metadata": {
        "id": "smHhjBLaW1yn"
      }
    },
    {
      "cell_type": "code",
      "source": [
        "G = nx.Graph() # Graph Kosong Baru\n",
        "G.add_nodes_from(users)\n",
        "\n",
        "print('Banyak vertex = ', G.number_of_nodes())\n",
        "print('Banyak Edges = ', G.number_of_edges())"
      ],
      "metadata": {
        "id": "NY4qZHOlYPUo",
        "colab": {
          "base_uri": "https://localhost:8080/"
        },
        "outputId": "d7b6c887-3def-49fb-9ab6-ba0023609998"
      },
      "execution_count": null,
      "outputs": [
        {
          "output_type": "stream",
          "name": "stdout",
          "text": [
            "Banyak vertex =  9964\n",
            "Banyak Edges =  0\n"
          ]
        }
      ]
    },
    {
      "cell_type": "markdown",
      "source": [
        "**Untuk menambahkan edges pada graf tersebut. Dilakukan loop berikut ini. Dimana, edges akan ditambahkan apabila tweet yang dilakukan user tersebut menyebutkan/mention user lainnya. Lalu, diberikan perintah print kembali untuk melihat update jumlah vertex dan edges.**"
      ],
      "metadata": {
        "id": "QcF6RGerXKhc"
      }
    },
    {
      "cell_type": "code",
      "source": [
        "for usr, t in zip(users, tweets):\n",
        "    mentionS =  re.findall(\"@([a-zA-Z0-9]{1,15})\", t)\n",
        "    for mention in mentionS:\n",
        "        if \".\" not in mention: #skipping emails\n",
        "            G.add_edge(usr, mention)\n",
        "\n",
        "print('Banyak vertex = ', G.number_of_nodes())\n",
        "print('Banyak Edges = ', G.number_of_edges())"
      ],
      "metadata": {
        "id": "Jau3-WM6YTJ2",
        "colab": {
          "base_uri": "https://localhost:8080/"
        },
        "outputId": "fa418110-d465-4329-b277-ba85427f4948"
      },
      "execution_count": null,
      "outputs": [
        {
          "output_type": "stream",
          "name": "stdout",
          "text": [
            "Banyak vertex =  11985\n",
            "Banyak Edges =  4259\n"
          ]
        }
      ]
    },
    {
      "cell_type": "markdown",
      "source": [
        "**Setelah graf jadi, selanjutnya akan dianalisis mengenai centrality dan community di dalam graf tersebut. Berikut ini prosesnya.**"
      ],
      "metadata": {
        "id": "HCT5pZXaXkmV"
      }
    },
    {
      "cell_type": "markdown",
      "source": [
        "## **7.2 Centrality Analysis**"
      ],
      "metadata": {
        "id": "-ZuRcNsvZeCV"
      }
    },
    {
      "cell_type": "markdown",
      "source": [
        "**Centrality Analysis adalah cara untuk mengetahui siapakah user yang paling berpengaruh dalam suatu topik di media sosial. Centrality bisa ditentukan berdasarkan jaringan pertemanan, komentar atau pun interaksi user dengan user lainnya. Berikut ini beberapa jenis dari centrality antara lain:**\n",
        "\n",
        "\n",
        "*   **Centrality by Degree**\n",
        "*   **Closeness Centrality**\n",
        "* **Betweenness Centrality**\n",
        "* **Eigenvector Centrality**\n",
        "\n",
        "**Berikut ini, akan dilakukan centrality analysis berdasarkan beberapa metode di atas.**\n",
        "\n"
      ],
      "metadata": {
        "id": "JT7OQ0mBX7pN"
      }
    },
    {
      "cell_type": "markdown",
      "source": [
        "**Sebelumnye, didefinisikan fungsi Centrality yang akan menampilkan vertex/user yang memiliki nilai centrality terbesar sesuai dengan metodenya.**"
      ],
      "metadata": {
        "id": "9S66b-RRYfF_"
      }
    },
    {
      "cell_type": "code",
      "source": [
        "def Centrality(G, N=10, method='katz', outliers=False, Label = True, layOut='shells'):\n",
        "    if method.lower()=='katz':\n",
        "        phi = 1.618033988749895 # largest eigenvalue of adj matrix\n",
        "        ranking = nx.katz_centrality_numpy(G,1/phi)\n",
        "    elif method.lower() == 'degree':\n",
        "        ranking = nx.degree_centrality(G)\n",
        "    elif method.lower() == 'eigen':\n",
        "        ranking = nx.eigenvector_centrality_numpy(G)\n",
        "    elif method.lower() =='closeness':\n",
        "        ranking = nx.closeness_centrality(G)\n",
        "    elif method.lower() =='betweeness':\n",
        "        ranking = nx.betweenness_centrality(G)\n",
        "    elif method.lower() =='harmonic':\n",
        "        ranking = nx.harmonic_centrality(G)\n",
        "    elif method.lower() =='percolation':\n",
        "        ranking = nx.percolation_centrality(G)\n",
        "    else:\n",
        "        print('Error, Unsupported Method.'); return None\n",
        "\n",
        "    important_nodes = sorted(ranking.items(), key=operator.itemgetter(1))[::-1]#[0:Nimportant]\n",
        "    data = np.array([n[1] for n in important_nodes])\n",
        "    dnodes = [n[0] for n in important_nodes][:N]\n",
        "    if outliers:\n",
        "        m = 1 # 1 standard Deviation CI\n",
        "        data = data[:N]\n",
        "        out = len(data[abs(data - np.mean(data)) > m * np.std(data)]) # outlier within m stDev interval\n",
        "        if out<N:\n",
        "            dnodes = [n for n in dnodes[:out]]\n",
        "\n",
        "    print('Influencial Users: {0}'.format(str(dnodes)))\n",
        "    print('Influencial Users Scores: {0}'.format(str(data[:len(dnodes)])))\n",
        "    Gt = G.subgraph(dnodes)\n",
        "    return Gt"
      ],
      "metadata": {
        "id": "LdFSPbPKYV73"
      },
      "execution_count": null,
      "outputs": []
    },
    {
      "cell_type": "markdown",
      "source": [
        "**Kemudian didefinisikan juga fungsi drawGraph untuk menampilkan graf dari user yang termasuk dalam influencial users berdasarkan centrality berbagai metode.**"
      ],
      "metadata": {
        "id": "wllY1loLYtCT"
      }
    },
    {
      "cell_type": "code",
      "source": [
        "def drawGraph(G, Label, layOut='spring', graphStyle=False, K = 200):\n",
        "    if graphStyle:\n",
        "        ranking = nx.degree_centrality(G)\n",
        "        warna = list(ranking.values())\n",
        "        d = nx.degree(G)\n",
        "        d = [d[node]*K for node in G.nodes()]\n",
        "        pos = nx.spring_layout(G) # Spring LayOut\n",
        "        nx.draw_networkx_nodes(G,pos, node_color=warna,node_size=d) # Gambar Vertex\n",
        "        nx.draw_networkx_edges(G,pos,width=2,alpha=0.1) # Gambar edges\n",
        "        nx.draw_networkx_labels(G,pos) #Gambar Label Nodes\n",
        "        plt.show() # Show the graph\n",
        "    else:\n",
        "        if layOut.lower()=='spring':\n",
        "            pos = nx.spring_layout(G)\n",
        "        elif layOut.lower()=='circular':\n",
        "            pos=nx.circular_layout(G)\n",
        "        elif layOut.lower()=='random':\n",
        "            pos = nx.random_layout(G)\n",
        "        elif layOut.lower()=='shells':\n",
        "            shells = [G.core_nodes,sorted(G.major_building_routers, key=lambda n: nx.degree(G.topo, n)) + G.distribution_routers + G.server_nodes,G.hosts + G.minor_building_routers]\n",
        "            pos = nx.shell_layout(G, shells)\n",
        "        elif layOut.lower()=='spectral':\n",
        "            pos=nx.spectral_layout(G)\n",
        "        else:\n",
        "            print('Graph Type is not available.')\n",
        "            return\n",
        "        nx.draw_networkx_nodes(G,pos, alpha=0.2,node_color='blue',node_size=600)\n",
        "        if Label:\n",
        "            nx.draw_networkx_labels(G,pos)\n",
        "        nx.draw_networkx_edges(G,pos,width=4)\n",
        "        plt.show()"
      ],
      "metadata": {
        "id": "kd9bf-QEYc9S"
      },
      "execution_count": null,
      "outputs": []
    },
    {
      "cell_type": "markdown",
      "source": [
        "**Centrality by Degree**"
      ],
      "metadata": {
        "id": "LgsN4aaPYk__"
      }
    },
    {
      "cell_type": "code",
      "source": [
        "Gd = Centrality(G, N=10, method='degree', outliers=False, Label = True, layOut='spring')"
      ],
      "metadata": {
        "id": "x7drwlX1YhlE",
        "colab": {
          "base_uri": "https://localhost:8080/"
        },
        "outputId": "38d50165-db1d-4eab-b58b-57c68863d3e0"
      },
      "execution_count": null,
      "outputs": [
        {
          "output_type": "stream",
          "name": "stdout",
          "text": [
            "Influencial Users: ['infoBMKG', 'jokowi', 'erickthohir', 'Biang05553051', 'anonapostate', 'illness_dd3', 'ridwankamil', 'tanyakanrl', 'bankmandiri', 'infobdg']\n",
            "Influencial Users Scores: [0.02052737 0.00792724 0.00575768 0.00408879 0.00367156 0.00358812\n",
            " 0.00350467 0.00317089 0.00308745 0.00300401]\n"
          ]
        }
      ]
    },
    {
      "cell_type": "code",
      "source": [
        "drawGraph(Gd, True, layOut='circular')"
      ],
      "metadata": {
        "id": "3M5xwQCfYp5t",
        "colab": {
          "base_uri": "https://localhost:8080/",
          "height": 248
        },
        "outputId": "5af3567f-3f02-4f83-b173-ea43bc4e0735"
      },
      "execution_count": null,
      "outputs": [
        {
          "output_type": "display_data",
          "data": {
            "text/plain": [
              "<Figure size 432x288 with 1 Axes>"
            ],
            "image/png": "[encoded data removed]"
          },
          "metadata": {}
        }
      ]
    },
    {
      "cell_type": "markdown",
      "source": [
        "**Berdasarkan analisis Centrality by Degree di atas, didapat user yang memiliki nilai Centrality by Degree paling tinggi yaitu InfoBMKG. Artinya InfoBMKG adalah user yang paling sering di-mention atau me-mention user lainnya. Kemudian yang tertinggi selanjutnya yaitu jokowi dan dilanjutkan oleh erickthohir.**"
      ],
      "metadata": {
        "id": "pyKhgtpeZYzc"
      }
    },
    {
      "cell_type": "markdown",
      "source": [
        "**Closeness Centrality**"
      ],
      "metadata": {
        "id": "eflR6MKsYt84"
      }
    },
    {
      "cell_type": "code",
      "source": [
        "Gc = Centrality(G, N=10, method='closeness', outliers=False, Label = True, layOut='spring')"
      ],
      "metadata": {
        "id": "n6b-1qSEYwKb",
        "colab": {
          "base_uri": "https://localhost:8080/"
        },
        "outputId": "46d46a3c-81f9-4852-f556-31f4af438cda"
      },
      "execution_count": null,
      "outputs": [
        {
          "output_type": "stream",
          "name": "stdout",
          "text": [
            "Influencial Users: ['ridwankamil', 'jokowi', 'infoBMKG', 'RadioElshinta', 'medcom_id', 'M_ninetySix_You', 'iyak1230', 'KompasTV', 'AntonPr12594871', 'SonoraFM92']\n",
            "Influencial Users Scores: [0.04243382 0.0417641  0.04099628 0.04087385 0.04064366 0.04045724\n",
            " 0.04004903 0.03878882 0.0385777  0.03814762]\n"
          ]
        }
      ]
    },
    {
      "cell_type": "code",
      "source": [
        "drawGraph(Gc, True, layOut='circular')"
      ],
      "metadata": {
        "id": "9wVeDfteYy8A",
        "colab": {
          "base_uri": "https://localhost:8080/",
          "height": 248
        },
        "outputId": "5e36a63c-c57b-4db6-b0cb-5c89448af0de"
      },
      "execution_count": null,
      "outputs": [
        {
          "output_type": "display_data",
          "data": {
            "text/plain": [
              "<Figure size 432x288 with 1 Axes>"
            ],
            "image/png": "[encoded data removed]"
          },
          "metadata": {}
        }
      ]
    },
    {
      "cell_type": "markdown",
      "source": [
        "**Berdasarkan analisis Closeness Centrality di atas, didapat bahwa user yang memiliki nilai Closeness Centrality paling tinggi yaitu ridwankamil. Artinya ridwalkamil adalah user yang memiliki hubungan antar user lainnya paling banyak. Akibatnya user ridwankamil akan menyebarkan informasi lebih cepat kepada user lainnya karena dinilai dekat dengan user-user lainnya.**"
      ],
      "metadata": {
        "id": "XncJXxLyZtJT"
      }
    },
    {
      "cell_type": "markdown",
      "source": [
        "**Betweeness Centrality**"
      ],
      "metadata": {
        "id": "vz-T0rI9Y6qH"
      }
    },
    {
      "cell_type": "code",
      "source": [
        "Gb = Centrality(G, N=10, method='betweeness', outliers=False, Label = True, layOut='spring')"
      ],
      "metadata": {
        "id": "OgbyMNpsZDfP",
        "colab": {
          "base_uri": "https://localhost:8080/"
        },
        "outputId": "62dca0ab-9e83-4cfb-fd8b-b423184fb487"
      },
      "execution_count": null,
      "outputs": [
        {
          "output_type": "stream",
          "name": "stdout",
          "text": [
            "Influencial Users: ['infoBMKG', 'jokowi', 'ridwankamil', 'M_ninetySix_You', 'Biang05553051', 'BNPB', 'infocianjur', 'RadioElshinta', 'AntonPr12594871', 'nan_priatna']\n",
            "Influencial Users Scores: [0.01388897 0.01311906 0.01106208 0.0080238  0.00564422 0.00352868\n",
            " 0.00346288 0.00322798 0.00292892 0.00263441]\n"
          ]
        }
      ]
    },
    {
      "cell_type": "code",
      "source": [
        "drawGraph(Gb, True, layOut='circular')"
      ],
      "metadata": {
        "id": "dMnU3_PCZLX2",
        "colab": {
          "base_uri": "https://localhost:8080/",
          "height": 248
        },
        "outputId": "b53e0b1d-b586-4e31-b0eb-39aa0b07e913"
      },
      "execution_count": null,
      "outputs": [
        {
          "output_type": "display_data",
          "data": {
            "text/plain": [
              "<Figure size 432x288 with 1 Axes>"
            ],
            "image/png": "[encoded data removed]"
          },
          "metadata": {}
        }
      ]
    },
    {
      "cell_type": "markdown",
      "source": [
        "**Berdasarkan analisis Betweeness Centrality di atas, didapat bahwa user yang memiliki nilai Betweeness Centrality paling tinggi yaitu infoBMKG. Artinya infoBMKG adalah user yang memiliki peran penting dalam hubungan antara akun-akun lainnya. Akibatnya tanpa user infoBMKG, hubungan dari user lainnya akan  berkurang atau terputus. Atau, informasi akan terputus jika tidak ada user infoBMKG**"
      ],
      "metadata": {
        "id": "XLevT5ZQaCyW"
      }
    },
    {
      "cell_type": "markdown",
      "source": [
        "**Eigenvector Centrality**"
      ],
      "metadata": {
        "id": "e-eoaJ0RaRW1"
      }
    },
    {
      "cell_type": "code",
      "source": [
        "try:\n",
        "  Ge = Centrality(G, N=10, method='eigen', outliers=False, Label = True, layOut='spring')\n",
        "except AttributeError:\n",
        "  print(\"Bagian ini dapat menampilkan output jika di run di python\")"
      ],
      "metadata": {
        "id": "oHJWosDjaXbN",
        "colab": {
          "base_uri": "https://localhost:8080/"
        },
        "outputId": "326b9bdd-8e05-4351-9631-54c357263432"
      },
      "execution_count": null,
      "outputs": [
        {
          "output_type": "stream",
          "name": "stdout",
          "text": [
            "Bagian ini dapat menampilkan output jika di run di python\n"
          ]
        }
      ]
    },
    {
      "cell_type": "code",
      "source": [
        "try:\n",
        "  drawGraph(Ge, True, layOut='circular')\n",
        "except (AttributeError, NameError, RuntimeError):\n",
        "  print(\"Bagian ini dapat menampilkan output jika di run di python\")"
      ],
      "metadata": {
        "id": "7N4ExscRaXiq",
        "colab": {
          "base_uri": "https://localhost:8080/"
        },
        "outputId": "cfdf3be8-1c23-4421-f37b-0c7fb4ba90a9"
      },
      "execution_count": null,
      "outputs": [
        {
          "output_type": "stream",
          "name": "stdout",
          "text": [
            "Bagian ini dapat menampilkan output jika di run di python\n"
          ]
        }
      ]
    },
    {
      "cell_type": "markdown",
      "source": [
        "**Berdasarkan analisis Eigenvector Centrality di atas, diadapat bahwa user yang memiliki nilai Eigenvector Centrality paling besar adalah infoBMKG. Artinya infoBMKG inilah yang merupakan tokoh penting dalam jaringan sosial ini. Atau artinya, infoBMKG merupakan tokoh yang penting dalam peyebaran tweet mengenai gempa di jawa barat.**"
      ],
      "metadata": {
        "id": "iczJnF6BaeE6"
      }
    },
    {
      "cell_type": "markdown",
      "source": [
        "## **7.3 Community**"
      ],
      "metadata": {
        "id": "V0MbtIQXZ9FX"
      }
    },
    {
      "cell_type": "markdown",
      "source": [
        "**Selain menganalisis centrality, akan dianalisis juga community yang terjadi pada tweet dan user yang ada pada data. Berikut ini proses community detection pada network yang sebelumnya didefinisikan. Hanya akan ditampilkan 50 community teratas untuk efisiensi. Sehingga hanya akan dilakukan loop hingga nilai `i` = 50**"
      ],
      "metadata": {
        "id": "3QDQp2PybQDy"
      }
    },
    {
      "cell_type": "code",
      "source": [
        "Gcom = nx.algorithms.community.greedy_modularity_communities(G)\n",
        "i = 1\n",
        "for community in Gcom:\n",
        "  if i<50:\n",
        "    print(community)\n",
        "    i = i+1"
      ],
      "metadata": {
        "id": "mBudNxMmZ_bP",
        "colab": {
          "base_uri": "https://localhost:8080/"
        },
        "outputId": "f7a6be18-1a91-4fe6-a208-c151da002ec4"
      },
      "execution_count": null,
      "outputs": [
        {
          "output_type": "stream",
          "name": "stdout",
          "text": [
            "frozenset({'TerongU72356816', 'RonalSihotang78', 'uncntrlllll', 'hyuckyoja', 'tapi_gaenakan', 'asto_zone', 'piyakuu', 'its_trii', 'SilviNu80861815', 'justnad1ne', 'Resass10', 'AYOPalembang', 'deviyantilumba1', 'herlandiio', 'Abihoyongwin_', 'rebecc39552721', 'DMCDompetDhuafa', 'asepmsi', 'whattson00', 'KAI121', 'aegigom_', 'jpnncom', 'diswayid', 'humasBMKG', 'PVMBG', 'aa_idud', 'ara1991_arum', 'arfendi35', 'xo_blackpearl', 'dedeomat', 'SabaniIban3', 'jackle_richard', 'nurulmuthiahth', 'AkmalNugraha8', 'wahyuBONEX', 'TenguLawaxx', 'fadilahilLmah', 'ZoRioNa_SkAists', 'mgsapitri', 'mavelyin', 'ameliaagustinm', 'Galih', 'sahrulgunawan08', 'BudiHartopo5', 'FFathkidsc', '_echanis', 'putriaprl17', 'andri', 'Marlina08451612', 'Red_Sky___', 'andri_parcox', 'sadgirkampoeng', 'CityShj', 'rurisa1428', 'Cangtip03', 'SukabumiFace', 'lhayesno', 'Bp_HasbiJunaedi', 'miladewy', 'ARHS91194089', 'ageumeus_', 'Asritami1', 'armangunawan34', 'alittheassassin', 'Bebekbetutu141', 'hardboyys', 'loidfourger', 'abdulmanarul', '004Suri', 'HikaruNakamur20', 'GungAji06', 'Cristiano_time7', 'bmkgwilayah2', 'Minietweets', 'bucinflashsale', 'jserein97', 'budimandjatmiko', 'countingcrimes1', 'nurtria', 'visitcianjur', 'MuhamadSohibud1', 'Skipspyyr', 'izdah_', 'NursapitriRisna', 'Dompet', 'TriningsihPusp1', 'nailloyy7', 'SerliLestariA1', 'ChanHudang', 'Romapasa', 'imajulsss', 'lidarmayanti', 'backpacksmi', 'Liana13975700', 'guecahaya', 'ichwansfr', 'Jaewongsingsong', 'joddie_rose', 'bogorfess', 'pranayoga168', 'SitiRod73107893', 'GheGerall', 'YEEPYlP', 'Joegombongsuntr', 'vidiiphotograph', 'bibble_io', 'jalppa', 'salma_enji', 'lionparcel_', 'Rhaenyr_a', 'ohharni', 'gasukabawaang', 'zxfffrr', 'tedytri', 'Scortariuz', 'gts4bl', 'ZackyGhulam', 'iyak1230', 'TIRANISAKIT', 'zikra_ayah', 'wisnushubuh', 'liketheearth', 'anisaasd_', 'wargakosonghiji', 'Zulkifl41783288', 'Herlina49882042', 'membaursurabaya', 'ArieWira', 'holakaknaya', 'achmadnurhdyt', 'nonongzio', 'PipihPitriyan', 'aldyansah07', 'valianda12', 'XicXvra', 'JhonatanNapitu4', 'Lei_Rion', 'FauzanTo3', 'DiraAyunda3', 'Ria', 'baperanloezz', 'riky_bachdim', 'NoviaMaria07', 'DRatminto', 'enooname', 'Agustia37936741', 'cecep19232517', 'henditawr', 'd3d1s', 'SalsaBalqis8', 'adalia_bunga', 'Artanath_', 'kimhenrian', 'todaro', 'JamalBoegis', 'nanaa273628', 'ArroziEffendi', 'nuyytrophe', 'AGhzhaf', 'upsxixixi', 'Yoseph_Mazesolo', 'ciletuhgeopark', 'hannafi124', 'sandybayuaji2', 'rizkydea', 'fxxcj_', 'sohawtfr', 'rusmanaputra7', 'slxxjxwk', 'Rkkaa88', 'Thoriqqq12', 'shinekyss', 'updan', 'ruslandikarom', 'KaryantiYanti1', 'martopotop', 'TineSepti', 'harkat_mulds', 'ridwan_luhur', 'Veerain16100720', 'psyducknM1234', 'NunaNana130800', 'BocahCrypto1', 'aghniaadzkia', 'JeremyMaruliHP', 'nur5_vani', 'ultranuy', 'ami_fzah', 'Ervina961', 'LbsdE_', 'Ox_hama', 'bluelittledot', 'papaazfahsya', 'neohistoria', 'Muhamma56160565', 'HF', 'gitaftarigan', 'megamonica05', 'margevian', 'ReeaRifatil', 'Vaniarahma289', 'tiafidia', 'FelixJun6', 'EachOth22391519', 'desto_aji', 'tofansofiansah', 'ccarbonian', 'hazzxluv', 'dorseysilalahi', 'bencanaID', 'Alfhabet_AZ', 'kamu_miapah', 'vicryahmad1', 'wateverichasay', 'DeriskaNirvana', 'umangumangsawah', 'SeptiaP79778285', 'Ronanadya2', 'Uisernamee', 'Dodi56382751', 'bintangcityx', 'ciciunay', 'TerasTeh', 'proudtoberight_', 'HotmaPasaribu', 'MIT', 'ruriadi', 'wal_hasbi', 'FarielOfficial_', 'PsikologCoach', 'Dahlanwahyudi2', 'thyddaeren', 'kemissqueenaan', 'MCAOps', 'ArviPratama6', 'swyjeoon_', 'AdibHidayat', 'Ria_N_Aryanti', 'Khaidiralfa83', 'infoBMKG', 'frqhalf', 'DantyOcta', 'sasagfeaj', 'fzyyzzzz', 'OxJihancornwink', 'Rifkiiiiiii1', 'aillcapcipcup', 'Lthiftulmarsyad', 'rahmavina14', 'drleniaw', 'AdiSuhe88396735', 'OrenEpisode_', 'CahyaYa52387106', 'paulus', 'Maulana_16A', 'bebasbaru', 'afrkml', 'ariyo_id', 'xxraraani', 'lisaaaaa2218', 'detuen', 'pliswait', 'sekitarbandung', 'robi_sya', 'tsaden3', 'LeniApr39303880', 'Minietweets_', 'tothemo01069586', 'septiminanto', '__shimee', 'aowkwkwkwkwkkwk', 'WardiSamme218', 'mom_ra_ra', 'wisnunu2011', 'AnakKaTilu3', 'KeongBoss', 'Asjdjkjdj', 'majo_lahraga', 'Gerobaksomai', 'sayyidsyahran', 'kintilkibings', 'idmetanoia', 'joni_member', 'BBbpbats', 'bunga_sahla', 'Icaa1110', 'AriNurviani', 'hyunsukxxx', 'wuriihannd', 'olief_zaki', 'RudiAns33249944', 'kumparan', 'susan_aprl27', 'YuliDawami', 'FaishalIshal5', 'Kangnemi', 'Riksh13', 'eko_saputro1293', 'bawakalemm', 'wandi_ipung', 'tzwitsalunyu', 'JessiMS_', 'firdamahrani', 'serpihanampul', 'SaripudinSanip', 'FKadrun', 'polsektambusai1', 'mazzhdic', 'Tantishanyd', 'erkfthhh_', 'todaro_tody', 'MiftahU02968370', 'M23qw1', 'zizyaaaaaa', 'Samwitw29898372', 'aulthough', 'aisey1386', 'heonitrazh', 'MuhammadBobbyA4', 'cinooooot', 'dailyraving', 'lampirma_s', 'JunisaNarullita', 'kevokamyu', 'FajarihsanKurn2', 'Jatniko35566564', 'BrewRidwan', 'SuhangSuheng', 'TheCatalyst52', 'jk_snlee', 'rizalmunr', 'Ripah46'})\n",
            "frozenset({'dwiyono', 'rereongan', 'tisadellt', 'dw_indonesia', 'polsek_kebasen', 'topan268', 'infobankbjb', 'AKamas0911', 'ListyoSigitP', 'USAID', 'Wandystjk', 'ceu_meta', 'JabarFtrLdr', 'Machlasky', 'Yuri39036801', 'RK_JabarJuara', 'jacobuskalao', 'logpal', 'ridwankamil', 'pusher', 'Humaira922', '20detik', 'ustadtengkuzul', 'mappirewa', 'DBrawzl', 'KabSerang', 'infociranjang_', 'yantireinke', 'Wawan', 'aspirasi_r', 'R_ashilla2', 'RTMCJatim', 'Kemenag', 'Juniwun', 'dwiyuniaaar_', 'masfiskal', 'helma_saja', 'BPBDCianjur', 'klinikbangunan', 'lazismu_jabar', 'S4N', 'arifhidayat', 'wbintoro101209', 'radiorafi', 'KaredokLeunca__', 'DivHumasPolri', 'humasjabar', 'akbar', 'AinurKedasih', 'Lia', 'DivHumas', 'Rizky_Fauza', 'StrawJS92', 'GempaCianjur', 'Dediy_orlando', 'Ikaunpad', 'HalloSukabumi', 'Linasantana', 'Moenthelicious', 'mR', 'PosSarSukabumi', 'polri', 'NembeNetes', 'komunitassaungb', 'rmbantencom', 'AtepMau01605820', 'panjianom102', 'widjokongko', 'YannieSri', 'kemenkopmk', 'KompasTV', 'HumanisPolri', 'IdeNews_id', 'aepsaefulfajar', 'RelawanNusanta1', 'resta', 'irvanababil10', 'BmkgJawa', 'Arfi84575826', 'Polpp_damkarcjr', 'Birokesrajabar', 'Haqudah1', 'TengkuBayu3', 'suprayoga123', 'LekKacung', 'InfoSmi', 'Diek', 'budibroer657', 'dkpp_jabar', 'sinyocemerlang', 'infomitigasi', 'SUKAbumiKita', 'hajitato', 'Biang05553051', 'erlinarianorsan', 'KemurahanTuhan', 'woodsindonesia', 'InfoJakarta', 'jakartamerah', 'rkij_sukabumi', 'Sutopo', 'alekda', 'Bencana', 'gitalinda1', 'RadioElshinta', 'usaidindonesia', 'MomahadSodri', 'BNPB', 'DjampiSidkon', 'satpolppjabar', 'BimaAryaS', 'HanjenifD', 'Klabangijo', 'tanya', 'CianjurBangkit', 'BPBDJabar', 'Lieheng8', 'Didiherdiana5', 'Polpp', 'diskominfojabar', 'mohmahfudmd', 'Uplu7', 'sekitarbandung_', '12uwongdeso', 'janganKetaw4', 'RADARSUKABUMI', 'Bonaleles', 'pemkabcjr', 'syamhadi1976', 'infosmi', '__FuToday', 'SWangsaatmaja', 'shield17845', 'olvaholvah', 'InfoBDG', 'PTRRB', 'oerangtjiandzoe', 'Karsono12732862', 'dwynur666', 'KaredokLeunca', 'Sekcaringin', 'kusukabumikuID', 'azir_baktiar', 'Afridu6', 'mahasiswigenz', 'bmkgjogja', 'PPATK', 'Polres', 'BpbdSukabumi', 'infoprobolinggo', 'Iqbal_Legacy', 'DisastersID', 'QrJabar', 'DppAliansi', 'nagondrong', 'SonoraFM92', 'kabargeologi', 'seokhaoism', 'PVMBG_', 'SimonMurans', 'FaisalA75009458', 'OktaOnny', 'ESitohag', 'proGPranowo', 'rondamedsos', 'fullmoonfolks', 'Sigromilir01', 'amalsholehcom', 'mamat', 'JakartaIDNews', 'hkb', 'GoldTra69193492', 'Delon_Mask', 'bukanpikoy', 'premankeyboard', 'RCjpcpSnfBLLX9b', 'TerasMuda', 'zuraidbima', 'Polda', 'KristiawanSapu7', 'veelgeno', 'Cecep_mandala', 'updatecianjur', 'AntonPr12594871', 'doriwirawan', 'retno_ad', 'aslamnatsir', 'bakohumas', 'ivanbodyman', 'aw3126', 'gumukcandi', 'perumdamCJR', 'humaspoldajbr', 'Firm18404250Eko', 'achfahmi', 'holopiscom', 'AldiNeno', 'Meey1235', 'NTMCLantasPolri', 'winoto', 'uuruzhan', 'Totskuy821', 'semilirnegri', 'awi', 'HBima26', 'ojkindonesia', 'infojakarta24', 'ansarahmadkepri', 'Arissus31210013', 'mblocspace', 'ERRY026', 'vulkanologi', 'FriaRamadhani1', 'kulabudi', 'VJO2013', 'Mantova42167289', 'diskominfo_cjr', 'IshM73', 'sutanriska', 'get', 'ntar', 'ranubintang', 'muhadjir', 'Jebenk63285910', 'e100ss', 'LantasProb', 'TimesProbRaya', 'sofwanzu', 'SAR', '4alif', 'salimbonim', 'FOS', 'mediaindonesia', 'gasscianjur', 'rdi971', 'TheSukabumiCom', 'berkadutkadut', 'TheRainBand', 'K7', 'tarungnews2', 'detik_jabar', 'PolresSmi', 'BMKGBandung', 'majalahayah', 'PaUuRuzhanul', 'Poldajabar', '28Annas', 'DedetRendie', 'rioantony711', 'PolresCianjur', 'medcom_id', 'rizkireliefs', 'ilalangreborn', 'SukabumiToday', 'RKIJ_KabBdgBrt', 'sukabumidoglove', 'jabarprovgoid', 'PemkabCianjur', 'abahoryza', 'lombasihiryes', 'IdeNews', 'InfoHumasBMKG', 'PolhukamRI', 'infojawabarat5', 'Polripresisi', 'infosukabumi', 'ojo_dumel', 'ISSINDO', 'syahriyalkamil', 'Pemkot', 'APKASI', 'Sukabumi', 'hbima26', 'HerryFTanjung', 'H', 'Puspen', 'SMI_Heritages', 'h', 'KomnasHAM', 'Miharjatea'})\n",
            "frozenset({'kemensosri', 'Indober2020', '__RismaWidiono_', 'SastroGedek', 'FaGtng', 'AirinAirin', 'HermandoKang', 'KemensetnegRI', 'ariefskie', 'tinqts2', 'sahabatganjar', 'cadisdik6', 'Terima', 'kalla_jengking', 'IndonesiaRahayu', 'pn7l7h', 'BentangImaji', 'jokowi', 'Rizky2Ratu', 'SeptianreyNald8', 'Kiyai', 'triwul82', 'bawarezeki', 'Naraera1', 'Anggita_lung', 'AryPrasetyo_85', 'My', 'ngalap1berkah', 'KakRosse_aja', 'RishiSunak', 'babegalak02', 'NingratKere', 'DivaCatrii', 'makejoy22', 'ata', 'Sukardi2017', 'Nov1R007', 'BellindaCarls', 'RINegaraku', 'OmbudsmanJabar', 'TAGANA', 'Mr_white2024', 'EdwinFitriani', 'Banyu2703', 'disdik', 'SemutGeniKlaten', 'Infonawacita1', 'WarasBareng', 'jessiellence', 'ArdiZA14', 'tri', 'IntanAyuArimbi', 'bbwsbsolo', 'GueTionghoa', 'radithma', 'tuanjuan_', 'Revenge00810455', 'hyang_wisnu', 'Mockingjacks_', 'Elbarak_', 'SydneyX5w', 'Arida_237', 'JabbzAbdul', 'tamatam716', 'SATPOLPPBogor', 'Milamariamey', 'Spy_Zone85', '1404Stj', 'leles1970', 'geliatnegeri', 'bbyEmily01', 'balestikk', 'hyang', 'Jifi', 'sanjijiwa22', 'GapidJateng', 'Aryprasetyo85', 'gilapersija_2', 'si_demplonn', 'Jokowi', 'Itjen', 'AirlanggaUpdate', 'GerBangNKRI', 'June_dya77', 'joseph', 'cjiinn', 'YukVaksin', 'sonyakei_', 'mang_ib', 'Kucing8810', 'PolitikKekuatan', 'al_koyo', 'gpnasdempapua', 'YogaPras', 'putrivio3', 'KemensosRI', 'cadisdik7', 'yennywahid', 'Ireng_Maulana45', 'setpresRI', 'KemenPU', 'bersamajuara', 'opiik_piss', 'dinsosjabar', 'kemkominfo', '_Rizmaya__', 'PonorogoPolres', 'AlvinoLulu', 'sate_bekicot', 'S4fitr1HS', 'ZilaAr_', 'MpokMae', 'IwanWansenk77', 'bani', 'ekonomimaju', 'Polsekcaringin2', 'listyosigitprab', 'Hadimakpul', 'setkabgoid', 'puti_merah', 'giewhydi', 'DamaiTanpa', 'airlangga', 'Hasbil', 'akoelaharjuna', 'NgkongRoses', 'DediMulyadi71', 'Arsikamadja', 'CryptoKuta', 'PemilihJ', 'Dewi__Ku', 'vianicantiq', 'mimi_chimmy', 'Sirambutmerah_', 'PradanaDika29', 'gadisrembulan_', 'KangAmiNNNN', 'ganjarpranowo', 'UdaraPagi9', 'Ddwie5', '19yudith', 'Irwijaya', 'Leo_Lefri', 'Astri_caby', 'VenusRae2', 'zoroz4576', 'Senja_Merah1', 'PlateJohnny', 'StellaSuwardi', 'perpusdikbud', 'jutawan_kampung', 'CopySalsabila', 'tolakbigotnkri', 'smkncihampelas', 'Cahaya_Dfa', 'projonolsatu', 'bnpb', 'BoedakB99178454', 'ElcapitanoTotti', 'dyhbuya75', 'FarhanKamase24', 'Ranisor', 'Johan_Ar_', 'Cak_X01', 'OfficialSmkn', 'AbdulRochim_'})\n",
            "frozenset({'DenBagus123789', 'Nimmar7', 'erideulfess', 'matchaorvelvet', 'milik', 'pengarang', 'Jungkee_90', 'honeypieofhood', 'malalaiss', 'afafia', 'donatonut', 'ferascorp', 'chesartleina', 'yyuziiii', 'cermateguh', 'BakorFess', 'nokaatr', 'SirNetijen', 'gavihakim', 'annissaadhi', 'Kakang', 'Kumalaqolbu1', 'SiapaYaSi', 'peacha_hut', 'lia_ou', 'mayanggg3', 'putrialfiatur', 'donisahurus', 'collegemenfess', 'HiraokaMisha', 'siinunuuu', 'ImanudinIchsan', 'larassdwiw', 'hasilvisum', 'lildaddyson', 'khansaneira', 'Taveeshaa1', 'chloesannt', 'Zein', 'tyongee_', 'ohmybeautybank', 'tanyarlfes', 'r0nggo05', 'ibraheuheumm', 'Zein_abihasan', 'saviera_gayatri', 'haindriii_', 'Naunaback', 'syasyavli', 'eatchimkin', 'txtdaribogor', 'Askrlfess', 'M', 'Dionnysuss95', 'mengjeju', 'M_ninetySix_You', 'vmdfmfrmha', 'lvrsvtr', 'pawangnyaikon', 'hiipuppy', 'Kpopmap', 'windirestio', 'notursaiank', 'Dimasjoko12', 'LELETERBANGNIH', 'berburusales', 'Celine', 'bepesim', 'xxxfindme2', 'Wiilchaan', 'galihanggraito', 'vlhsybd', 'Reddayh', 'cautiousalien', 'matchaterenak', 'marsupelamee', 'CatheleyaTop', 'fallwithjae', 'ajeng', 'purpletaro9', 'callmefith', 'ShopeePay', 'haloOCTA', 'manusiakuatdd', 'ustadchen', 'ARarasw__10696', 'erlanggaasatrio', 'veaerv', 'claceolalice', 'Penghunibumi__0', 'jtojungwoo', '_memoryusang', 'jennieruby_26', 'nonacikalll', 'ocongBoyy', 'convomfs', '_soobinchoii', 'kesienji', 'capekbaper', 'ESPRESSODOPPlO', 'PramanaSirena', 'bliblidotcom', 'diandiin', 'imgoddessofgems', 'kikitteun', 'MainVillain__', 'whrbgus23', 'krnotyb', 'fleurieco_', 'oliiverrsky', 'AymanAlatas', 'ocxbigwin1', 'discountfess', 'yournameapalah', 'ambar_sekartyas', 'dmslhmyt', 'bobbytanayag', 'blubybcadigital', 'UGM', 'babyurbie', 'who0lesomevaaa', 'munaikg', 'pikachoou_', 'dhanissa_am', 'arty_nosi', 'canyoucallmeh', 'IMQueenzy_', 'romaensa', 'kdrama', 'starfess', 'htrikawan', 'Hal_Askar', 'wisnukatep', 'An3_yu', 'tre4surechild', 'fahmisabri14', 'flamendust', 'UyokBack', 'wooji___'})\n",
            "frozenset({'erickthohir', '16putiandamdewi', 'cantikaraisa17', 'heavenclouds___', 'KTHPR0', 'gustidewiagung', 'SIGuntukIDN', 'BUMNWAJOHADIR', 'MirantiCintada', 'BumnDprRapi', 'Denok95_', 'IciOriza09', 'C36H60O2', 'AbelleSelvira', 'pertamina', 'jopang_', '_NusantaraKu', 'BumnBeda', 'powlycute', 'BUMN_Banggai', 'mulyana59', 'BJKT3Terpercaya', 'Ramay4na', 'kemenBUMN', 'bankmandiri', 'ckamxg', 'inihaliza', 'disinitertawa', 'lovertamoy', 'imyourin', 'rayxla', 'KemenBUMN', 'B3doel___', 'BUMNPalembangku', 'AdellaChava', 'sendc0de', 'misaka_raisa', 'bumnbjmterampil', 'NDUT_GEMES', 'rekanseperjalan', 'Momiiem17', 'laiprilis', 'MerahPutih2024', 'nurekaptr', 'bumn_jkrt3_kuat', 'Darelezr', 'aku_rratu', 'Aprilia_wiji', 'colvdest', 'captmarvelllll', 'Nailazaara__', 'bumncirebonadil', 'InfoSeriyes', 'Sagita_Star', 'twuicei', 'k_surakarta', 'KementerianBUMN', 'ptmetukindo', 'injourneyID', 'bumn_smg_kuat', 'injourney', 'drynnade', 'NandaBaskarani', 'Rekind2R', 'cika17cantik', 'Bumn_toba_jago', 'MalaayuN', 'niaherandeh', 'skincareygy', 'VKB0Y', 'inisialM_fans', 'GoinvintyOne', 'MedanBumn', 'alookak1', 'bumndpsberdaya', 'pt_jamkrindo', 'bumn_srby_beda', 'anakburtt', 'Djantjik', 'abi_sasaLL', 'biasabiasaw', 'tonaytoni1', 'Rena_mareta', 'bankbri', 'jagemannn', 'TelkomIndonesia', 'BANKBRI_ID', 'BumnSbyRapi', 'bumn_SBYhadir3', 'bumn_mamuju', 'BumnTegal', 'mamavanenbas', 'AXA', 'RaudyaSavitri', 'MaharaniiiiS', 'sjrbergerak', 'kementerianbumn', 'LokoJoyo81', 'Julia_BSCF', 'selfmirror_', 'bumnsmgjitu1', 'bogorkuat', 'sisitivvi', 'theathxer', 'rekind_jkt_1', 'BUMN_Plm3_Utama', 'riyadisugeng167', 'greentaeeeee', 'BUMNJAMBITRAMP1', 'hyalcyon', 'xiaojeli', 'SoftWarNews', 'JatimBumn', 'peanvtss', 'boendasyl'})\n",
            "frozenset({'Nusa1945', 'desnatt', 'kitabisacom', 'BTSARMYINA', 'rarchitas', 'dFaraitody', 'cathysharon', 'flippingvalve', 'btsarmy', 'Bang2Jaya', 'rintis', 'wandaponika', 'erikaseo', '7btsupdates', 'b_yoem', 'bams', 'kingnyamjoon', 'kakbagja', 'Gimichan1721', 'jewbbvell', 'chizikook', 'Fahrihamzah', 'MAIAsangJUARA', 'EfendiEi', 'mincehaa', 'FarhanR67401483', 'Razzz', 'soen', 'David_Wijaya03', 'indonesiatechid', 'sepurbanter', 'kutang', 'AbangGemes3', 'Singgih', 'indjarv', 'WinaAgu23483147', 'txtdariojoll', 'Tiarapratomoo', 'susan1612', 'Ojol', 'NGPRSTY', 'glghtm', 'Vinapw26', 'LutfiOjol', 'AKU', 'Felix52535322', 'snsd_indo', 'Racunkpop19', 'TaliUdeng', 'terrrrtawan', 'Anwarbohebo', 'YuyunNisa9', 'erniqy', 'kimlaa10', 'Dede', 'aiiiiefa', 'lenteraanak', 'srh_myg12', 'coema_coemi', 'jeonfiiphoria01', 'yusuf', 'chuck_look', 'gibran', 'ShopeeID', 'abahadilah', 'pa2gha2', 'meytunn', 'xyvikth_', 'Me_Ameeraw', 'WagimanDeep212', 'laviedenoona', 'sugarcooky7', 'bad', 'aewin86', 'elpanjullo', 'RinaJ16022228', 'eriannisa12', 'ojol', 'PakkatDayak', 'kurawa', 'FahruRozzi17', 'susantylly', 'ngojekjauh', 'MochiSecret13', 'muhtauf09', 'b15275648', 'indomyfess', 'AhokDjarot'})\n",
            "frozenset({'rlytachrist', 'CaptainPeBe', 'bertpatz', 'gunauno', 'faruqsugito', 'alamshah696', 'VIVAnews', 'adewia', 'deni_cahyana', 'binakaros', 'erfandeltoro', 'asot_2012', 'Nengssolihat', 'Kang_M_irfan', 'chi', 'akwijayanto', '__mardoy', 'yenk_cleopatra', 'phoolannn', 'niez05', 'conquerme', 'AndryRezky', 'fendi_rzi', 'nia_nisa', 'irwan_august', 'sannanikita', 'MilaMawaddah', 'OsyMeidyEffendi', 'angga_aman', 'RianRmdhn', 'karmidarisa', 'rudwiandani', 'djatmiko1218', 'kangtoer', 'GemaIndonesia', 'NobyPranomo', 'achmad_marendes', 'vinalatte', 'ilhamhd59', 'starjogja', 'antaranews', 'Linggaandhikaa', 'budianto23', 'kompasdotcom', 'Allegria0313', 'rudy_bagonk', 'atiazizah', 'xplayers', 'Metro', 'SyilvtaNS', 'republikaonline', 'jandiwidia', 'syaifulanwar_PD', 'ajenglazuardini', 'dignoo', 'baguspranowo', 'MIdotcom', 'izatichoirina', 'anyuaa', 'medcom', 'ganitanurs', 'sawahndekcup', 'lailalays', 'simacanmerah', 'deemegha', 'kholismalik', 'IZ4LL', 'dezyana', 'hp_widodopoetra', 'siaganewsroom', 'noviyantoaji', 'Nia', 'jinsoo__han', 'Qbondz', 'rumahzakat', 'Jufffrieee', 'syams', 'addthis', 'obellito', 'Metro_TV', 'WindyAgustian', 'eva', 'RZ', 'onsteptoolate'})\n",
            "frozenset({'1qbalsaputra', 'prabowo', 'DwiMuchsin', 'denidkraider', 'zarazettirazr', 'Stevaniehuangg', 'AMT_Kepri', 'Ajiejalmi_alit', 'JotaKajen', 'NurulMuttaqien9', 'HerenaTiara', 'ir_turnip', 'kalong_medsos', 'RianSitanggan15', 'sarkawud', 'Delta', 'NingNon63245290', 'habiburokhman', 'ingrid', 'rgoestama', 'Billy', 'akhisuyanto', 'axdwin', 'dgLewa2011', 'SuarSaputra', 'Ndons', 'hahahaw___', 'fadlizon', 'arstpratiwiii_', 'nasution', 'BangEdiii', 'awmoyy', 'HaidarJusuf', 'firmanahmedinej', 'Ndons_Back', 'mojopahit', 'EvelynSalt_50', 'SantorinisSun', 'arifin', 'Gojekmilitan', 'koern373', 'BNatawijaya', 'Kemhan_RI', 'penkopassus', 'azissubekti', 'gerindra', 'Nurulkjo1', 'PardedeTuti', 'DPDRI', 'NomiaOvidia', 'faith_khalaf', 'IMRONBIAN', 'RakaAntony', 'Gerindra', 'deey210', 'Axdaxxxx', 'ardinia_zahidah', 'Khalish', 'Mak', 'Kentarockers', 'MaesaKomalasari', 'YanGuning2', 'alajagimana', 'Dahnilanzar', 'Kangjaill', 'rahmatsn', 'KabarFZ', 'Delta_tofu', 'fahiraidris', 'kkmanti', 'anggra', 'sandiuno', 'JesyAdinda', 'bani_qurtubi', 'QoirunnishaM1', 'Partai', 'ToxicDo666', 'JNE', 'the_cinta', 'AdamVelcro', 'parlinburman84'})\n",
            "frozenset({'dtsunia', 'Absofcknlutely7', 'diorlunette', 'MerahJingga92', 'fsun06___06', 'purapuraoptimis', 'diujunggelisah', 'stowbewryy', 'ayineahh1', 'xxexodeux', 'mademoiselleups', 'taetaehanii', 'kentangmekdi666', 'hudialfarich', 'rdoorf_', 'AmiMyg', 'sayangkuyeonjun', 'waifunicorobin', 'lxndri12', 'Ereshkigalr', 'fajararrofat99', 'hatzegopteryxxx', 'Saharaya_dreame', 'kunz887', 'mochaacinow', 'carlie', 'sailoreast', 'ONursayid', 'imstegosauruss', 'itsianida', 'cakuweyy', 'sayadulujamet', 'shitpostofsey', 'panggil', 'fearman', 'nolongeryoursss', 'adirasvi', 'adriennetta', 'sembravvut', 'yourpurpleneeds', 'theory1219', 'jenostax', 'namiaroraa', 'txtdrkuliner', 'WahyuAprian12', 'sweetasroses', 'Lyana082', 'uwuranus', 'Demianchael', 'akuxscara', 'jeontaesya', 'takeanaa', 'myshihokyu', 'raraiaia118', 'bonitanitamauls', 'RylZdX02', 'marklionm', 'wawanfa17', 'Gen_Zzzzzz', 'rezaaaezot', 'bucinJeykey16', 'tanyakanrl', 'vivieka18', 'Duduwong_', 'edleslicht', 'kezeyil', 'YourMajestiiiii', 'ERTERNlTY', 'iniakunnrahasia', 'dayliofmyself'})\n",
            "frozenset({'JokowaJr', 'soerjoadjigmail', 'bachrum', 'radixwp', 'Syyahrirsutan', 'bendolganteng', 'YogaAdrianyoga6', 'ocee', 'Winardi', 'still_hendro', 'FaridaAmalia233', 'Banser', 'JinNonik', 'AkhmadAli1402', 'Miduk17', 'davidpu68353534', 'DiptraD', 'korekbiasa', 'tockSelank', 'MadMax60653678', 'AmzarLatifAS', 'BoyId22', 'Apokrifa22', 'AlamTimur3', 'SidoarjoNu', 'katzedikke', 'Supri15817129', 'Jayandaru2020', 'balaputra', 'ekowboy2', 'mindlipstick', 'Blom', 'littlevixen', 'OrangDalam887', 'amun', 'zulfiarrahman', 'Bison239', 'DiposuroP', 'nahdlatululama', 'derpinho313', 'masiha', 'BarathaAtmadja', 'winniputry1', 'toServetoGive', 'kuasabu2', 'lestaribanara', 'ertigapewe1221', 'mamuiz', 'camat212', 'agama', 'langiiiitttt', 'JN', 'DakwahPBNU', 'aanlegitoro', 'kevhunt', 'JUN062022', 'anonapostate', 'MurtadhaOne1', 'Andiarief', 'cortana', 'LPBINU_SIDOARJO', 'chapunk', 'AswantGardapati', 'AsepIra44314224', 'Hotlan7bela', 'Triasss', 'Antie', 'txtdrwidia'})\n",
            "frozenset({'senirupa', 'PimenGabut', 'mucharam', 'gtawmaless', 'Fittrinuraeni', 'berbuatbaik', 'OverAhli', 'Tarwiyahtuti1', 'ujprstyo', 'AD1T_RG', 'BtsarmyPeduli', 'AREAJULID', 'TRANS7', 'AndiePeci', 'FWBESS', 'Ayah_Nahl', 'BungaDhara', 'FinallyErwin', 'ArthurSuwinto', 'devitamarta22', 'Sunflilyy', 'PSSI', 'SarifudinTjeng', 'ganafmargi', 'sweet17ten', 'syamsul_bf', 'TransvisionID', 'RajaBulud', 'PenikmatLibur', 'dimassse', 'agexo', 'WinJGR', 'WafaFauzan1', 'detik', 'nakrumahan', 'bobaykopett', 'nikutastick', 'annisaicho', 'BTS', 'kai121', 'nantihujan', 'republik_firman', 'dikaadikokk', 'pulangpisau', 'xoulmatcha', 'bpbdcianjur', 'jalur5_', 'Sholihi91167250', 'AnaAsna13', 'honda_cianjur', 'CNNIDdaily', 'AyoGerakBareng', 'detikcom', 'imanskj', 'rihardian_rian', 'seokjiniedn', 'ralyas94', 'minparkholy', 'rioaditomo', 'Sejahtera', 'Forty_OPlus', 'infodoodie', 'fitriaaa134', 'doel_riyadh', 'FDPxAstaroth', 'wahyoee', 'indah_inaaa'})\n",
            "frozenset({'ls_cianjur', 'CianjuranFest', 'LusyaLusyapurba', 'Radar', 'MIsezCianjur', 'cthigiri', 'pencarimasjid', 'hjwcilik', 'Noorhendriaa', 'ssefnum', 'zonanozz', 'dika_rungan', 'millaovie', 'ayurchmn', 'rumahkreatifGBR', 'AndyAbotz', 'Meiimeii_cece', 'KikiSudiana', 'EckyAwal', 'beritacianjur', 'tpri_cjr', 'sttpratamaadi', 'KampungFilms', 'zoNANozz', 'mollyylolly', 'BhagasWicaksono', 'GerakanPemuda_', 'jellynauvall', 'MIPALA', 'esarock', 'beungeutcloth', 'infocianjur', 'farhanpenyiar', 'officialVUG', 'Ekomaung', 'milanisti', 'LS', 'infopembangunan', 'hjwthekid', 'infocisels', 'v', 'CugenangPolsek', 'adhityadhea13', 'CCFCianjur', 'riyan_uzo', 'MilanistiOrId', 'rtantien', 'telanjurcianjur', 'RadarCianjur_', 'CCityChannel', 'AreaCianjur', 'RiantiDastiana', 'Yuke_farahdita', 'YudistiraWigan1', 'sapto_waluyo', 'faisal_ardan', 'negativisme', 'halleluhellyeah'})\n",
            "frozenset({'zuhairimisrawi', 'Gus', 'ariadddneee', 'Marimar', 'ulil', 'dr', 'Husen', 'bentargantinama', 'KitaBisaCom', 'Ibnu1Burdah', 'ilhamkhoiri', 'febriyan_id', 'DMASIV', 'ismailfahmi', 'veryvann', 'Nderenny', 'berlianidris', 'lilaccountz', 'jokopinurbo', 'salimafillah', 'dianira', 'tatisamhadi', 'delasalutee', 'Husen_Jafar', 'zaki', 'nousantarien', 'hnssktsr', 'Haidar', 'tirta', 'nftkompas', 'kompasmuda', 'aheryawan', 'sdnarm', 'IGC', 'Serdadulambar', 'Embun32817884', 'BPN', 'byuliart', 'MasAnNaas', 'BentaraBudaya', 'tomytrinugroho', 'hariankompas', 'tohpati', 'dewabudjana', 'DonAdam68', 'ipanglazuardi', 'Tantesumi', 'insanridho', 'herricahyadi', 'Ayang', 'na', 'malakmalakmal', 'aik_arif', 'LSBogor', 'dwikimic', 'fadlan_anam', 'HGargarin', 'KompasGramedia'})\n",
            "frozenset({'DaniJkye', 'dilvanina', 'aswathamat', 'paniiaxy', 'lyiaacx', 'rionooppa', 'EndarSrigiati', 'PutriDiana117', 'iinw9902', 'anisandr_', 'dinaaacx', 'pwrfectly', 'barbie_elea', 'odette77_', 'ninacahy1231', 'DikaHaytr', 'SheilaW08579083', 'Ciciliaa77_', 'GhaniJhun', 'Zena79327533', 'DaviraArfa', 'niaadx', 'RizkiYths', 'diiiikc', 'Mercede73082133', 'Ikrizalll', 'HunterSabotase', 'YugaNjs', 'deniwiii', 'raiiitr', 'Naila5Adzkiya', 'Jonnie14918941', 'AzaliaPutri117', 'JihanYarina', 'Azizahzee117', 'Hannaniiy', '0mutiara0', 'rejcent', 'regmlar', 'yeniixc', 'Oktariana_18', 'jenikiya', 'ekaswsw3211', 'riraiiixc', 'sunnyline5', 'Powerchann1_', 'typesih', 'RatnaJk', 'Wiznu', 'Bridget43759164', 'wiwaiii', 'LeebeUnique', 'Sherika87971372', 'RirinAnis2'})\n",
            "frozenset({'HelmiFelis', 'rahmaniarbaftim', 'biglivea', 'satriohendri', 'atokprihartono', '028Phs', 'recehanrezim', 'Alray35191903', 'jamilahrosdiana', 'alisyarief', 'bedhoelsz', 'SeeU2Morrow', 'blantik_pedhet1', 'HermanBudiSant4', 'akunkeenam212', 'acehasan76', 'KawuloLaredusun', 'JamesLi58668905', 'hipohan', 'AhmadBwg75', 'nafs_omang', 'L3laki', 'RYANKENCANA', 'RamzSoegih', 'deannova26', 'bob_ichsan', 'rahwan_asep', 'rudyjatmiko', 'ondel2wan_abud', 'Bams27735590', 'Muhammad', 'Tan', 'YoanAngelic', 'bhinkJava', 'HeryIdris5', 'herdiyanto_s', 'nan_priatna', 'DKIJakarta', 'ARisnawan82', 'sapto2112', 'Oedjhie2', 'KijogoPojok', 'PiakRaden', 'niluhdjelantik', 'humasjakfire', 'dprddkijakarta', 'IraSamsudin', 'Budiawan1985', 'Retno_HS2', 'NovalAssegaf', 'Hmmurahmurahhm2', 'Sudarya16171841', 'Mbah', 'MissKoral'})\n",
            "frozenset({'muhammadiyah', 'KCirebonmu', 'arifjamalimuis', 'lazismu', 'ponpesmusempor', 'lazismu_diy', 'kenapa', 'Muhammadiyah', 'comEN5jvr4zfL34', 'Jun', 'arifnur', 'LAZISMU', 'lazizmu', 'PPAisyiyah', 'blankbanget', 'theWorldOfLie', 'sahabatalfamart', '6961df9e4ab34c6', 'Tweets', 'lazismusala3', 'mdmcindonesia', 'absbandung', 'kemenpendidik', 'ukhtielya', 'metyu221', 'Sutrisn11901147', 'hendrik_ringo', 'zhifa_yusuf', 'jalanlurus05', 'PT', 'MDMCIndonesia', 'AlwinM12', 'jurdilselalu', 'majalahSM', 'kemenpendidikan', 'alfamart', 'ErikMuchsin', 'didiek', 'budhihermanto', 'kanankiri04', 'Lazismu', '_RyanKu', 'Cobain76946540', 'PCIMTaiwan', 'Zahzazahza1', 'Casper2986', 'pusdatin', 'putrisakera', 'maymarmas', 'CirebonMU', 'democrazymedia', 'netizenmu', 'AferoJepara'})\n",
            "frozenset({'al_thonie', 'mazmazoke', 'KabarBintaro', 'Kemendag', 'estuSSL', 'AnsorBdg', 'rstyldya', 'harmonisme', 'abdan2205', 'at_Frederich18', 'Ecko29502961', 'Ansor', 'blueskyline___', 'ansor', 'infoBMKGKaltim', 'mharisfauzi_', 'info_jabar', 'adyttt_punk', 'Gp_AnsorSewon', 'nucare', 'Mr_alung', 'ZUL', 'infobmkg', 'pwansorjatim', 'eddy', 'karantinaetk', 'Acitttttz', 'namoyak2020', 'Mr', 'pancehilde', 'perimerahjambu', 'CNNIndonesia', 'inilahdotcom', 'mohayyuk', 'skmskmskm9', 'RendyRamdhanie', 'KirnoKalis', 'srihastuti_m', 'iwanbossman', 'DefiraNC', '2ndBackstreet', 'EmanSuh37811519', 'VA014', 'Official', 'daniaku7', 'agathamey', 'wahyu_djanti88', 'Khoirul__Umam'})\n",
            "frozenset({'JabarTribun', 'Aroeem', 'INDONews_UP', 'TribunJabar_Id', 'tribunpontianak', 'Sugiyan33476949', 'rizall_bakry', 'MillaJsf', 'jehensa', 'sabumiku2', 'EndenPermana', 'deddyfrns1', 'tuk_aji', 'YouTube', 'EvaArlini', 'shibyanofficial', 'bimo_ignatius', 'cho2MLHC', 'Arvin_Cianjur', 'addiodansa', 'kangmas82', 'SNAFU_S', 'tribunbanten', 'faingerannn', 'frns_dedy', 'Mycity_co_id', 'Zul_Ham18', 'rkrijuara', 'aditya071191', 'pikiran_rakyat', 'txtdarisukabumi', 'MariaTo47844586', 'jubirtvofficial', 'AnimasiYudi', 'RiaRicis', 'KaEr74614793', 'flying_wings241', 'KoranTJVideo', 'sunnysan', 'ernawanganjar1', 'RkriSukabumi', 'chicohag', 'RyukenHerry', 'MarpaungRobi'})\n",
            "frozenset({'ChayankAlpha', 'kenjironagasak1', 'C', 'FSAMBO', 'M4TT4', 'VictoriaDanzG', 'C4kDeep', 'CIRANGRANGCITY', 'Speechless', 'Aliffqu', 'surasujaya', 'choymarkochoy', 'YulieNew', 'illness_dd3', 'BarisanOpOsisi', 'HidayatNatari', 'dwiki', 'Tak4daWaktu', 'mommy', 'baan', 'LuNaEndelia', 'SiiZek', 'REZIM', 'K0', 'Agustisyarif', 'bhar13f', 'TheLast007', 'Nungky2517', 'Janur', 'BakulJamu', '5oul4ntidote', 'ArieMutyara', 'Ratutiarasatu', 'zay', 'Detekt1f4ccount', 'bangSaid', 'YakAns1', 'nesia', 'nitarose38', 'BoN', 'HilFachruddin', 'Jul3aRhma3', 'B171Jakarta', 'ShiddiqueA'})\n",
            "frozenset({'likeauf', 'imamginanjar', 'laniseptiawati', 'asuventure', 'thursdayheroes', 'Ky_Rifkyy', 'munaditr', 'prim_onde', 'heysofie17', 'nerorisme', 'yulindaaa', 'ughiewicaksono', 'mandalamanda', 'erzanabila', 'sevenineshop', 'chrisphorus', 'LoveA_1996', 'lidiaindahp', 'sonynusantara', 'siunski', 'deviwulansari', 'andzanhekmatyar', 'infobdg', 'kec_sindang', 'Visckarazzaq', 'killlmongerr', 'helloechii', 'radewa', 'RmelaniR', 'PRFMnews', 'tamachelsea', 'IrfanMaultea', 'GoodCulture1', 'shinobu_kujo', 'AtikahRJ', 'AnDiLhamm', 'aulia_ulfah', 'dearinaa', 'bbinsa', 'khayz_indah', 'dearinadear', 'kekeoong', 'NISSAwardhani'})\n",
            "frozenset({'Ngadinopanser', 'mmunari77', 'SBYudhoyono', 'piki', 'EkaswaraS', 'dpcpdkabbogor', 'angedespoir5', 'AbuBaka44692480', 'farhaneffendy', 'PDemokrat', 'glfina', 'AdyPetra3', 'vanyamalia3', 'ken_barra', 'jaga', 'tempodotco', 'Erucakr4', 'Sean1724501685', 'dasaagustus88', 'irfanidris', 'AgusYudhoyono', 'Mincrak', 'khusnulkholik', 'tvOneNews', 'doriscode', 'MypMyp33657035', 'ajengcute16', 'Kenzu_001', 'Dadungkawuk41', 'yuniankrisno', 'Edhie', 'jovanltconsina', 'deaandriana', 'yangmi3prnew', 'FendiPurwanto13', 'panca66', 'boskiboski', 'blekatze', 'parddRirie', 'ekowidysaputro', 'lionelwel101817', 'Destangreys'})\n",
            "frozenset({'dmusriadi', 'amirhamzahisme', 'Titik39078729', 'NIAS2013', 'kifli127', 'aqua', 'andibudisa', 'UNDesign1453', 'Merimerssssssss', 'SiPinokio', 'theorca_v', 'Ida', 'arulsVB', 'Petrichore13', 'spacelao', 'JR', 'Jhonkosmik', 'idoelqueenie', 'MOCHAMADIWAN5', 'DianaMasayu', 'AntonPrasetyo24', 'n4n4121287', 'Pencerah___', 'Ndon08', 'SiBrewoxx', 'ZulRelly', 'EKY_2123', 'buywithbil', 'refanromi', 'sartificialint', 'Bismillaah1win', 'anginbisik', 'twit', 'iloponeds', 'BatuKepla', 'TRendusara', 'wira', 'bjakarta171'})\n",
            "frozenset({'CleoMore', 'Tyo', '51527B', 'Labirint6702311', 'ad3ira29', 'Onemore', 'Nuansa', 'BangJovi9', 'Mbobz17', 'yasmine', 'kharimakharima1', 'RESTY58831682', 'SasiKiron0', 'MS', 'JozRebel', 'SkullVectro', 'buddy', 'Rustodead', 'insannokturnal', 'Singa', 'Riri171717', 'gilang', 'BangUdi24536972', '72bedjo', 'LMichan', 'braytea', 'its', 'Yamadhipati', 'AraituLaki', 'DeepCak', 'Retas', 'DonVeRiz', 'pututpranoto1', 'p3j4l4n', 'agung7709', 'PelatihTidur'})\n",
            "frozenset({'hamzah_MM', 'jamaatunrohmah', 'ACTforHumanity', 'bobsntso', 'renisusanti21', 'luciamoerank', 'moehiel', 'annieperbowo', 'rcahyantari', 'ibnu', 'JogjaGENIC', 'ACT', 'bayugawtama', 'gami_46', 'zenrooney10', 'IslamicPhilant1', 'Richie_blessed', 'T_U_C', 'aris_wica', 'tyatiul', 'dinadef', 'palawa', 'IPM', 'olingols', 'ACTforhumanity', 'Anztique', 'yosuapratomo', 'Ariikuncoroto', 'kirana_chand', 'azimil', 'Efendy_', 'imwn', 'ayamsuhayam', 'bobsantosoo', 'kulimerah'})\n",
            "frozenset({'handygusfa', 'Ehhwisnu', 'lulutabiess', 'Lantunankisah1', 'kreyyik', 'AhmadAliR22', 'khaniiisaa', 'anggamaf_', 'imamamrullahhh', 'mytaee', 'Fikfinicky990', 'ariansyah', 'buxpenjahatt', 'idextratime', 'nonskyy17', 'theLoneliest52h', 'taurusannika', 'hnd202011', 'FitRan7588', 'sosmedkeras', 'infotwitwor', 'donipohan7', '_itsmeshaa', 'notedmas', 'Berisik', 'heavyrotat10n', 'lakuakukamuaku', 'regit', 'MataMalaikat_', 'diarynefa', 'Evaazza7'})\n",
            "frozenset({'windaremitasari', 'imnayyoung', 'Riza', 'baessuzyx', 'RP', 'chen_dool', 'pgnketemudoy', 'SungminSJIsMe', 'Ivonkawaii', 'Ikrimaamirah', 'Rani0696', 'Chocoysh', 'titaaoooo', 'rickrickaaa', 'de_light920506', 'abc', 'CIA2207', 'exR_SHNJonghyun', 'RMN_Ilham', 'shalsasya', '93tyx', 'RizaYusnizar', 'Chohyun8fi', 'namirru', 'nissatita', 'tiaraedyatami', 'dheanadzulqa', 'ERIXXXA__', 'iirrrraaa'})\n",
            "frozenset({'osaiwasao', 'Dennysiregar7', 'Candra4smara', 'GunRomli', 'ghezi19', 'monggokersooo', 'Efendy', 'Fachrul02487079', 'MsjHuang', 'lukman', 'M45Broo', 'AhJempol', 'Uki23', 'ekokunta', 'jakfar66', 'dewiirawan06', 'fahricesar', 'Tita83079013', 'JulBayur3', 'gexxKING', 'gexxKING_', 'ChusnulCh', 'NasutionHandi', 'prasmawon12', '303konsorsium', 'OlanSit41879845', 'kangdede78'})\n",
            "frozenset({'Febbbbriya', 'arieparikesit', 'Suldarmawan', 'meonwng', 'dhany1y4', 'Anyer', 'ijaydevgan', 'trigona', 'syukur', 'ichaltotwit', 'bude', 'RockersPanturra', 'izalrafif', 'IanSPCC', 'mas', 'Bemz', 'glennmars', 'Hilmi28', 'junzzdy', 'BacangSpecial', 'trogalko', 'Moehmuhidin', 'pandawoodz', 'Esbatulovers', 'Fiza', 'TxtFromBigBee'})\n",
            "frozenset({'SaulRaja', 'Deebiarinaja', 'kukuhnapaki', 'LFCIndonesia', 'sansans29', 'gerimisdingin', 'BetaKopites', 'worksfess', 'DiajengLrst', 'adelladellaide', 'DATP_Official', 'glrhn', 'Wariman', 'PenjahatGunung', 'Linda', 'davidnurbianto', 'xalianakrystal', 'hrdbacot', 'ezash', 'phomnatopadnap', 'LFC', 'khairinadiar', 'AsadPawana', 'yourrsse'})\n",
            "frozenset({'k4mutau', 'windb0y', 'Firmansyah___', 'DaryonoBMKG', '11Riyanto', 'anaanakbarw', 'bebetisme8', '99Selvifitriani', 'Setiawan6251ya1', 'pascalime_', 'mundhri03180616', 'MhazQhel', 'tyu874', 'setiawan6251', 'Iyan_KH', 'Eka94724895Eka', 'Yans60113781', 'gelora7uara', 'janunuary', 'ReflianiR', 'hafizh8397', 'Nagita86109486', 'YohanYulianto2', 'mpanjie'})\n",
            "frozenset({'cpbergas', 'koranFBdepok', 'PMIJawaTengah', 'rosihan_anwar', 'antonkurniawan', 'tajyasinmz', 'datshervy', 'dimas_nsw', 'Indomaret', 'provjateng', 'sarwapramana', 'cynthiamianaa', 'GoenawanPermadi', 'ptsgpjb', 'xshyne', 'ariefarrahman', 'KRi_kompak', 'ifrc', 'palangmerah', 'taganapdpanjang'})\n",
            "frozenset({'azaleale_', 'infonobarpersib', 'Nandapagi', 'addictesd', 'carewful', 'agilliaberysta3', 'moonylonely', 'convomf', 'congcorangkebon', 'asternesol', 'aik', 'Dongcha53105629', 'yourfavbipoo', 'OnlyForFajri', 'caseomaze', 'JMatip32', 'HisyamAz', 'windumuktiw', 'crowfllez', 'persib'})\n",
            "frozenset({'ResBangka', 'PolsekBagelen1', 'Satlantascmh', 'HumasPkp', 'HumasJambi', 'polripresisi', 'humaspoldajabar', 'PolresMerangin6', 'polseksumpang', 'polsekkdrkota1', 'humasrespwr', 'divisihumaspolr', 'humas', 'polres', 'polda', 'PolsekSoreang1', 'polsek_pmpk_bdg', 'BabelBid', 'HumasResmal'})\n",
            "frozenset({'PKS', 'FPKSDPRRI', 'Hasank12716313', 'salimsegaf', 'kotabogor', 'hnurwahid', 'pkscianjur', 'pksjabar', 'suandharu', 'PKS_PSREBO', 'PKSLumajang', 'PKSejahtera', 'aye37337085', 'web_bogorkita', 'CIANJUR', 'PKSJATIM', 'gayuhputra', 'diah', 'pkskotabogor'})\n",
            "frozenset({'_hellomike', 'Dhanie_Reano', 'graciellaregina', 'TIKuS', 'fitriHERLINE', 'hanna_68', 'ahn_njung', 'KRI_KenArok', 'ciungiung', 'TotokHartanto', 'ernastoelmend', 'palapabdg', 'BigAri', 'rafirachmandias', 'RachmandiasRafi', 'infobencana', 'PKNXXVIII', 'monictika'})\n",
            "frozenset({'jokgakLow', 'IlhamHusein12', 'eyeskyube', 'DhanniesN', 'DJ', 'wulandari_erian', 'EBuwani', 'aniesbaswedan', 'depe_76', 'buzzerMUI', 'HidalgoHarmen', 'Syapran', 'alextham878', 'Suge35903809', 'eedo', 'Asep71254288', 'MayaA62580468'})\n",
            "frozenset({'merapi', 'BerandaJogja', 'area_jogja', 'Beranda', 'kabarsleman', 'area', 'Upil', 'IniSleman', 'eventjogja', 'JogjaEvent', 'JogjaEventCal', 'halojogjakarta', 'infogodean', 'slemantv', 'JogjaUpdate', 'JogjaHangouts', 'halosleman'})\n",
            "frozenset({'Nyxries', 'anakitikot7', 'kchartsmaster', 'jungkook', 'geuIisj', 'najun', 'Wenzyes1', 'sariyuliani8', 'pallozahope', 'thvsg', 'vxnillaxx', 'JHNJN8', 'IsahBel94135345', 'NanangS98729335', '09jhope00', 'harujoooo', 'wifenyaYoongi'})\n",
            "frozenset({'SeputariNews', 'mnctrijaya', 'Hary', 'PerindoMuda', 'MNCNewsroom', 'DPPPerindo', 'okezonenews', 'SINDOnews', 'inewsdotid', 'OfficialiNewsTV', 'OfficialMNCNews', 'praburevolusi', 'Lintas_MNCTV', 'MNCupdate', 'PartaiPerindo', 'GTVID_News'})\n",
            "frozenset({'prevwtty', 'BTRXCiell', 'limerenzce', 'jenonlywan', 'hwangskys', '54ngchunim', 'Jenrin_', 'pastriankh', 'etherezal', 'avocaseung', 'Parisenyum', 'mongmeongie', 'punyafayie', 'sekaliduakaliah', 'smilyius', 'lumierinn'})\n",
            "frozenset({'jihantesti', 'Bigwin_will', 'zevrezka', 'adabigwin', 'Oselautbwn06', 'diek70', '0xGtawcpk', 'akunslalubigwin', 'kopipahitx', 'Bang', 'jihanicorn', 'BayakSuspend', '0xsza', 'Syazafa7', 'aprianiettie25'})\n",
            "frozenset({'sihombing_dean', 'anakpakbudi', 'Jeon675', 'ifdaladriann', 'c', 'Paman', 'Bantuinkamu3', 'lovusmthv', 'txtdrimedia', 'AhmadFachruroz6', 'sabunlux30', 'Haildi', 'Galiihhhh', 'readalfaridzi', 'mannaninibras'})\n",
            "frozenset({'Asyudi_45', 'msaid', 'janganmentang2', 'Beastmuggle', 'Asyudi', 'galembheang', 'Sergio_Fitz', 'wahyu', 'FamilyRANS', 'yuwantino12', 'Sri_nuryantiK', 'washabii22', 'Kobarian557987', 'encesutisna', 'RagilSemar'})\n",
            "frozenset({'ninisoolove', 'BBHLightsINA', 'hum', 'aeribase', 'savior1248', 'parkchanyeolina', 'weareoneEXO', 'fujiapriliany', 'RahmaNu87137429', '_xiuminmymine', 'doexoindonesia', 'ParkChanyeolINA', 'anna_baekhyuk', 'XbackINA'})\n",
            "frozenset({'MasAgus19859628', 'initehsusu22', 'Ridwan150787', 'petabencana', 'ans4175', 'sukabumi', 'luvecho', 'rriprograma3', 'repdem', 'FaridFik4', 'thecrabsholic', 'iamlegend80_dad', 'BNPB_Indonesia'})\n",
            "frozenset({'lolrivat', 'MODENAindonesia', 'idabagusarkarna', 'anandasukarlan', 'Liputan6SCTV', 'HabitatID', 'liputan6dotcom', 'vidiodotcom', 'CharisSigit', 'Ione_HanD', 'indraapurnamaa', 'viainpink', 'visitsiak'})\n",
            "frozenset({'SitiBal17563913', 'jkt', 'KangPlongo888', 'KsatriaRasydan', 'KsatriaKhaibar', 'marlina', 'jkt_AbpoGarnies', 'Garnies', 'emakayamm', 'tatakujiyati', 'Narti09268746', 'Driveronline15', 'Mulyati66171166'})\n",
            "frozenset({'kantahkabinhil', 'polsekprkda_smi', 'polreskabsukabu', 'Knthktmojokerto', 'KantahSijunjung', 'KantahKabKendal', 'let', 'kantahkotapku', 'MubaSattahti', 'HumasMuara', 'kementerian', 'polisi'})\n",
            "frozenset({'Carmen0121212', 'denisaolala', 'coo__s', 'Vivien_07007', 'MitsukoHaruka1', 'CoolJannah2', 'Toha_putraa', 'GallagherHeru', 'spagetiku', 'JeniAroon', 'anaseila489', 'WajahPribumi22'})\n"
          ]
        }
      ]
    },
    {
      "cell_type": "markdown",
      "source": [
        "**Berdasarkan output tersebut, didapat beberapa komunitas yang terdeteksi.**"
      ],
      "metadata": {
        "id": "Jp9UsaEkcs77"
      }
    },
    {
      "cell_type": "markdown",
      "source": [
        "## **7.4 Visualisasi Gephi**"
      ],
      "metadata": {
        "id": "1Yjv55t0dEEJ"
      }
    },
    {
      "cell_type": "markdown",
      "source": [
        "![picture](https://drive.google.com/uc?id=1KmjDDdTu2cszY8fq3Pc5jtqFHPgniXz9)"
      ],
      "metadata": {
        "id": "36rYCNHgKvlC"
      }
    },
    {
      "cell_type": "markdown",
      "source": [
        "**Dengan menggunakan gephi, didapatkan visualisasi graf seperti gambar di atas. Ukuran dari nodes yang ada disesuaikan dengan in-degree, sedangkan warna dari nodes berdasarkan modularity. Modularity ini dapat menunjukkan atau mendeteksi adanya komunitas dalam suatu jaringan. Nodes-nodes yang berwarna sama berada dalam satu komunitas yang sama.**\n",
        "\n",
        "**Berdasarkan gambar di atas, dapat kita lihat user yang berada dalam nodes dari yang terbesar urutannya adalah infoBMKG, jokowi, erickthohir, dan ridwan kamil. Artinya keempat user inilah yang banyak dimention oleh user lainnya dalam tweet mengenai gempa di Jawa Barat.**\n",
        "\n",
        "**Username @infoBMKG banyak dimention karena BMKG merupakan lembaga negara yang bergerak di bidang terkait gempa dan melakukan update mengenai gempa di Jawa Barat. Selanjutnya, username @jokowi merupakan Presiden RI sehingga respon dari beliau dinantikan oleh masyarakat. Kemudian, username @ridwankamil merupakan Gubernur Jawa Barat sehingga respon dari beliau pun dinantikan oleh masyarakat serta sebagai gubernur, username @ridwankamil banyak mengupdate informasi mengenai gempa di Jawa Barat. Terakhir, username @erickthohir adalah Menteri BUMN dan pada gempa Jawa Barat 2022, Erick Thohir mengunjungi secara langsung lokasi yang terdampak gempa.**\n",
        "\n",
        "**Selanjutnya, keempat user ini akan diteliti lebih lanjut untuk mengetahui alasan atau isi tweet dari user lain yang menyebutkan empat user di atas dalam tweetnya.**\n"
      ],
      "metadata": {
        "id": "c6o-JO2y-lZY"
      }
    },
    {
      "cell_type": "markdown",
      "source": [
        "### **@infoBMKG**\n",
        "\n",
        "User twitter lain me-mention akun @infoBMKG tentang:\n",
        "1. Harapan dan kekhawatiran agar tidak ada korban saat gempa dan tidak ada gempa susulan\n",
        "\n",
        "\"**@infoBMKG** Ya Allah sukabumi. Semoga ga ada gempa susulan. Aman aman aja\"\n",
        "\n",
        "2. Keadaan saat gempa\n",
        "\n",
        "\"**@infoBMKG** Ya Allah gue lagi mandi barusan, ternyata ada gempa di sukabumi Kerasa guncangannya sampe Bandung meskipun kecil\"\n",
        "3. Pertanyaan dan pemberitahuan saat ada gempa\n",
        "\n",
        "\"**@infoBMKG** Baru saja terasa gempa di Sukabumi lumayan terasa besar tapi hanya sekitar 1-2 detik. Kira-kira pusat episentrumnya di mana ya, min?\"\n",
        "4. Info gempa\n",
        "\n",
        "\"08.00 #InfoSonora  #Gempa Mag:3.5, 27-Nov-22 07:21:30 WIB, Lok:6.92 LS, 106.79 BT (Pusat gempa berada di darat 15 km Barat Daya kota Sukabumi), Kedlmn:10 Km Dirasakan (MMI) II - III Gunung Guruh, III Cibadak, II Bogor #BMKG **@infoBMKG**  https://t.co/nAYMXQV5bX\""
      ],
      "metadata": {
        "id": "84nJOCy0AFun"
      }
    },
    {
      "cell_type": "markdown",
      "source": [
        "### **@jokowi**\n",
        "\n",
        "User twitter lain me-mention akun @jokowi tentang:\n",
        "1. Presiden Joko Widodo meninjau langsung keadaan tempat yang terdampak gempa\n",
        "\n",
        "\"Presiden **@jokowi** Tinjau Dampak Gempa di Ponpes Darul Falah Cianjur  Presiden Joko Widodo meninjau Pondok Pesantren (Ponpes) Darul Falah, Desa Jambudipa, Kecamatan Warungkondang, Kabupaten Cianjur, dalam kunjungan kerjanya ke Provinsi Jawa Barat, pada Senin, 5 Desember 2022.  https://t.co/bGoVYJmvUl\"\n",
        "\n",
        "2. Adanya penyaluran donasi dari suatu lembaga\n",
        "\n",
        "\"Kegiatan penyaluran donasi bencana alam gempa Cianjur. Tim satgas bencana SMKN 1 Cihampelas memberikan secara langsung ke lokasi terdampak di kampung cugeunang yg merupakan daerah terparah dampak gempa. @cadisdik6 @disdik_jabar @ridwankamil @ata_lia **@jokowi**  https://t.co/xW0SLzsdna\"\n",
        "3. Pemberian bantuan oleh Presiden Joko Widodo\n",
        "\n",
        "\"Presiden **@jokowi** Beri Bantuan Korban Gempa Cianjur. Bantuan tsb terdiri atas Rp50 juta untuk rumah yg mengalami kerusakan berat, Rp25 juta untuk rumah yg mengalami kerusakan sedang, dan Rp10 juta untuk rumah yg mengalami kerusakan ringan.   https://t.co/qvNPjhmdjD\""
      ],
      "metadata": {
        "id": "0AZh9lecAMSL"
      }
    },
    {
      "cell_type": "markdown",
      "source": [
        "### **@erickthohir**\n",
        "\n",
        "User twitter lain me-mention akun @erickthohir tentang:\n",
        "1. Ajakan Menteri Erick Thohir untuk saling membantu warga terdampak gempa\n",
        "\n",
        "\"Menteri BUMN **@erickthohir** mengajak kepada seluruh pihak, khususnya Badan Usaha Milik Negara dan masyarakat untuk saling bergotong royong sebagai satu kesatuan keluarga besar, untuk membantu pemulihan dampak akibat bencana alam gempa bumi di Cianjur Jawa Barat. #BangkitBersamaET  https://t.co/4gJJPRPGR5\"\n",
        "\n",
        "2. Apresiasi masyarakat atas bantuan Erick Thohir\n",
        "\n",
        "\"Langkah cepat kak **@erickthohir** dengan #SatgasBencanaBUMN untuk membantu penanganan dampak gempa bumi di Cianjur Jawa Barat. #BangkitBersamaET\"\n",
        "\n",
        "3. Penyaluran bantuan secara langsung oleh Erick Thohir\n",
        "\n",
        "\"Sobat BUMN,  Untuk meringankan beban masya akat yang terdampak akibat gempa bumi di Cianjur, Jawa Barat **@erickthohir** turun langsung ke lokasi untuk menyalurkan bantuan.  #SatgasBencanaBUMN #BUMNuntukCianjur #InjourneyUntukCianjur  https://t.co/BVEqjGaM8d\""
      ],
      "metadata": {
        "id": "OyOTuqWvAMcS"
      }
    },
    {
      "cell_type": "markdown",
      "source": [
        "### **@ridwankamil**\n",
        "\n",
        "1. Kunjungan langsung Gubernur Jawa Barat Ridwan Kamil ke lokasi terdampak gempa Cianjur\n",
        "\n",
        "\"Hari ini (22/11) Presiden @jokowi dan Gubernur Jawa Barat **@ridwankamil** berkunjung ke Cianjur, Jawa Barat. Kedatangan Jokowi dan Ridwan Kamil untuk melihat langsung dampak dan korban gempa Cianjur. Setibanya di lokasi, Jokowi meninjau langsung dampak bencana gempa bumi.  https://t.co/dTKUdhYqs0\"\n",
        "\n",
        "2. Pemberian informasi dari Ridwan Kamil mengenai korban gempa\n",
        "\n",
        "\"Gubernur Jawa Barat **@ridwankamil** mengatakan ada penambahan korban jiwa dampak gempa 5,6 magnitudo di Kabupaten Cianjur, Jawa Barat, Senin (21/11). Menurutnya, tercatat hingga Senin malam jumlah korban meninggal bertambah menjadi 162 orang.    https://t.co/A57VmjzaIy  https://t.co/Mgz4ehWrrf\""
      ],
      "metadata": {
        "id": "KY7JUFHQAMkT"
      }
    },
    {
      "cell_type": "markdown",
      "source": [
        "# **8. Kesimpulan**"
      ],
      "metadata": {
        "id": "2oJlwol3vwk-"
      }
    },
    {
      "cell_type": "markdown",
      "source": [
        "1. **Tweet mengenai gempa cianjur paling banyak di tahun 2022 pada bulan November dan Desember.**\n",
        "2. **Pada bulan November, tweet mengenai gempa melonjak di tanggal 21 karena terjadi di gempa di tanggal 21 November 2022. Sedangkan tanggal-tanggal selanjutnya di bulan November mulai banyak tweet mengenai kerusakan, korban jiwa dan respon user terhadap gempa di Cianjur.**\n",
        "3. **Pada bulan Desember di tanggal 8 Desember tweet mengenai gempa melonjak akibat gempa yang terjadi di Sukabumi.**\n",
        "4. **Mayoritas 10 akun  yang sering tweet mengenai gempa di jawa barat adalah kanal berita serta akun yang meminta donasi bagi korban gempa.**\n",
        "5. **Terdapat beberapa akun yang berperan penting dalam penyebaran informasi mengenai gempa Jawa Barat, yaitu akun @infobmkg, @jokowi, @erickthohir, dan @ridwankamil.**"
      ],
      "metadata": {
        "id": "s37pvCdZJQOV"
      }
    },
    {
      "cell_type": "markdown",
      "source": [
        "# **Pembagian Tugas**"
      ],
      "metadata": {
        "id": "j75CkI72vp7h"
      }
    },
    {
      "cell_type": "markdown",
      "source": [
        "**Pembuatan Laporan**\n",
        "* Pendahuluan : Vania\n",
        "*   Pengambilan data dari twitter : Anatasya, Athaya, Chika, Vania\n",
        "*   Preprocessing Data Type, Duplicated, Missing Value : Anatasya, Athaya, Vania\n",
        "* Preprocessing Tokenizing : Athaya\n",
        "* Preprocessing Normalisasi : Vania\n",
        "* Preprocessing Filtering : Anatasya\n",
        "* Preprocessing Stemming : Chika\n",
        "* EDA : Anatasya, Athaya, Vania\n",
        "* Visualisasi teks voyant : Anatasya, Athaya, Chika, Vania\n",
        "* Meneliti kata Posko : Athaya\n",
        "* Meneliti kata Korban : Anatasya\n",
        "* Meneliti kata Donasi : Vania\n",
        "* Meneliti kata Rusak : Chika\n",
        "* SNA pembentukan graf : Athaya\n",
        "* SNA Centrality Analysis : Anatasya, Athaya, Chika, Vania\n",
        "* SNA Community : Anatasya, Athaya, Chika, Vania\n",
        "* Visualisasi Gephy : Anatasya, Vania\n",
        "* Meneliti mention @infoBMKG : Athaya\n",
        "* Meneliti mention @jokowi : Vania\n",
        "* Meneliti mention @erickthohir : Anatasya\n",
        "* Meneliti mention @ridwankamil : Chika\n",
        "* Kesimpulan : Anatasya\n",
        "\n",
        "**Pembuatan PPT**\n",
        "* Pendahuluan : Vania\n",
        "* Pengambilan data : Athaya\n",
        "* Import package dan data : Athaya\n",
        "* Feature Selection : Vania\n",
        "* Preprocessing : Vania (data type, normalisasi), Athaya (tokenizing), Anatasya (duplicate, missing value, filtering), Chika (stemming)\n",
        "* EDA : Chika\n",
        "* Visualisasi teks : Anatasya (korban), Athaya(visualisasi, posko), Chika (rusak), Vania (donasi)\n",
        "* SNA : Anatasya (centrality analysis, centrality by degree, closeness centrality), Athaya (inisialisasi graph, fungsi centrality, betweeness centrality, eigenvector centrality, @infoBMKG), Vania (community detection, visualisasi gephy, @jokowi, @erickthohir, @ridwankamil)\n",
        "* Kesimpulan : Anatasya\n",
        "\n",
        "\n",
        "**Video Presentasi**\n",
        "* Pendahuluan : Athaya\n",
        "* Pengambilan data : Athaya\n",
        "* Import package dan data : Athaya\n",
        "* Feature Selection : Athaya\n",
        "* Preprocessing : Athaya\n",
        "* EDA : Athaya dan Vania\n",
        "* Visualisasi teks : Vania\n",
        "* SNA : Chika dan Anatasya\n",
        "* Kesimpulan : Anatasya"
      ],
      "metadata": {
        "id": "y1KWIMsw8Zj5"
      }
    },
    {
      "cell_type": "code",
      "source": [],
      "metadata": {
        "id": "C5zu9wQoLhbu"
      },
      "execution_count": null,
      "outputs": []
    }
  ]
}